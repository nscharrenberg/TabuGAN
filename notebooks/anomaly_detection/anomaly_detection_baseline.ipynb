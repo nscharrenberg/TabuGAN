{
 "cells": [
  {
   "cell_type": "markdown",
   "id": "adec873977739281",
   "metadata": {
    "collapsed": false
   },
   "source": [
    "# Baseline Anomaly Detection\n",
    "\n",
    "This notebok is a baseline method for anomaly detection and a first experiment into the approach that we are trying to integrate."
   ]
  },
  {
   "cell_type": "markdown",
   "id": "46d3052845538f43",
   "metadata": {
    "collapsed": false
   },
   "source": [
    "## Load Dependencies"
   ]
  },
  {
   "cell_type": "code",
   "execution_count": 1,
   "id": "initial_id",
   "metadata": {
    "ExecuteTime": {
     "end_time": "2024-04-30T10:17:52.691597Z",
     "start_time": "2024-04-30T10:17:50.272618Z"
    }
   },
   "outputs": [],
   "source": [
    "from pycaret.datasets import get_data\n",
    "from pycaret.anomaly import *\n",
    "import pandas as pd\n",
    "from sklearn.model_selection import train_test_split"
   ]
  },
  {
   "cell_type": "code",
   "execution_count": 2,
   "outputs": [],
   "source": [
    "SEED = 42"
   ],
   "metadata": {
    "collapsed": false,
    "ExecuteTime": {
     "end_time": "2024-04-30T10:17:52.703962100Z",
     "start_time": "2024-04-30T10:17:52.694965100Z"
    }
   },
   "id": "aa87759daf9c54a9"
  },
  {
   "cell_type": "markdown",
   "id": "a319f226288e3e12",
   "metadata": {
    "collapsed": false
   },
   "source": [
    "## Loading Data"
   ]
  },
  {
   "cell_type": "code",
   "execution_count": 3,
   "id": "d0678d09683d579e",
   "metadata": {
    "collapsed": false,
    "ExecuteTime": {
     "end_time": "2024-04-30T10:17:52.758508200Z",
     "start_time": "2024-04-30T10:17:52.698965700Z"
    }
   },
   "outputs": [],
   "source": [
    "df = pd.read_csv('../../datasets/income/adult.csv')\n",
    "df = df.drop(['fnlwgt'], axis=1)\n",
    "# df = get_data('anomaly')"
   ]
  },
  {
   "cell_type": "code",
   "execution_count": 4,
   "outputs": [],
   "source": [
    "train_df, test_df = train_test_split(df, test_size=0.05, random_state=SEED)\n",
    "\n",
    "new_record = {\n",
    "    'age': 200,\n",
    "    'workclass': 'State-gov',\n",
    "    'education': 'Some-college',\n",
    "    'education.num': 13,\n",
    "    'marital.status': 'Married-civ-spouse',\n",
    "    'occupation': 'Tech-support',\n",
    "    'relationship': 'wife',\n",
    "    'race': 'Black',\n",
    "    'sex': 'Male',\n",
    "    'capital.gain': 90000,\n",
    "    'capital.loss': 100,\n",
    "    'hours.per.week': 170,\n",
    "    'native.country': 'United-States',\n",
    "    'income': '<=50K'\n",
    "}\n",
    "\n",
    "new_record1 = {\n",
    "    'age': 12,\n",
    "    'workclass': 'State-gov',\n",
    "    'education': 'Some-college',\n",
    "    'education.num': 13,\n",
    "    'marital.status': 'Married-civ-spouse',\n",
    "    'occupation': 'Tech-support',\n",
    "    'relationship': 'wife',\n",
    "    'race': 'Black',\n",
    "    'sex': 'Male',\n",
    "    'capital.gain': 90000,\n",
    "    'capital.loss': 100,\n",
    "    'hours.per.week': 170,\n",
    "    'native.country': 'United-States',\n",
    "    'income': '<=50K'\n",
    "}\n",
    "\n",
    "# new_record = {\n",
    "#     'age': 1000,\n",
    "#     'relationship': 'wife',\n",
    "#     'sex': 'Male',\n",
    "# }\n",
    "\n",
    "test_df = pd.concat([test_df, pd.DataFrame([new_record, new_record1])], ignore_index=True)"
   ],
   "metadata": {
    "collapsed": false,
    "ExecuteTime": {
     "end_time": "2024-04-30T10:17:52.774107500Z",
     "start_time": "2024-04-30T10:17:52.765802100Z"
    }
   },
   "id": "5369c6e855ab303a"
  },
  {
   "cell_type": "markdown",
   "id": "a9da65da58199b6d",
   "metadata": {
    "collapsed": false
   },
   "source": [
    "## Setup Pipeline"
   ]
  },
  {
   "cell_type": "code",
   "execution_count": 5,
   "id": "6bb28f807ee7420f",
   "metadata": {
    "collapsed": false,
    "ExecuteTime": {
     "end_time": "2024-04-30T10:17:54.106569800Z",
     "start_time": "2024-04-30T10:17:52.777109400Z"
    }
   },
   "outputs": [
    {
     "data": {
      "text/plain": "<IPython.core.display.HTML object>",
      "text/html": ""
     },
     "metadata": {},
     "output_type": "display_data"
    }
   ],
   "source": [
    "s = setup(train_df, session_id=SEED, max_encoding_ohe=0)"
   ]
  },
  {
   "cell_type": "markdown",
   "source": [
    "## Creating a Model"
   ],
   "metadata": {
    "collapsed": false
   },
   "id": "e2f383889e5434e9"
  },
  {
   "cell_type": "code",
   "execution_count": 6,
   "outputs": [
    {
     "data": {
      "text/plain": "                                        Name  \\\nID                                             \nabod            Angle-base Outlier Detection   \ncluster       Clustering-Based Local Outlier   \ncof         Connectivity-Based Local Outlier   \niforest                     Isolation Forest   \nhistogram  Histogram-based Outlier Detection   \nknn             K-Nearest Neighbors Detector   \nlof                     Local Outlier Factor   \nsvm                   One-class SVM detector   \npca             Principal Component Analysis   \nmcd           Minimum Covariance Determinant   \nsod               Subspace Outlier Detection   \nsos             Stochastic Outlier Selection   \n\n                                                  Reference  \nID                                                           \nabod                                  pyod.models.abod.ABOD  \ncluster    pycaret.internal.patches.pyod.CBLOFForceToDouble  \ncof                                     pyod.models.cof.COF  \niforest                         pyod.models.iforest.IForest  \nhistogram                             pyod.models.hbos.HBOS  \nknn                                     pyod.models.knn.KNN  \nlof                                     pyod.models.lof.LOF  \nsvm                                 pyod.models.ocsvm.OCSVM  \npca                                     pyod.models.pca.PCA  \nmcd                                     pyod.models.mcd.MCD  \nsod                                     pyod.models.sod.SOD  \nsos                                     pyod.models.sos.SOS  ",
      "text/html": "<div>\n<style scoped>\n    .dataframe tbody tr th:only-of-type {\n        vertical-align: middle;\n    }\n\n    .dataframe tbody tr th {\n        vertical-align: top;\n    }\n\n    .dataframe thead th {\n        text-align: right;\n    }\n</style>\n<table border=\"1\" class=\"dataframe\">\n  <thead>\n    <tr style=\"text-align: right;\">\n      <th></th>\n      <th>Name</th>\n      <th>Reference</th>\n    </tr>\n    <tr>\n      <th>ID</th>\n      <th></th>\n      <th></th>\n    </tr>\n  </thead>\n  <tbody>\n    <tr>\n      <th>abod</th>\n      <td>Angle-base Outlier Detection</td>\n      <td>pyod.models.abod.ABOD</td>\n    </tr>\n    <tr>\n      <th>cluster</th>\n      <td>Clustering-Based Local Outlier</td>\n      <td>pycaret.internal.patches.pyod.CBLOFForceToDouble</td>\n    </tr>\n    <tr>\n      <th>cof</th>\n      <td>Connectivity-Based Local Outlier</td>\n      <td>pyod.models.cof.COF</td>\n    </tr>\n    <tr>\n      <th>iforest</th>\n      <td>Isolation Forest</td>\n      <td>pyod.models.iforest.IForest</td>\n    </tr>\n    <tr>\n      <th>histogram</th>\n      <td>Histogram-based Outlier Detection</td>\n      <td>pyod.models.hbos.HBOS</td>\n    </tr>\n    <tr>\n      <th>knn</th>\n      <td>K-Nearest Neighbors Detector</td>\n      <td>pyod.models.knn.KNN</td>\n    </tr>\n    <tr>\n      <th>lof</th>\n      <td>Local Outlier Factor</td>\n      <td>pyod.models.lof.LOF</td>\n    </tr>\n    <tr>\n      <th>svm</th>\n      <td>One-class SVM detector</td>\n      <td>pyod.models.ocsvm.OCSVM</td>\n    </tr>\n    <tr>\n      <th>pca</th>\n      <td>Principal Component Analysis</td>\n      <td>pyod.models.pca.PCA</td>\n    </tr>\n    <tr>\n      <th>mcd</th>\n      <td>Minimum Covariance Determinant</td>\n      <td>pyod.models.mcd.MCD</td>\n    </tr>\n    <tr>\n      <th>sod</th>\n      <td>Subspace Outlier Detection</td>\n      <td>pyod.models.sod.SOD</td>\n    </tr>\n    <tr>\n      <th>sos</th>\n      <td>Stochastic Outlier Selection</td>\n      <td>pyod.models.sos.SOS</td>\n    </tr>\n  </tbody>\n</table>\n</div>"
     },
     "execution_count": 6,
     "metadata": {},
     "output_type": "execute_result"
    }
   ],
   "source": [
    "models()"
   ],
   "metadata": {
    "collapsed": false,
    "ExecuteTime": {
     "end_time": "2024-04-30T10:17:54.120540700Z",
     "start_time": "2024-04-30T10:17:54.100578Z"
    }
   },
   "id": "39bc27c93a70dae"
  },
  {
   "cell_type": "markdown",
   "source": [
    "semi-working:\n",
    "- cluster\n",
    "- knn\n",
    "- lof\n",
    "- svm (kind of and takes much longer)\n",
    "- pca"
   ],
   "metadata": {
    "collapsed": false
   },
   "id": "70d3408808447408"
  },
  {
   "cell_type": "code",
   "execution_count": 69,
   "id": "4bb490afe4a2498b",
   "metadata": {
    "collapsed": false,
    "ExecuteTime": {
     "end_time": "2024-04-30T11:23:04.682958600Z",
     "start_time": "2024-04-30T11:23:04.140039500Z"
    }
   },
   "outputs": [
    {
     "data": {
      "text/plain": "                                                                    \n                                                                    \nInitiated  . . . . . . . . . . . . . . . . . .              13:23:04\nStatus     . . . . . . . . . . . . . . . . . .  Loading Dependencies\nEstimator  . . . . . . . . . . . . . . . . . .     Compiling Library",
      "text/html": "<div>\n<style scoped>\n    .dataframe tbody tr th:only-of-type {\n        vertical-align: middle;\n    }\n\n    .dataframe tbody tr th {\n        vertical-align: top;\n    }\n\n    .dataframe thead th {\n        text-align: right;\n    }\n</style>\n<table border=\"1\" class=\"dataframe\">\n  <thead>\n    <tr style=\"text-align: right;\">\n      <th></th>\n      <th></th>\n      <th></th>\n    </tr>\n    <tr>\n      <th></th>\n      <th></th>\n      <th></th>\n    </tr>\n  </thead>\n  <tbody>\n    <tr>\n      <th>Initiated</th>\n      <td>. . . . . . . . . . . . . . . . . .</td>\n      <td>13:23:04</td>\n    </tr>\n    <tr>\n      <th>Status</th>\n      <td>. . . . . . . . . . . . . . . . . .</td>\n      <td>Loading Dependencies</td>\n    </tr>\n    <tr>\n      <th>Estimator</th>\n      <td>. . . . . . . . . . . . . . . . . .</td>\n      <td>Compiling Library</td>\n    </tr>\n  </tbody>\n</table>\n</div>"
     },
     "metadata": {},
     "output_type": "display_data"
    },
    {
     "data": {
      "text/plain": "<IPython.core.display.HTML object>",
      "text/html": ""
     },
     "metadata": {},
     "output_type": "display_data"
    },
    {
     "data": {
      "text/plain": "Processing:   0%|          | 0/3 [00:00<?, ?it/s]",
      "application/vnd.jupyter.widget-view+json": {
       "version_major": 2,
       "version_minor": 0,
       "model_id": "4b5292cd796b4c6cad06ba7e97fdcb4a"
      }
     },
     "metadata": {},
     "output_type": "display_data"
    }
   ],
   "source": [
    "iforest = create_model('pca', fraction=1e-3)"
   ]
  },
  {
   "cell_type": "code",
   "execution_count": 70,
   "outputs": [],
   "source": [
    "predictions = predict_model(iforest, data=test_df)"
   ],
   "metadata": {
    "collapsed": false,
    "ExecuteTime": {
     "end_time": "2024-04-30T11:23:04.715116200Z",
     "start_time": "2024-04-30T11:23:04.640735600Z"
    }
   },
   "id": "83e9d27348d600ba"
  },
  {
   "cell_type": "code",
   "execution_count": 71,
   "outputs": [],
   "source": [
    "sorted_predictions = predictions.sort_values(by=['Anomaly', 'Anomaly_Score'], ascending=[False, False])"
   ],
   "metadata": {
    "collapsed": false,
    "ExecuteTime": {
     "end_time": "2024-04-30T11:23:04.715116200Z",
     "start_time": "2024-04-30T11:23:04.670094100Z"
    }
   },
   "id": "c358be1a1bdebe8f"
  },
  {
   "cell_type": "code",
   "execution_count": 72,
   "outputs": [
    {
     "data": {
      "text/plain": "        age  workclass_0  workclass_1  education_0  education_1  \\\n1629  200.0          0.0          2.0          0.0          3.0   \n1630   12.0          0.0          2.0          0.0          3.0   \n8      28.0          0.0          1.0          1.0          2.0   \n532    52.0          0.0          1.0          0.0          2.0   \n1439   38.0          0.0          1.0          2.0          4.0   \n...     ...          ...          ...          ...          ...   \n1114   46.0          0.0          1.0          0.0          2.0   \n1351   37.0          0.0          1.0          0.0          3.0   \n1575   29.0          0.0          1.0          0.0          2.0   \n1109   41.0          0.0          1.0          0.0          2.0   \n1047   48.0          0.0          1.0          0.0          2.0   \n\n      education.num  marital.status_0  marital.status_1  occupation_0  \\\n1629           13.0               0.0               1.0           0.0   \n1630           13.0               0.0               1.0           0.0   \n8               4.0               0.0               1.0           2.0   \n532             9.0               0.0               1.0           1.0   \n1439           15.0               0.0               1.0           0.0   \n...             ...               ...               ...           ...   \n1114            9.0               0.0               1.0           1.0   \n1351           10.0               0.0               1.0           1.0   \n1575            9.0               0.0               1.0           1.0   \n1109            9.0               0.0               1.0           1.0   \n1047            9.0               0.0               1.0           1.0   \n\n      occupation_1  ...  sex  capital.gain  capital.loss  hours.per.week  \\\n1629           2.0  ...  1.0       90000.0         100.0           170.0   \n1630           2.0  ...  1.0       90000.0         100.0           170.0   \n8              2.0  ...  1.0           0.0        2179.0            40.0   \n532            3.0  ...  1.0       99999.0           0.0            40.0   \n1439           1.0  ...  1.0       99999.0           0.0            70.0   \n...            ...  ...  ...           ...           ...             ...   \n1114           3.0  ...  1.0           0.0           0.0            40.0   \n1351           2.0  ...  1.0           0.0           0.0            40.0   \n1575           2.0  ...  1.0           0.0           0.0            40.0   \n1109           3.0  ...  1.0           0.0           0.0            40.0   \n1047           2.0  ...  1.0           0.0           0.0            40.0   \n\n      native.country_0  native.country_1  native.country_2  income  Anomaly  \\\n1629               0.0               0.0               1.0     0.0        1   \n1630               0.0               0.0               1.0     0.0        1   \n8                  0.0               2.0               4.0     0.0        0   \n532                0.0               2.0               1.0     1.0        0   \n1439               0.0               0.0               1.0     1.0        0   \n...                ...               ...               ...     ...      ...   \n1114               0.0               0.0               1.0     0.0        0   \n1351               0.0               0.0               1.0     0.0        0   \n1575               0.0               0.0               1.0     0.0        0   \n1109               0.0               0.0               1.0     0.0        0   \n1047               0.0               0.0               1.0     0.0        0   \n\n      Anomaly_Score  \n1629   16295.577252  \n1630   13292.176419  \n8      11817.081949  \n532    11725.439188  \n1439   11618.036580  \n...             ...  \n1114    1842.538405  \n1351    1807.696330  \n1575    1806.824217  \n1109    1799.024523  \n1047    1788.136511  \n\n[1631 rows x 24 columns]",
      "text/html": "<div>\n<style scoped>\n    .dataframe tbody tr th:only-of-type {\n        vertical-align: middle;\n    }\n\n    .dataframe tbody tr th {\n        vertical-align: top;\n    }\n\n    .dataframe thead th {\n        text-align: right;\n    }\n</style>\n<table border=\"1\" class=\"dataframe\">\n  <thead>\n    <tr style=\"text-align: right;\">\n      <th></th>\n      <th>age</th>\n      <th>workclass_0</th>\n      <th>workclass_1</th>\n      <th>education_0</th>\n      <th>education_1</th>\n      <th>education.num</th>\n      <th>marital.status_0</th>\n      <th>marital.status_1</th>\n      <th>occupation_0</th>\n      <th>occupation_1</th>\n      <th>...</th>\n      <th>sex</th>\n      <th>capital.gain</th>\n      <th>capital.loss</th>\n      <th>hours.per.week</th>\n      <th>native.country_0</th>\n      <th>native.country_1</th>\n      <th>native.country_2</th>\n      <th>income</th>\n      <th>Anomaly</th>\n      <th>Anomaly_Score</th>\n    </tr>\n  </thead>\n  <tbody>\n    <tr>\n      <th>1629</th>\n      <td>200.0</td>\n      <td>0.0</td>\n      <td>2.0</td>\n      <td>0.0</td>\n      <td>3.0</td>\n      <td>13.0</td>\n      <td>0.0</td>\n      <td>1.0</td>\n      <td>0.0</td>\n      <td>2.0</td>\n      <td>...</td>\n      <td>1.0</td>\n      <td>90000.0</td>\n      <td>100.0</td>\n      <td>170.0</td>\n      <td>0.0</td>\n      <td>0.0</td>\n      <td>1.0</td>\n      <td>0.0</td>\n      <td>1</td>\n      <td>16295.577252</td>\n    </tr>\n    <tr>\n      <th>1630</th>\n      <td>12.0</td>\n      <td>0.0</td>\n      <td>2.0</td>\n      <td>0.0</td>\n      <td>3.0</td>\n      <td>13.0</td>\n      <td>0.0</td>\n      <td>1.0</td>\n      <td>0.0</td>\n      <td>2.0</td>\n      <td>...</td>\n      <td>1.0</td>\n      <td>90000.0</td>\n      <td>100.0</td>\n      <td>170.0</td>\n      <td>0.0</td>\n      <td>0.0</td>\n      <td>1.0</td>\n      <td>0.0</td>\n      <td>1</td>\n      <td>13292.176419</td>\n    </tr>\n    <tr>\n      <th>8</th>\n      <td>28.0</td>\n      <td>0.0</td>\n      <td>1.0</td>\n      <td>1.0</td>\n      <td>2.0</td>\n      <td>4.0</td>\n      <td>0.0</td>\n      <td>1.0</td>\n      <td>2.0</td>\n      <td>2.0</td>\n      <td>...</td>\n      <td>1.0</td>\n      <td>0.0</td>\n      <td>2179.0</td>\n      <td>40.0</td>\n      <td>0.0</td>\n      <td>2.0</td>\n      <td>4.0</td>\n      <td>0.0</td>\n      <td>0</td>\n      <td>11817.081949</td>\n    </tr>\n    <tr>\n      <th>532</th>\n      <td>52.0</td>\n      <td>0.0</td>\n      <td>1.0</td>\n      <td>0.0</td>\n      <td>2.0</td>\n      <td>9.0</td>\n      <td>0.0</td>\n      <td>1.0</td>\n      <td>1.0</td>\n      <td>3.0</td>\n      <td>...</td>\n      <td>1.0</td>\n      <td>99999.0</td>\n      <td>0.0</td>\n      <td>40.0</td>\n      <td>0.0</td>\n      <td>2.0</td>\n      <td>1.0</td>\n      <td>1.0</td>\n      <td>0</td>\n      <td>11725.439188</td>\n    </tr>\n    <tr>\n      <th>1439</th>\n      <td>38.0</td>\n      <td>0.0</td>\n      <td>1.0</td>\n      <td>2.0</td>\n      <td>4.0</td>\n      <td>15.0</td>\n      <td>0.0</td>\n      <td>1.0</td>\n      <td>0.0</td>\n      <td>1.0</td>\n      <td>...</td>\n      <td>1.0</td>\n      <td>99999.0</td>\n      <td>0.0</td>\n      <td>70.0</td>\n      <td>0.0</td>\n      <td>0.0</td>\n      <td>1.0</td>\n      <td>1.0</td>\n      <td>0</td>\n      <td>11618.036580</td>\n    </tr>\n    <tr>\n      <th>...</th>\n      <td>...</td>\n      <td>...</td>\n      <td>...</td>\n      <td>...</td>\n      <td>...</td>\n      <td>...</td>\n      <td>...</td>\n      <td>...</td>\n      <td>...</td>\n      <td>...</td>\n      <td>...</td>\n      <td>...</td>\n      <td>...</td>\n      <td>...</td>\n      <td>...</td>\n      <td>...</td>\n      <td>...</td>\n      <td>...</td>\n      <td>...</td>\n      <td>...</td>\n      <td>...</td>\n    </tr>\n    <tr>\n      <th>1114</th>\n      <td>46.0</td>\n      <td>0.0</td>\n      <td>1.0</td>\n      <td>0.0</td>\n      <td>2.0</td>\n      <td>9.0</td>\n      <td>0.0</td>\n      <td>1.0</td>\n      <td>1.0</td>\n      <td>3.0</td>\n      <td>...</td>\n      <td>1.0</td>\n      <td>0.0</td>\n      <td>0.0</td>\n      <td>40.0</td>\n      <td>0.0</td>\n      <td>0.0</td>\n      <td>1.0</td>\n      <td>0.0</td>\n      <td>0</td>\n      <td>1842.538405</td>\n    </tr>\n    <tr>\n      <th>1351</th>\n      <td>37.0</td>\n      <td>0.0</td>\n      <td>1.0</td>\n      <td>0.0</td>\n      <td>3.0</td>\n      <td>10.0</td>\n      <td>0.0</td>\n      <td>1.0</td>\n      <td>1.0</td>\n      <td>2.0</td>\n      <td>...</td>\n      <td>1.0</td>\n      <td>0.0</td>\n      <td>0.0</td>\n      <td>40.0</td>\n      <td>0.0</td>\n      <td>0.0</td>\n      <td>1.0</td>\n      <td>0.0</td>\n      <td>0</td>\n      <td>1807.696330</td>\n    </tr>\n    <tr>\n      <th>1575</th>\n      <td>29.0</td>\n      <td>0.0</td>\n      <td>1.0</td>\n      <td>0.0</td>\n      <td>2.0</td>\n      <td>9.0</td>\n      <td>0.0</td>\n      <td>1.0</td>\n      <td>1.0</td>\n      <td>2.0</td>\n      <td>...</td>\n      <td>1.0</td>\n      <td>0.0</td>\n      <td>0.0</td>\n      <td>40.0</td>\n      <td>0.0</td>\n      <td>0.0</td>\n      <td>1.0</td>\n      <td>0.0</td>\n      <td>0</td>\n      <td>1806.824217</td>\n    </tr>\n    <tr>\n      <th>1109</th>\n      <td>41.0</td>\n      <td>0.0</td>\n      <td>1.0</td>\n      <td>0.0</td>\n      <td>2.0</td>\n      <td>9.0</td>\n      <td>0.0</td>\n      <td>1.0</td>\n      <td>1.0</td>\n      <td>3.0</td>\n      <td>...</td>\n      <td>1.0</td>\n      <td>0.0</td>\n      <td>0.0</td>\n      <td>40.0</td>\n      <td>0.0</td>\n      <td>0.0</td>\n      <td>1.0</td>\n      <td>0.0</td>\n      <td>0</td>\n      <td>1799.024523</td>\n    </tr>\n    <tr>\n      <th>1047</th>\n      <td>48.0</td>\n      <td>0.0</td>\n      <td>1.0</td>\n      <td>0.0</td>\n      <td>2.0</td>\n      <td>9.0</td>\n      <td>0.0</td>\n      <td>1.0</td>\n      <td>1.0</td>\n      <td>2.0</td>\n      <td>...</td>\n      <td>1.0</td>\n      <td>0.0</td>\n      <td>0.0</td>\n      <td>40.0</td>\n      <td>0.0</td>\n      <td>0.0</td>\n      <td>1.0</td>\n      <td>0.0</td>\n      <td>0</td>\n      <td>1788.136511</td>\n    </tr>\n  </tbody>\n</table>\n<p>1631 rows × 24 columns</p>\n</div>"
     },
     "execution_count": 72,
     "metadata": {},
     "output_type": "execute_result"
    }
   ],
   "source": [
    "sorted_predictions"
   ],
   "metadata": {
    "collapsed": false,
    "ExecuteTime": {
     "end_time": "2024-04-30T11:23:04.718112700Z",
     "start_time": "2024-04-30T11:23:04.674393100Z"
    }
   },
   "id": "1294d85b062e6703"
  },
  {
   "cell_type": "code",
   "execution_count": 73,
   "outputs": [
    {
     "data": {
      "text/plain": "        age  workclass_0  workclass_1  education_0  education_1  \\\n1630   12.0          0.0          2.0          0.0          3.0   \n1372   17.0          0.0          1.0          1.0          0.0   \n1116   17.0          0.0          3.0          3.0          1.0   \n1306   17.0          1.0          0.0          2.0          2.0   \n1408   17.0          0.0          1.0          3.0          1.0   \n...     ...          ...          ...          ...          ...   \n975    83.0          0.0          4.0          0.0          2.0   \n834    84.0          1.0          0.0          0.0          3.0   \n362    90.0          0.0          1.0          0.0          2.0   \n1093   90.0          0.0          4.0          0.0          2.0   \n1629  200.0          0.0          2.0          0.0          3.0   \n\n      education.num  marital.status_0  marital.status_1  occupation_0  \\\n1630           13.0               0.0               1.0           0.0   \n1372            7.0               0.0               4.0           1.0   \n1116            8.0               0.0               4.0           1.0   \n1306            6.0               0.0               4.0           0.0   \n1408            8.0               0.0               4.0           1.0   \n...             ...               ...               ...           ...   \n975             9.0               0.0               2.0           1.0   \n834            10.0               0.0               1.0           0.0   \n362             9.0               0.0               2.0           1.0   \n1093            9.0               0.0               4.0           1.0   \n1629           13.0               0.0               1.0           0.0   \n\n      occupation_1  ...  sex  capital.gain  capital.loss  hours.per.week  \\\n1630           2.0  ...  1.0       90000.0         100.0           170.0   \n1372           2.0  ...  1.0           0.0        1721.0            15.0   \n1116           0.0  ...  0.0           0.0           0.0            25.0   \n1306           4.0  ...  1.0           0.0           0.0            12.0   \n1408           2.0  ...  1.0           0.0           0.0            16.0   \n...            ...  ...  ...           ...           ...             ...   \n975            3.0  ...  1.0           0.0           0.0             8.0   \n834            4.0  ...  1.0           0.0           0.0            35.0   \n362            4.0  ...  1.0           0.0           0.0            99.0   \n1093           3.0  ...  1.0        2964.0           0.0            12.0   \n1629           2.0  ...  1.0       90000.0         100.0           170.0   \n\n      native.country_0  native.country_1  native.country_2  income  Anomaly  \\\n1630               0.0               0.0               1.0     0.0        1   \n1372               0.0               0.0               1.0     0.0        0   \n1116               0.0               0.0               1.0     0.0        0   \n1306               0.0               0.0               1.0     0.0        0   \n1408               0.0               0.0               1.0     0.0        0   \n...                ...               ...               ...     ...      ...   \n975                0.0               0.0               1.0     0.0        0   \n834                0.0               0.0               1.0     1.0        0   \n362                0.0               0.0               1.0     0.0        0   \n1093               0.0               0.0               1.0     0.0        0   \n1629               0.0               0.0               1.0     0.0        1   \n\n      Anomaly_Score  \n1630   13292.176419  \n1372    5015.218119  \n1116    4902.576798  \n1306    4867.224053  \n1408    4543.627224  \n...             ...  \n975     4546.402620  \n834     4496.845092  \n362     5269.078130  \n1093    4814.952240  \n1629   16295.577252  \n\n[1631 rows x 24 columns]",
      "text/html": "<div>\n<style scoped>\n    .dataframe tbody tr th:only-of-type {\n        vertical-align: middle;\n    }\n\n    .dataframe tbody tr th {\n        vertical-align: top;\n    }\n\n    .dataframe thead th {\n        text-align: right;\n    }\n</style>\n<table border=\"1\" class=\"dataframe\">\n  <thead>\n    <tr style=\"text-align: right;\">\n      <th></th>\n      <th>age</th>\n      <th>workclass_0</th>\n      <th>workclass_1</th>\n      <th>education_0</th>\n      <th>education_1</th>\n      <th>education.num</th>\n      <th>marital.status_0</th>\n      <th>marital.status_1</th>\n      <th>occupation_0</th>\n      <th>occupation_1</th>\n      <th>...</th>\n      <th>sex</th>\n      <th>capital.gain</th>\n      <th>capital.loss</th>\n      <th>hours.per.week</th>\n      <th>native.country_0</th>\n      <th>native.country_1</th>\n      <th>native.country_2</th>\n      <th>income</th>\n      <th>Anomaly</th>\n      <th>Anomaly_Score</th>\n    </tr>\n  </thead>\n  <tbody>\n    <tr>\n      <th>1630</th>\n      <td>12.0</td>\n      <td>0.0</td>\n      <td>2.0</td>\n      <td>0.0</td>\n      <td>3.0</td>\n      <td>13.0</td>\n      <td>0.0</td>\n      <td>1.0</td>\n      <td>0.0</td>\n      <td>2.0</td>\n      <td>...</td>\n      <td>1.0</td>\n      <td>90000.0</td>\n      <td>100.0</td>\n      <td>170.0</td>\n      <td>0.0</td>\n      <td>0.0</td>\n      <td>1.0</td>\n      <td>0.0</td>\n      <td>1</td>\n      <td>13292.176419</td>\n    </tr>\n    <tr>\n      <th>1372</th>\n      <td>17.0</td>\n      <td>0.0</td>\n      <td>1.0</td>\n      <td>1.0</td>\n      <td>0.0</td>\n      <td>7.0</td>\n      <td>0.0</td>\n      <td>4.0</td>\n      <td>1.0</td>\n      <td>2.0</td>\n      <td>...</td>\n      <td>1.0</td>\n      <td>0.0</td>\n      <td>1721.0</td>\n      <td>15.0</td>\n      <td>0.0</td>\n      <td>0.0</td>\n      <td>1.0</td>\n      <td>0.0</td>\n      <td>0</td>\n      <td>5015.218119</td>\n    </tr>\n    <tr>\n      <th>1116</th>\n      <td>17.0</td>\n      <td>0.0</td>\n      <td>3.0</td>\n      <td>3.0</td>\n      <td>1.0</td>\n      <td>8.0</td>\n      <td>0.0</td>\n      <td>4.0</td>\n      <td>1.0</td>\n      <td>0.0</td>\n      <td>...</td>\n      <td>0.0</td>\n      <td>0.0</td>\n      <td>0.0</td>\n      <td>25.0</td>\n      <td>0.0</td>\n      <td>0.0</td>\n      <td>1.0</td>\n      <td>0.0</td>\n      <td>0</td>\n      <td>4902.576798</td>\n    </tr>\n    <tr>\n      <th>1306</th>\n      <td>17.0</td>\n      <td>1.0</td>\n      <td>0.0</td>\n      <td>2.0</td>\n      <td>2.0</td>\n      <td>6.0</td>\n      <td>0.0</td>\n      <td>4.0</td>\n      <td>0.0</td>\n      <td>4.0</td>\n      <td>...</td>\n      <td>1.0</td>\n      <td>0.0</td>\n      <td>0.0</td>\n      <td>12.0</td>\n      <td>0.0</td>\n      <td>0.0</td>\n      <td>1.0</td>\n      <td>0.0</td>\n      <td>0</td>\n      <td>4867.224053</td>\n    </tr>\n    <tr>\n      <th>1408</th>\n      <td>17.0</td>\n      <td>0.0</td>\n      <td>1.0</td>\n      <td>3.0</td>\n      <td>1.0</td>\n      <td>8.0</td>\n      <td>0.0</td>\n      <td>4.0</td>\n      <td>1.0</td>\n      <td>2.0</td>\n      <td>...</td>\n      <td>1.0</td>\n      <td>0.0</td>\n      <td>0.0</td>\n      <td>16.0</td>\n      <td>0.0</td>\n      <td>0.0</td>\n      <td>1.0</td>\n      <td>0.0</td>\n      <td>0</td>\n      <td>4543.627224</td>\n    </tr>\n    <tr>\n      <th>...</th>\n      <td>...</td>\n      <td>...</td>\n      <td>...</td>\n      <td>...</td>\n      <td>...</td>\n      <td>...</td>\n      <td>...</td>\n      <td>...</td>\n      <td>...</td>\n      <td>...</td>\n      <td>...</td>\n      <td>...</td>\n      <td>...</td>\n      <td>...</td>\n      <td>...</td>\n      <td>...</td>\n      <td>...</td>\n      <td>...</td>\n      <td>...</td>\n      <td>...</td>\n      <td>...</td>\n    </tr>\n    <tr>\n      <th>975</th>\n      <td>83.0</td>\n      <td>0.0</td>\n      <td>4.0</td>\n      <td>0.0</td>\n      <td>2.0</td>\n      <td>9.0</td>\n      <td>0.0</td>\n      <td>2.0</td>\n      <td>1.0</td>\n      <td>3.0</td>\n      <td>...</td>\n      <td>1.0</td>\n      <td>0.0</td>\n      <td>0.0</td>\n      <td>8.0</td>\n      <td>0.0</td>\n      <td>0.0</td>\n      <td>1.0</td>\n      <td>0.0</td>\n      <td>0</td>\n      <td>4546.402620</td>\n    </tr>\n    <tr>\n      <th>834</th>\n      <td>84.0</td>\n      <td>1.0</td>\n      <td>0.0</td>\n      <td>0.0</td>\n      <td>3.0</td>\n      <td>10.0</td>\n      <td>0.0</td>\n      <td>1.0</td>\n      <td>0.0</td>\n      <td>4.0</td>\n      <td>...</td>\n      <td>1.0</td>\n      <td>0.0</td>\n      <td>0.0</td>\n      <td>35.0</td>\n      <td>0.0</td>\n      <td>0.0</td>\n      <td>1.0</td>\n      <td>1.0</td>\n      <td>0</td>\n      <td>4496.845092</td>\n    </tr>\n    <tr>\n      <th>362</th>\n      <td>90.0</td>\n      <td>0.0</td>\n      <td>1.0</td>\n      <td>0.0</td>\n      <td>2.0</td>\n      <td>9.0</td>\n      <td>0.0</td>\n      <td>2.0</td>\n      <td>1.0</td>\n      <td>4.0</td>\n      <td>...</td>\n      <td>1.0</td>\n      <td>0.0</td>\n      <td>0.0</td>\n      <td>99.0</td>\n      <td>0.0</td>\n      <td>0.0</td>\n      <td>1.0</td>\n      <td>0.0</td>\n      <td>0</td>\n      <td>5269.078130</td>\n    </tr>\n    <tr>\n      <th>1093</th>\n      <td>90.0</td>\n      <td>0.0</td>\n      <td>4.0</td>\n      <td>0.0</td>\n      <td>2.0</td>\n      <td>9.0</td>\n      <td>0.0</td>\n      <td>4.0</td>\n      <td>1.0</td>\n      <td>3.0</td>\n      <td>...</td>\n      <td>1.0</td>\n      <td>2964.0</td>\n      <td>0.0</td>\n      <td>12.0</td>\n      <td>0.0</td>\n      <td>0.0</td>\n      <td>1.0</td>\n      <td>0.0</td>\n      <td>0</td>\n      <td>4814.952240</td>\n    </tr>\n    <tr>\n      <th>1629</th>\n      <td>200.0</td>\n      <td>0.0</td>\n      <td>2.0</td>\n      <td>0.0</td>\n      <td>3.0</td>\n      <td>13.0</td>\n      <td>0.0</td>\n      <td>1.0</td>\n      <td>0.0</td>\n      <td>2.0</td>\n      <td>...</td>\n      <td>1.0</td>\n      <td>90000.0</td>\n      <td>100.0</td>\n      <td>170.0</td>\n      <td>0.0</td>\n      <td>0.0</td>\n      <td>1.0</td>\n      <td>0.0</td>\n      <td>1</td>\n      <td>16295.577252</td>\n    </tr>\n  </tbody>\n</table>\n<p>1631 rows × 24 columns</p>\n</div>"
     },
     "execution_count": 73,
     "metadata": {},
     "output_type": "execute_result"
    }
   ],
   "source": [
    "sorted_predictions1 = predictions.sort_values(by=['age', 'Anomaly', 'Anomaly_Score'], ascending=[True, False, False])\n",
    "sorted_predictions1"
   ],
   "metadata": {
    "collapsed": false,
    "ExecuteTime": {
     "end_time": "2024-04-30T11:23:04.928131700Z",
     "start_time": "2024-04-30T11:23:04.797412400Z"
    }
   },
   "id": "eeff316e625e8375"
  },
  {
   "cell_type": "code",
   "execution_count": 11,
   "outputs": [],
   "source": [],
   "metadata": {
    "collapsed": false,
    "ExecuteTime": {
     "end_time": "2024-04-30T10:17:55.476275300Z",
     "start_time": "2024-04-30T10:17:55.463221700Z"
    }
   },
   "id": "3084cef9b81505dd"
  }
 ],
 "metadata": {
  "kernelspec": {
   "display_name": "Python 3 (ipykernel)",
   "language": "python",
   "name": "python3"
  },
  "language_info": {
   "codemirror_mode": {
    "name": "ipython",
    "version": 3
   },
   "file_extension": ".py",
   "mimetype": "text/x-python",
   "name": "python",
   "nbconvert_exporter": "python",
   "pygments_lexer": "ipython3",
   "version": "3.11.4"
  }
 },
 "nbformat": 4,
 "nbformat_minor": 5
}
