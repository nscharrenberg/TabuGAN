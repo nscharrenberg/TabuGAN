{
 "cells": [
  {
   "cell_type": "code",
   "execution_count": 31,
   "id": "initial_id",
   "metadata": {
    "collapsed": true,
    "ExecuteTime": {
     "end_time": "2024-05-12T14:23:48.020965Z",
     "start_time": "2024-05-12T14:23:43.159823Z"
    }
   },
   "outputs": [],
   "source": [
    "import pandas as pd\n",
    "from sklearn.model_selection import train_test_split\n",
    "\n",
    "from notebooks.anomaly_detection.models.autoencoder_model import AutoencoderModel\n",
    "from notebooks.anomaly_detection.models.dbscan_clustering_model import DBSCANClusteringModel\n",
    "from notebooks.anomaly_detection.models.isolated_forest_model import IsolatedForestModel"
   ]
  },
  {
   "cell_type": "code",
   "outputs": [],
   "source": [
    "SEED = 42"
   ],
   "metadata": {
    "collapsed": false,
    "ExecuteTime": {
     "end_time": "2024-05-12T14:17:51.673352Z",
     "start_time": "2024-05-12T14:17:51.670791Z"
    }
   },
   "id": "8f198e851f860a67",
   "execution_count": 2
  },
  {
   "cell_type": "markdown",
   "source": [
    "## Loading the Data\n",
    "First we'll load in the dataset that we want to use. \n",
    "For this use-case we'll use the adult income consensus dataset."
   ],
   "metadata": {
    "collapsed": false
   },
   "id": "827248028717b463"
  },
  {
   "cell_type": "code",
   "outputs": [
    {
     "data": {
      "text/plain": "   age workclass  fnlwgt     education  education.num marital.status  \\\n0   90         ?   77053       HS-grad              9        Widowed   \n1   82   Private  132870       HS-grad              9        Widowed   \n2   66         ?  186061  Some-college             10        Widowed   \n3   54   Private  140359       7th-8th              4       Divorced   \n4   41   Private  264663  Some-college             10      Separated   \n\n          occupation   relationship   race     sex  capital.gain  \\\n0                  ?  Not-in-family  White  Female             0   \n1    Exec-managerial  Not-in-family  White  Female             0   \n2                  ?      Unmarried  Black  Female             0   \n3  Machine-op-inspct      Unmarried  White  Female             0   \n4     Prof-specialty      Own-child  White  Female             0   \n\n   capital.loss  hours.per.week native.country income  \n0          4356              40  United-States  <=50K  \n1          4356              18  United-States  <=50K  \n2          4356              40  United-States  <=50K  \n3          3900              40  United-States  <=50K  \n4          3900              40  United-States  <=50K  ",
      "text/html": "<div>\n<style scoped>\n    .dataframe tbody tr th:only-of-type {\n        vertical-align: middle;\n    }\n\n    .dataframe tbody tr th {\n        vertical-align: top;\n    }\n\n    .dataframe thead th {\n        text-align: right;\n    }\n</style>\n<table border=\"1\" class=\"dataframe\">\n  <thead>\n    <tr style=\"text-align: right;\">\n      <th></th>\n      <th>age</th>\n      <th>workclass</th>\n      <th>fnlwgt</th>\n      <th>education</th>\n      <th>education.num</th>\n      <th>marital.status</th>\n      <th>occupation</th>\n      <th>relationship</th>\n      <th>race</th>\n      <th>sex</th>\n      <th>capital.gain</th>\n      <th>capital.loss</th>\n      <th>hours.per.week</th>\n      <th>native.country</th>\n      <th>income</th>\n    </tr>\n  </thead>\n  <tbody>\n    <tr>\n      <th>0</th>\n      <td>90</td>\n      <td>?</td>\n      <td>77053</td>\n      <td>HS-grad</td>\n      <td>9</td>\n      <td>Widowed</td>\n      <td>?</td>\n      <td>Not-in-family</td>\n      <td>White</td>\n      <td>Female</td>\n      <td>0</td>\n      <td>4356</td>\n      <td>40</td>\n      <td>United-States</td>\n      <td>&lt;=50K</td>\n    </tr>\n    <tr>\n      <th>1</th>\n      <td>82</td>\n      <td>Private</td>\n      <td>132870</td>\n      <td>HS-grad</td>\n      <td>9</td>\n      <td>Widowed</td>\n      <td>Exec-managerial</td>\n      <td>Not-in-family</td>\n      <td>White</td>\n      <td>Female</td>\n      <td>0</td>\n      <td>4356</td>\n      <td>18</td>\n      <td>United-States</td>\n      <td>&lt;=50K</td>\n    </tr>\n    <tr>\n      <th>2</th>\n      <td>66</td>\n      <td>?</td>\n      <td>186061</td>\n      <td>Some-college</td>\n      <td>10</td>\n      <td>Widowed</td>\n      <td>?</td>\n      <td>Unmarried</td>\n      <td>Black</td>\n      <td>Female</td>\n      <td>0</td>\n      <td>4356</td>\n      <td>40</td>\n      <td>United-States</td>\n      <td>&lt;=50K</td>\n    </tr>\n    <tr>\n      <th>3</th>\n      <td>54</td>\n      <td>Private</td>\n      <td>140359</td>\n      <td>7th-8th</td>\n      <td>4</td>\n      <td>Divorced</td>\n      <td>Machine-op-inspct</td>\n      <td>Unmarried</td>\n      <td>White</td>\n      <td>Female</td>\n      <td>0</td>\n      <td>3900</td>\n      <td>40</td>\n      <td>United-States</td>\n      <td>&lt;=50K</td>\n    </tr>\n    <tr>\n      <th>4</th>\n      <td>41</td>\n      <td>Private</td>\n      <td>264663</td>\n      <td>Some-college</td>\n      <td>10</td>\n      <td>Separated</td>\n      <td>Prof-specialty</td>\n      <td>Own-child</td>\n      <td>White</td>\n      <td>Female</td>\n      <td>0</td>\n      <td>3900</td>\n      <td>40</td>\n      <td>United-States</td>\n      <td>&lt;=50K</td>\n    </tr>\n  </tbody>\n</table>\n</div>"
     },
     "execution_count": 3,
     "metadata": {},
     "output_type": "execute_result"
    }
   ],
   "source": [
    "df = pd.read_csv('../../datasets/income/adult.csv')\n",
    "df.head()"
   ],
   "metadata": {
    "collapsed": false,
    "ExecuteTime": {
     "end_time": "2024-05-12T14:17:51.732453Z",
     "start_time": "2024-05-12T14:17:51.674304Z"
    }
   },
   "id": "883ed8efa5b28926",
   "execution_count": 3
  },
  {
   "cell_type": "markdown",
   "source": [
    "After inspection, we decided to remove the `fnlwgt` column from the data, as there is no concrete description of what these values indicate.\n",
    "It might translate to `Final Weight` as a weight used to indicate some metric of the corresponding instance. However, as we do not know what it is exactly, how it is computed (if at all), we decided to remove it."
   ],
   "metadata": {
    "collapsed": false
   },
   "id": "8a05830f9b81ccfe"
  },
  {
   "cell_type": "code",
   "outputs": [],
   "source": [
    "df = df.drop(['fnlwgt'], axis=1)"
   ],
   "metadata": {
    "collapsed": false,
    "ExecuteTime": {
     "end_time": "2024-05-12T14:17:51.740890Z",
     "start_time": "2024-05-12T14:17:51.733462Z"
    }
   },
   "id": "68beb99c67a70dbb",
   "execution_count": 4
  },
  {
   "cell_type": "markdown",
   "source": [
    "We have some categorical data that needs to be encoded into such a way that the models can understand it.\n",
    "For this approach, we'll use simple one hot encoding."
   ],
   "metadata": {
    "collapsed": false
   },
   "id": "5d23012196c92c86"
  },
  {
   "cell_type": "code",
   "outputs": [],
   "source": [
    "df = pd.get_dummies(df)"
   ],
   "metadata": {
    "collapsed": false,
    "ExecuteTime": {
     "end_time": "2024-05-12T14:17:51.788986Z",
     "start_time": "2024-05-12T14:17:51.742898Z"
    }
   },
   "id": "8759487e879fecb0",
   "execution_count": 5
  },
  {
   "cell_type": "code",
   "outputs": [
    {
     "data": {
      "text/plain": "   age  education.num  capital.gain  capital.loss  hours.per.week  \\\n0   90              9             0          4356              40   \n1   82              9             0          4356              18   \n2   66             10             0          4356              40   \n3   54              4             0          3900              40   \n4   41             10             0          3900              40   \n\n   workclass_?  workclass_Federal-gov  workclass_Local-gov  \\\n0         True                  False                False   \n1        False                  False                False   \n2         True                  False                False   \n3        False                  False                False   \n4        False                  False                False   \n\n   workclass_Never-worked  workclass_Private  ...  native.country_Scotland  \\\n0                   False              False  ...                    False   \n1                   False               True  ...                    False   \n2                   False              False  ...                    False   \n3                   False               True  ...                    False   \n4                   False               True  ...                    False   \n\n   native.country_South  native.country_Taiwan  native.country_Thailand  \\\n0                 False                  False                    False   \n1                 False                  False                    False   \n2                 False                  False                    False   \n3                 False                  False                    False   \n4                 False                  False                    False   \n\n   native.country_Trinadad&Tobago  native.country_United-States  \\\n0                           False                          True   \n1                           False                          True   \n2                           False                          True   \n3                           False                          True   \n4                           False                          True   \n\n   native.country_Vietnam  native.country_Yugoslavia  income_<=50K  \\\n0                   False                      False          True   \n1                   False                      False          True   \n2                   False                      False          True   \n3                   False                      False          True   \n4                   False                      False          True   \n\n   income_>50K  \n0        False  \n1        False  \n2        False  \n3        False  \n4        False  \n\n[5 rows x 109 columns]",
      "text/html": "<div>\n<style scoped>\n    .dataframe tbody tr th:only-of-type {\n        vertical-align: middle;\n    }\n\n    .dataframe tbody tr th {\n        vertical-align: top;\n    }\n\n    .dataframe thead th {\n        text-align: right;\n    }\n</style>\n<table border=\"1\" class=\"dataframe\">\n  <thead>\n    <tr style=\"text-align: right;\">\n      <th></th>\n      <th>age</th>\n      <th>education.num</th>\n      <th>capital.gain</th>\n      <th>capital.loss</th>\n      <th>hours.per.week</th>\n      <th>workclass_?</th>\n      <th>workclass_Federal-gov</th>\n      <th>workclass_Local-gov</th>\n      <th>workclass_Never-worked</th>\n      <th>workclass_Private</th>\n      <th>...</th>\n      <th>native.country_Scotland</th>\n      <th>native.country_South</th>\n      <th>native.country_Taiwan</th>\n      <th>native.country_Thailand</th>\n      <th>native.country_Trinadad&amp;Tobago</th>\n      <th>native.country_United-States</th>\n      <th>native.country_Vietnam</th>\n      <th>native.country_Yugoslavia</th>\n      <th>income_&lt;=50K</th>\n      <th>income_&gt;50K</th>\n    </tr>\n  </thead>\n  <tbody>\n    <tr>\n      <th>0</th>\n      <td>90</td>\n      <td>9</td>\n      <td>0</td>\n      <td>4356</td>\n      <td>40</td>\n      <td>True</td>\n      <td>False</td>\n      <td>False</td>\n      <td>False</td>\n      <td>False</td>\n      <td>...</td>\n      <td>False</td>\n      <td>False</td>\n      <td>False</td>\n      <td>False</td>\n      <td>False</td>\n      <td>True</td>\n      <td>False</td>\n      <td>False</td>\n      <td>True</td>\n      <td>False</td>\n    </tr>\n    <tr>\n      <th>1</th>\n      <td>82</td>\n      <td>9</td>\n      <td>0</td>\n      <td>4356</td>\n      <td>18</td>\n      <td>False</td>\n      <td>False</td>\n      <td>False</td>\n      <td>False</td>\n      <td>True</td>\n      <td>...</td>\n      <td>False</td>\n      <td>False</td>\n      <td>False</td>\n      <td>False</td>\n      <td>False</td>\n      <td>True</td>\n      <td>False</td>\n      <td>False</td>\n      <td>True</td>\n      <td>False</td>\n    </tr>\n    <tr>\n      <th>2</th>\n      <td>66</td>\n      <td>10</td>\n      <td>0</td>\n      <td>4356</td>\n      <td>40</td>\n      <td>True</td>\n      <td>False</td>\n      <td>False</td>\n      <td>False</td>\n      <td>False</td>\n      <td>...</td>\n      <td>False</td>\n      <td>False</td>\n      <td>False</td>\n      <td>False</td>\n      <td>False</td>\n      <td>True</td>\n      <td>False</td>\n      <td>False</td>\n      <td>True</td>\n      <td>False</td>\n    </tr>\n    <tr>\n      <th>3</th>\n      <td>54</td>\n      <td>4</td>\n      <td>0</td>\n      <td>3900</td>\n      <td>40</td>\n      <td>False</td>\n      <td>False</td>\n      <td>False</td>\n      <td>False</td>\n      <td>True</td>\n      <td>...</td>\n      <td>False</td>\n      <td>False</td>\n      <td>False</td>\n      <td>False</td>\n      <td>False</td>\n      <td>True</td>\n      <td>False</td>\n      <td>False</td>\n      <td>True</td>\n      <td>False</td>\n    </tr>\n    <tr>\n      <th>4</th>\n      <td>41</td>\n      <td>10</td>\n      <td>0</td>\n      <td>3900</td>\n      <td>40</td>\n      <td>False</td>\n      <td>False</td>\n      <td>False</td>\n      <td>False</td>\n      <td>True</td>\n      <td>...</td>\n      <td>False</td>\n      <td>False</td>\n      <td>False</td>\n      <td>False</td>\n      <td>False</td>\n      <td>True</td>\n      <td>False</td>\n      <td>False</td>\n      <td>True</td>\n      <td>False</td>\n    </tr>\n  </tbody>\n</table>\n<p>5 rows × 109 columns</p>\n</div>"
     },
     "execution_count": 6,
     "metadata": {},
     "output_type": "execute_result"
    }
   ],
   "source": [
    "df.head()"
   ],
   "metadata": {
    "collapsed": false,
    "ExecuteTime": {
     "end_time": "2024-05-12T14:17:51.802468Z",
     "start_time": "2024-05-12T14:17:51.789993Z"
    }
   },
   "id": "650ace841c404e63",
   "execution_count": 6
  },
  {
   "cell_type": "markdown",
   "source": [
    "We can see that due to the amount of categorical options, we data becomes slightly sparse from 15 initial columns to 109 columns."
   ],
   "metadata": {
    "collapsed": false
   },
   "id": "36b53335917d6790"
  },
  {
   "cell_type": "markdown",
   "source": [
    "## Split the data into Train/Test\n",
    "\n",
    "For testing the data, we'll use a 95/5 train/test split."
   ],
   "metadata": {
    "collapsed": false
   },
   "id": "8a203812373a174b"
  },
  {
   "cell_type": "code",
   "outputs": [],
   "source": [
    "train_df, test_df = train_test_split(df, test_size=0.05, random_state=SEED)"
   ],
   "metadata": {
    "collapsed": false,
    "ExecuteTime": {
     "end_time": "2024-05-12T14:17:51.813602Z",
     "start_time": "2024-05-12T14:17:51.802988Z"
    }
   },
   "id": "b93d788ec293e58a",
   "execution_count": 7
  },
  {
   "cell_type": "markdown",
   "source": [
    "As we assume all data samples from the income dataset to be \"normal\", we'll introduce some obviously wrong relationships.\n",
    "\n",
    "We added two instances from outside of the age range, with clearly invalid relationships (both are male but are also a wife)"
   ],
   "metadata": {
    "collapsed": false
   },
   "id": "d2e3902c71427d4c"
  },
  {
   "cell_type": "code",
   "outputs": [],
   "source": [
    "new_record = {\n",
    "    'age': 200,\n",
    "    'workclass': 'State-gov',\n",
    "    'education': 'Some-college',\n",
    "    'education.num': 13,\n",
    "    'marital.status': 'Married-civ-spouse',\n",
    "    'occupation': 'Tech-support',\n",
    "    'relationship': 'wife',\n",
    "    'race': 'Black',\n",
    "    'sex': 'Male',\n",
    "    'capital.gain': 90000,\n",
    "    'capital.loss': 100,\n",
    "    'hours.per.week': 170,\n",
    "    'native.country': 'United-States',\n",
    "    'income': '<=50K'\n",
    "}\n",
    "\n",
    "new_record1 = {\n",
    "    'age': 12,\n",
    "    'workclass': 'State-gov',\n",
    "    'education': 'Some-college',\n",
    "    'education.num': 13,\n",
    "    'marital.status': 'Married-civ-spouse',\n",
    "    'occupation': 'Tech-support',\n",
    "    'relationship': 'wife',\n",
    "    'race': 'Black',\n",
    "    'sex': 'Male',\n",
    "    'capital.gain': 90000,\n",
    "    'capital.loss': 100,\n",
    "    'hours.per.week': 170,\n",
    "    'native.country': 'United-States',\n",
    "    'income': '<=50K'\n",
    "}\n",
    "\n",
    "test_df = pd.concat([test_df, pd.DataFrame([new_record, new_record1])], ignore_index=True)"
   ],
   "metadata": {
    "collapsed": false,
    "ExecuteTime": {
     "end_time": "2024-05-12T14:17:51.822563Z",
     "start_time": "2024-05-12T14:17:51.814511Z"
    }
   },
   "id": "e9041c96aee26179",
   "execution_count": 8
  },
  {
   "cell_type": "code",
   "outputs": [],
   "source": [
    "test_df = pd.get_dummies(test_df)"
   ],
   "metadata": {
    "collapsed": false,
    "ExecuteTime": {
     "end_time": "2024-05-12T14:17:51.873384Z",
     "start_time": "2024-05-12T14:17:51.822563Z"
    }
   },
   "id": "38af2f4f176f0402",
   "execution_count": 9
  },
  {
   "cell_type": "markdown",
   "source": [
    "## Isolated Forests"
   ],
   "metadata": {
    "collapsed": false
   },
   "id": "52c7f08ffc680e34"
  },
  {
   "cell_type": "code",
   "outputs": [],
   "source": [
    "if_model = IsolatedForestModel(train_df=train_df, test_df=test_df, n_estimators=100, contamination='auto', random_state=SEED)\n",
    "if_model.fit()"
   ],
   "metadata": {
    "collapsed": false,
    "ExecuteTime": {
     "end_time": "2024-05-12T14:18:30.948872Z",
     "start_time": "2024-05-12T14:18:30.730960Z"
    }
   },
   "id": "c9a4dc925dc49ff7",
   "execution_count": 13
  },
  {
   "cell_type": "code",
   "outputs": [
    {
     "data": {
      "text/plain": "       age  education.num  capital.gain  capital.loss  hours.per.week  \\\n20440   27             13             0             0              35   \n742     40              4             0          1887              40   \n214     42             14             0          2201              60   \n1723    59             16         25236             0              45   \n3208    35             15          4787             0              45   \n...    ...            ...           ...           ...             ...   \n793     52             16             0          1887              70   \n5342    42             12             0             0              40   \n18384   39             16             0             0              40   \n12183   75              6             0             0               1   \n197     49              5             0          2231              40   \n\n       workclass_?  workclass_Federal-gov  workclass_Local-gov  \\\n20440         True                  False                False   \n742          False                  False                 True   \n214          False                  False                False   \n1723         False                  False                False   \n3208          True                  False                False   \n...            ...                    ...                  ...   \n793          False                  False                False   \n5342         False                   True                False   \n18384        False                  False                False   \n12183         True                  False                False   \n197          False                  False                 True   \n\n       workclass_Never-worked  workclass_Private  ...  \\\n20440                   False              False  ...   \n742                     False              False  ...   \n214                     False              False  ...   \n1723                    False              False  ...   \n3208                    False              False  ...   \n...                       ...                ...  ...   \n793                     False              False  ...   \n5342                    False              False  ...   \n18384                   False              False  ...   \n12183                   False              False  ...   \n197                     False              False  ...   \n\n       native.country_Scotland  native.country_South  native.country_Taiwan  \\\n20440                    False                 False                  False   \n742                      False                 False                  False   \n214                      False                 False                  False   \n1723                     False                 False                  False   \n3208                     False                 False                  False   \n...                        ...                   ...                    ...   \n793                      False                 False                  False   \n5342                     False                 False                  False   \n18384                    False                 False                  False   \n12183                    False                 False                  False   \n197                      False                 False                  False   \n\n       native.country_Thailand  native.country_Trinadad&Tobago  \\\n20440                    False                           False   \n742                      False                           False   \n214                      False                           False   \n1723                     False                           False   \n3208                     False                           False   \n...                        ...                             ...   \n793                      False                           False   \n5342                     False                           False   \n18384                    False                           False   \n12183                    False                           False   \n197                      False                           False   \n\n       native.country_United-States  native.country_Vietnam  \\\n20440                         False                   False   \n742                           False                   False   \n214                           False                   False   \n1723                           True                   False   \n3208                          False                   False   \n...                             ...                     ...   \n793                           False                   False   \n5342                          False                   False   \n18384                         False                   False   \n12183                         False                   False   \n197                            True                   False   \n\n       native.country_Yugoslavia  income_<=50K  income_>50K  \n20440                      False         False         True  \n742                        False         False         True  \n214                        False         False         True  \n1723                       False         False         True  \n3208                       False         False         True  \n...                          ...           ...          ...  \n793                        False         False         True  \n5342                       False         False         True  \n18384                      False          True        False  \n12183                      False          True        False  \n197                        False         False         True  \n\n[80 rows x 109 columns]",
      "text/html": "<div>\n<style scoped>\n    .dataframe tbody tr th:only-of-type {\n        vertical-align: middle;\n    }\n\n    .dataframe tbody tr th {\n        vertical-align: top;\n    }\n\n    .dataframe thead th {\n        text-align: right;\n    }\n</style>\n<table border=\"1\" class=\"dataframe\">\n  <thead>\n    <tr style=\"text-align: right;\">\n      <th></th>\n      <th>age</th>\n      <th>education.num</th>\n      <th>capital.gain</th>\n      <th>capital.loss</th>\n      <th>hours.per.week</th>\n      <th>workclass_?</th>\n      <th>workclass_Federal-gov</th>\n      <th>workclass_Local-gov</th>\n      <th>workclass_Never-worked</th>\n      <th>workclass_Private</th>\n      <th>...</th>\n      <th>native.country_Scotland</th>\n      <th>native.country_South</th>\n      <th>native.country_Taiwan</th>\n      <th>native.country_Thailand</th>\n      <th>native.country_Trinadad&amp;Tobago</th>\n      <th>native.country_United-States</th>\n      <th>native.country_Vietnam</th>\n      <th>native.country_Yugoslavia</th>\n      <th>income_&lt;=50K</th>\n      <th>income_&gt;50K</th>\n    </tr>\n  </thead>\n  <tbody>\n    <tr>\n      <th>20440</th>\n      <td>27</td>\n      <td>13</td>\n      <td>0</td>\n      <td>0</td>\n      <td>35</td>\n      <td>True</td>\n      <td>False</td>\n      <td>False</td>\n      <td>False</td>\n      <td>False</td>\n      <td>...</td>\n      <td>False</td>\n      <td>False</td>\n      <td>False</td>\n      <td>False</td>\n      <td>False</td>\n      <td>False</td>\n      <td>False</td>\n      <td>False</td>\n      <td>False</td>\n      <td>True</td>\n    </tr>\n    <tr>\n      <th>742</th>\n      <td>40</td>\n      <td>4</td>\n      <td>0</td>\n      <td>1887</td>\n      <td>40</td>\n      <td>False</td>\n      <td>False</td>\n      <td>True</td>\n      <td>False</td>\n      <td>False</td>\n      <td>...</td>\n      <td>False</td>\n      <td>False</td>\n      <td>False</td>\n      <td>False</td>\n      <td>False</td>\n      <td>False</td>\n      <td>False</td>\n      <td>False</td>\n      <td>False</td>\n      <td>True</td>\n    </tr>\n    <tr>\n      <th>214</th>\n      <td>42</td>\n      <td>14</td>\n      <td>0</td>\n      <td>2201</td>\n      <td>60</td>\n      <td>False</td>\n      <td>False</td>\n      <td>False</td>\n      <td>False</td>\n      <td>False</td>\n      <td>...</td>\n      <td>False</td>\n      <td>False</td>\n      <td>False</td>\n      <td>False</td>\n      <td>False</td>\n      <td>False</td>\n      <td>False</td>\n      <td>False</td>\n      <td>False</td>\n      <td>True</td>\n    </tr>\n    <tr>\n      <th>1723</th>\n      <td>59</td>\n      <td>16</td>\n      <td>25236</td>\n      <td>0</td>\n      <td>45</td>\n      <td>False</td>\n      <td>False</td>\n      <td>False</td>\n      <td>False</td>\n      <td>False</td>\n      <td>...</td>\n      <td>False</td>\n      <td>False</td>\n      <td>False</td>\n      <td>False</td>\n      <td>False</td>\n      <td>True</td>\n      <td>False</td>\n      <td>False</td>\n      <td>False</td>\n      <td>True</td>\n    </tr>\n    <tr>\n      <th>3208</th>\n      <td>35</td>\n      <td>15</td>\n      <td>4787</td>\n      <td>0</td>\n      <td>45</td>\n      <td>True</td>\n      <td>False</td>\n      <td>False</td>\n      <td>False</td>\n      <td>False</td>\n      <td>...</td>\n      <td>False</td>\n      <td>False</td>\n      <td>False</td>\n      <td>False</td>\n      <td>False</td>\n      <td>False</td>\n      <td>False</td>\n      <td>False</td>\n      <td>False</td>\n      <td>True</td>\n    </tr>\n    <tr>\n      <th>...</th>\n      <td>...</td>\n      <td>...</td>\n      <td>...</td>\n      <td>...</td>\n      <td>...</td>\n      <td>...</td>\n      <td>...</td>\n      <td>...</td>\n      <td>...</td>\n      <td>...</td>\n      <td>...</td>\n      <td>...</td>\n      <td>...</td>\n      <td>...</td>\n      <td>...</td>\n      <td>...</td>\n      <td>...</td>\n      <td>...</td>\n      <td>...</td>\n      <td>...</td>\n      <td>...</td>\n    </tr>\n    <tr>\n      <th>793</th>\n      <td>52</td>\n      <td>16</td>\n      <td>0</td>\n      <td>1887</td>\n      <td>70</td>\n      <td>False</td>\n      <td>False</td>\n      <td>False</td>\n      <td>False</td>\n      <td>False</td>\n      <td>...</td>\n      <td>False</td>\n      <td>False</td>\n      <td>False</td>\n      <td>False</td>\n      <td>False</td>\n      <td>False</td>\n      <td>False</td>\n      <td>False</td>\n      <td>False</td>\n      <td>True</td>\n    </tr>\n    <tr>\n      <th>5342</th>\n      <td>42</td>\n      <td>12</td>\n      <td>0</td>\n      <td>0</td>\n      <td>40</td>\n      <td>False</td>\n      <td>True</td>\n      <td>False</td>\n      <td>False</td>\n      <td>False</td>\n      <td>...</td>\n      <td>False</td>\n      <td>False</td>\n      <td>False</td>\n      <td>False</td>\n      <td>False</td>\n      <td>False</td>\n      <td>False</td>\n      <td>False</td>\n      <td>False</td>\n      <td>True</td>\n    </tr>\n    <tr>\n      <th>18384</th>\n      <td>39</td>\n      <td>16</td>\n      <td>0</td>\n      <td>0</td>\n      <td>40</td>\n      <td>False</td>\n      <td>False</td>\n      <td>False</td>\n      <td>False</td>\n      <td>False</td>\n      <td>...</td>\n      <td>False</td>\n      <td>False</td>\n      <td>False</td>\n      <td>False</td>\n      <td>False</td>\n      <td>False</td>\n      <td>False</td>\n      <td>False</td>\n      <td>True</td>\n      <td>False</td>\n    </tr>\n    <tr>\n      <th>12183</th>\n      <td>75</td>\n      <td>6</td>\n      <td>0</td>\n      <td>0</td>\n      <td>1</td>\n      <td>True</td>\n      <td>False</td>\n      <td>False</td>\n      <td>False</td>\n      <td>False</td>\n      <td>...</td>\n      <td>False</td>\n      <td>False</td>\n      <td>False</td>\n      <td>False</td>\n      <td>False</td>\n      <td>False</td>\n      <td>False</td>\n      <td>False</td>\n      <td>True</td>\n      <td>False</td>\n    </tr>\n    <tr>\n      <th>197</th>\n      <td>49</td>\n      <td>5</td>\n      <td>0</td>\n      <td>2231</td>\n      <td>40</td>\n      <td>False</td>\n      <td>False</td>\n      <td>True</td>\n      <td>False</td>\n      <td>False</td>\n      <td>...</td>\n      <td>False</td>\n      <td>False</td>\n      <td>False</td>\n      <td>False</td>\n      <td>False</td>\n      <td>True</td>\n      <td>False</td>\n      <td>False</td>\n      <td>False</td>\n      <td>True</td>\n    </tr>\n  </tbody>\n</table>\n<p>80 rows × 109 columns</p>\n</div>"
     },
     "execution_count": 14,
     "metadata": {},
     "output_type": "execute_result"
    }
   ],
   "source": [
    "if_model.train_df[if_model.predict(if_model.train_df) == -1]"
   ],
   "metadata": {
    "collapsed": false,
    "ExecuteTime": {
     "end_time": "2024-05-12T14:18:31.654767Z",
     "start_time": "2024-05-12T14:18:31.532755Z"
    }
   },
   "id": "cdb4f65e81af9774",
   "execution_count": 14
  },
  {
   "cell_type": "markdown",
   "source": [
    "## DBScan Clustering"
   ],
   "metadata": {
    "collapsed": false
   },
   "id": "534bc4629484a3bc"
  },
  {
   "cell_type": "code",
   "outputs": [],
   "source": [
    "db_model = DBSCANClusteringModel(train_df=train_df, test_df=test_df, random_state=SEED, epsilon=.1, min_samples=50)"
   ],
   "metadata": {
    "collapsed": false,
    "ExecuteTime": {
     "end_time": "2024-05-12T14:22:46.814039Z",
     "start_time": "2024-05-12T14:22:46.811300Z"
    }
   },
   "id": "4278da46932b13e6",
   "execution_count": 28
  },
  {
   "cell_type": "code",
   "outputs": [
    {
     "data": {
      "text/plain": "array([-1, -1, -1, ..., -1, -1, -1], dtype=int64)"
     },
     "execution_count": 29,
     "metadata": {},
     "output_type": "execute_result"
    }
   ],
   "source": [
    "db_model.predict(db_model.train_df)"
   ],
   "metadata": {
    "collapsed": false,
    "ExecuteTime": {
     "end_time": "2024-05-12T14:22:53.855160Z",
     "start_time": "2024-05-12T14:22:47.065925Z"
    }
   },
   "id": "56a4cc61c7ff8d7b",
   "execution_count": 29
  },
  {
   "cell_type": "markdown",
   "source": [
    "## Autoencoder"
   ],
   "metadata": {
    "collapsed": false
   },
   "id": "a9bf1c6691629b1b"
  },
  {
   "cell_type": "code",
   "outputs": [
    {
     "ename": "ValueError",
     "evalue": "Failed to convert a NumPy array to a Tensor (Unsupported object type int).",
     "output_type": "error",
     "traceback": [
      "\u001B[1;31m---------------------------------------------------------------------------\u001B[0m",
      "\u001B[1;31mValueError\u001B[0m                                Traceback (most recent call last)",
      "Cell \u001B[1;32mIn[33], line 2\u001B[0m\n\u001B[0;32m      1\u001B[0m ae_model \u001B[38;5;241m=\u001B[39m AutoencoderModel(train_df\u001B[38;5;241m=\u001B[39mtrain_df, test_df\u001B[38;5;241m=\u001B[39mtest_df, random_state\u001B[38;5;241m=\u001B[39mSEED)\n\u001B[1;32m----> 2\u001B[0m \u001B[43mae_model\u001B[49m\u001B[38;5;241;43m.\u001B[39;49m\u001B[43mfit\u001B[49m\u001B[43m(\u001B[49m\u001B[43m)\u001B[49m\n",
      "File \u001B[1;32m~\\Documents\\projects\\TabuGAN\\notebooks\\anomaly_detection\\models\\autoencoder_model.py:27\u001B[0m, in \u001B[0;36mAutoencoderModel.fit\u001B[1;34m(self)\u001B[0m\n\u001B[0;32m     26\u001B[0m \u001B[38;5;28;01mdef\u001B[39;00m \u001B[38;5;21mfit\u001B[39m(\u001B[38;5;28mself\u001B[39m) \u001B[38;5;241m-\u001B[39m\u001B[38;5;241m>\u001B[39m \u001B[38;5;28;01mNone\u001B[39;00m:\n\u001B[1;32m---> 27\u001B[0m     \u001B[38;5;28;43mself\u001B[39;49m\u001B[38;5;241;43m.\u001B[39;49m\u001B[43mmodel\u001B[49m\u001B[38;5;241;43m.\u001B[39;49m\u001B[43mfit\u001B[49m\u001B[43m(\u001B[49m\u001B[38;5;28;43mself\u001B[39;49m\u001B[38;5;241;43m.\u001B[39;49m\u001B[43mtrain_df\u001B[49m\u001B[43m,\u001B[49m\u001B[43m \u001B[49m\u001B[38;5;28;43mself\u001B[39;49m\u001B[38;5;241;43m.\u001B[39;49m\u001B[43mtrain_df\u001B[49m\u001B[43m,\u001B[49m\u001B[43m \u001B[49m\u001B[43mepochs\u001B[49m\u001B[38;5;241;43m=\u001B[39;49m\u001B[38;5;28;43mself\u001B[39;49m\u001B[38;5;241;43m.\u001B[39;49m\u001B[43mepochs\u001B[49m\u001B[43m,\u001B[49m\u001B[43m \u001B[49m\u001B[43mbatch_size\u001B[49m\u001B[38;5;241;43m=\u001B[39;49m\u001B[38;5;28;43mself\u001B[39;49m\u001B[38;5;241;43m.\u001B[39;49m\u001B[43mbatch_size\u001B[49m\u001B[43m,\u001B[49m\u001B[43m \u001B[49m\u001B[43mshuffle\u001B[49m\u001B[38;5;241;43m=\u001B[39;49m\u001B[38;5;28;43mself\u001B[39;49m\u001B[43m)\u001B[49m\n",
      "File \u001B[1;32mC:\\Python312\\Lib\\site-packages\\keras\\src\\utils\\traceback_utils.py:122\u001B[0m, in \u001B[0;36mfilter_traceback.<locals>.error_handler\u001B[1;34m(*args, **kwargs)\u001B[0m\n\u001B[0;32m    119\u001B[0m     filtered_tb \u001B[38;5;241m=\u001B[39m _process_traceback_frames(e\u001B[38;5;241m.\u001B[39m__traceback__)\n\u001B[0;32m    120\u001B[0m     \u001B[38;5;66;03m# To get the full stack trace, call:\u001B[39;00m\n\u001B[0;32m    121\u001B[0m     \u001B[38;5;66;03m# `keras.config.disable_traceback_filtering()`\u001B[39;00m\n\u001B[1;32m--> 122\u001B[0m     \u001B[38;5;28;01mraise\u001B[39;00m e\u001B[38;5;241m.\u001B[39mwith_traceback(filtered_tb) \u001B[38;5;28;01mfrom\u001B[39;00m \u001B[38;5;28;01mNone\u001B[39;00m\n\u001B[0;32m    123\u001B[0m \u001B[38;5;28;01mfinally\u001B[39;00m:\n\u001B[0;32m    124\u001B[0m     \u001B[38;5;28;01mdel\u001B[39;00m filtered_tb\n",
      "File \u001B[1;32mC:\\Python312\\Lib\\site-packages\\tensorflow\\python\\framework\\constant_op.py:108\u001B[0m, in \u001B[0;36mconvert_to_eager_tensor\u001B[1;34m(value, ctx, dtype)\u001B[0m\n\u001B[0;32m    106\u001B[0m     dtype \u001B[38;5;241m=\u001B[39m dtypes\u001B[38;5;241m.\u001B[39mas_dtype(dtype)\u001B[38;5;241m.\u001B[39mas_datatype_enum\n\u001B[0;32m    107\u001B[0m ctx\u001B[38;5;241m.\u001B[39mensure_initialized()\n\u001B[1;32m--> 108\u001B[0m \u001B[38;5;28;01mreturn\u001B[39;00m \u001B[43mops\u001B[49m\u001B[38;5;241;43m.\u001B[39;49m\u001B[43mEagerTensor\u001B[49m\u001B[43m(\u001B[49m\u001B[43mvalue\u001B[49m\u001B[43m,\u001B[49m\u001B[43m \u001B[49m\u001B[43mctx\u001B[49m\u001B[38;5;241;43m.\u001B[39;49m\u001B[43mdevice_name\u001B[49m\u001B[43m,\u001B[49m\u001B[43m \u001B[49m\u001B[43mdtype\u001B[49m\u001B[43m)\u001B[49m\n",
      "\u001B[1;31mValueError\u001B[0m: Failed to convert a NumPy array to a Tensor (Unsupported object type int)."
     ]
    }
   ],
   "source": [
    "ae_model = AutoencoderModel(train_df=train_df, test_df=test_df, random_state=SEED)\n",
    "ae_model.fit()"
   ],
   "metadata": {
    "collapsed": false,
    "ExecuteTime": {
     "end_time": "2024-05-12T14:25:14.290937Z",
     "start_time": "2024-05-12T14:25:14.150216Z"
    }
   },
   "id": "b58d93de337a6b1d",
   "execution_count": 33
  },
  {
   "cell_type": "code",
   "outputs": [],
   "source": [
    "ae_model.predict(ae_model.train_df)"
   ],
   "metadata": {
    "collapsed": false
   },
   "id": "5bb48a87d30089a9"
  }
 ],
 "metadata": {
  "kernelspec": {
   "display_name": "Python 3",
   "language": "python",
   "name": "python3"
  },
  "language_info": {
   "codemirror_mode": {
    "name": "ipython",
    "version": 2
   },
   "file_extension": ".py",
   "mimetype": "text/x-python",
   "name": "python",
   "nbconvert_exporter": "python",
   "pygments_lexer": "ipython2",
   "version": "2.7.6"
  }
 },
 "nbformat": 4,
 "nbformat_minor": 5
}
