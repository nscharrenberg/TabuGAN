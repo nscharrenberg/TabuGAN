{
 "cells": [
  {
   "cell_type": "code",
   "execution_count": 1,
   "id": "initial_id",
   "metadata": {
    "collapsed": true,
    "ExecuteTime": {
     "end_time": "2024-06-11T16:14:14.877005Z",
     "start_time": "2024-06-11T16:14:14.039253Z"
    }
   },
   "outputs": [],
   "source": [
    "import numpy as np , pandas as pd\n",
    "import torch\n",
    "import torch.nn as nn\n",
    "import einops"
   ]
  },
  {
   "cell_type": "code",
   "execution_count": 2,
   "outputs": [],
   "source": [
    "df = pd.read_csv(\"../../datasets/income/adult.csv\")"
   ],
   "metadata": {
    "collapsed": false,
    "ExecuteTime": {
     "end_time": "2024-06-11T16:14:16.514716Z",
     "start_time": "2024-06-11T16:14:16.457218Z"
    }
   },
   "id": "6a4078eba16434e1"
  },
  {
   "cell_type": "code",
   "execution_count": 3,
   "outputs": [],
   "source": [
    "df.insert(0, \"start\",\"<start>\")\n",
    "df[\"end\"] = \"<end>\""
   ],
   "metadata": {
    "collapsed": false,
    "ExecuteTime": {
     "end_time": "2024-06-11T16:14:17.306442Z",
     "start_time": "2024-06-11T16:14:17.297717Z"
    }
   },
   "id": "812ba3b55b90b8dd"
  },
  {
   "cell_type": "code",
   "execution_count": 4,
   "outputs": [
    {
     "data": {
      "text/plain": "         start  age workclass  fnlwgt     education  education.num  \\\n0      <start>   90         ?   77053       HS-grad              9   \n1      <start>   82   Private  132870       HS-grad              9   \n2      <start>   66         ?  186061  Some-college             10   \n3      <start>   54   Private  140359       7th-8th              4   \n4      <start>   41   Private  264663  Some-college             10   \n...        ...  ...       ...     ...           ...            ...   \n32556  <start>   22   Private  310152  Some-college             10   \n32557  <start>   27   Private  257302    Assoc-acdm             12   \n32558  <start>   40   Private  154374       HS-grad              9   \n32559  <start>   58   Private  151910       HS-grad              9   \n32560  <start>   22   Private  201490       HS-grad              9   \n\n           marital.status         occupation   relationship   race     sex  \\\n0                 Widowed                  ?  Not-in-family  White  Female   \n1                 Widowed    Exec-managerial  Not-in-family  White  Female   \n2                 Widowed                  ?      Unmarried  Black  Female   \n3                Divorced  Machine-op-inspct      Unmarried  White  Female   \n4               Separated     Prof-specialty      Own-child  White  Female   \n...                   ...                ...            ...    ...     ...   \n32556       Never-married    Protective-serv  Not-in-family  White    Male   \n32557  Married-civ-spouse       Tech-support           Wife  White  Female   \n32558  Married-civ-spouse  Machine-op-inspct        Husband  White    Male   \n32559             Widowed       Adm-clerical      Unmarried  White  Female   \n32560       Never-married       Adm-clerical      Own-child  White    Male   \n\n       capital.gain  capital.loss  hours.per.week native.country income    end  \n0                 0          4356              40  United-States  <=50K  <end>  \n1                 0          4356              18  United-States  <=50K  <end>  \n2                 0          4356              40  United-States  <=50K  <end>  \n3                 0          3900              40  United-States  <=50K  <end>  \n4                 0          3900              40  United-States  <=50K  <end>  \n...             ...           ...             ...            ...    ...    ...  \n32556             0             0              40  United-States  <=50K  <end>  \n32557             0             0              38  United-States  <=50K  <end>  \n32558             0             0              40  United-States   >50K  <end>  \n32559             0             0              40  United-States  <=50K  <end>  \n32560             0             0              20  United-States  <=50K  <end>  \n\n[32561 rows x 17 columns]",
      "text/html": "<div>\n<style scoped>\n    .dataframe tbody tr th:only-of-type {\n        vertical-align: middle;\n    }\n\n    .dataframe tbody tr th {\n        vertical-align: top;\n    }\n\n    .dataframe thead th {\n        text-align: right;\n    }\n</style>\n<table border=\"1\" class=\"dataframe\">\n  <thead>\n    <tr style=\"text-align: right;\">\n      <th></th>\n      <th>start</th>\n      <th>age</th>\n      <th>workclass</th>\n      <th>fnlwgt</th>\n      <th>education</th>\n      <th>education.num</th>\n      <th>marital.status</th>\n      <th>occupation</th>\n      <th>relationship</th>\n      <th>race</th>\n      <th>sex</th>\n      <th>capital.gain</th>\n      <th>capital.loss</th>\n      <th>hours.per.week</th>\n      <th>native.country</th>\n      <th>income</th>\n      <th>end</th>\n    </tr>\n  </thead>\n  <tbody>\n    <tr>\n      <th>0</th>\n      <td>&lt;start&gt;</td>\n      <td>90</td>\n      <td>?</td>\n      <td>77053</td>\n      <td>HS-grad</td>\n      <td>9</td>\n      <td>Widowed</td>\n      <td>?</td>\n      <td>Not-in-family</td>\n      <td>White</td>\n      <td>Female</td>\n      <td>0</td>\n      <td>4356</td>\n      <td>40</td>\n      <td>United-States</td>\n      <td>&lt;=50K</td>\n      <td>&lt;end&gt;</td>\n    </tr>\n    <tr>\n      <th>1</th>\n      <td>&lt;start&gt;</td>\n      <td>82</td>\n      <td>Private</td>\n      <td>132870</td>\n      <td>HS-grad</td>\n      <td>9</td>\n      <td>Widowed</td>\n      <td>Exec-managerial</td>\n      <td>Not-in-family</td>\n      <td>White</td>\n      <td>Female</td>\n      <td>0</td>\n      <td>4356</td>\n      <td>18</td>\n      <td>United-States</td>\n      <td>&lt;=50K</td>\n      <td>&lt;end&gt;</td>\n    </tr>\n    <tr>\n      <th>2</th>\n      <td>&lt;start&gt;</td>\n      <td>66</td>\n      <td>?</td>\n      <td>186061</td>\n      <td>Some-college</td>\n      <td>10</td>\n      <td>Widowed</td>\n      <td>?</td>\n      <td>Unmarried</td>\n      <td>Black</td>\n      <td>Female</td>\n      <td>0</td>\n      <td>4356</td>\n      <td>40</td>\n      <td>United-States</td>\n      <td>&lt;=50K</td>\n      <td>&lt;end&gt;</td>\n    </tr>\n    <tr>\n      <th>3</th>\n      <td>&lt;start&gt;</td>\n      <td>54</td>\n      <td>Private</td>\n      <td>140359</td>\n      <td>7th-8th</td>\n      <td>4</td>\n      <td>Divorced</td>\n      <td>Machine-op-inspct</td>\n      <td>Unmarried</td>\n      <td>White</td>\n      <td>Female</td>\n      <td>0</td>\n      <td>3900</td>\n      <td>40</td>\n      <td>United-States</td>\n      <td>&lt;=50K</td>\n      <td>&lt;end&gt;</td>\n    </tr>\n    <tr>\n      <th>4</th>\n      <td>&lt;start&gt;</td>\n      <td>41</td>\n      <td>Private</td>\n      <td>264663</td>\n      <td>Some-college</td>\n      <td>10</td>\n      <td>Separated</td>\n      <td>Prof-specialty</td>\n      <td>Own-child</td>\n      <td>White</td>\n      <td>Female</td>\n      <td>0</td>\n      <td>3900</td>\n      <td>40</td>\n      <td>United-States</td>\n      <td>&lt;=50K</td>\n      <td>&lt;end&gt;</td>\n    </tr>\n    <tr>\n      <th>...</th>\n      <td>...</td>\n      <td>...</td>\n      <td>...</td>\n      <td>...</td>\n      <td>...</td>\n      <td>...</td>\n      <td>...</td>\n      <td>...</td>\n      <td>...</td>\n      <td>...</td>\n      <td>...</td>\n      <td>...</td>\n      <td>...</td>\n      <td>...</td>\n      <td>...</td>\n      <td>...</td>\n      <td>...</td>\n    </tr>\n    <tr>\n      <th>32556</th>\n      <td>&lt;start&gt;</td>\n      <td>22</td>\n      <td>Private</td>\n      <td>310152</td>\n      <td>Some-college</td>\n      <td>10</td>\n      <td>Never-married</td>\n      <td>Protective-serv</td>\n      <td>Not-in-family</td>\n      <td>White</td>\n      <td>Male</td>\n      <td>0</td>\n      <td>0</td>\n      <td>40</td>\n      <td>United-States</td>\n      <td>&lt;=50K</td>\n      <td>&lt;end&gt;</td>\n    </tr>\n    <tr>\n      <th>32557</th>\n      <td>&lt;start&gt;</td>\n      <td>27</td>\n      <td>Private</td>\n      <td>257302</td>\n      <td>Assoc-acdm</td>\n      <td>12</td>\n      <td>Married-civ-spouse</td>\n      <td>Tech-support</td>\n      <td>Wife</td>\n      <td>White</td>\n      <td>Female</td>\n      <td>0</td>\n      <td>0</td>\n      <td>38</td>\n      <td>United-States</td>\n      <td>&lt;=50K</td>\n      <td>&lt;end&gt;</td>\n    </tr>\n    <tr>\n      <th>32558</th>\n      <td>&lt;start&gt;</td>\n      <td>40</td>\n      <td>Private</td>\n      <td>154374</td>\n      <td>HS-grad</td>\n      <td>9</td>\n      <td>Married-civ-spouse</td>\n      <td>Machine-op-inspct</td>\n      <td>Husband</td>\n      <td>White</td>\n      <td>Male</td>\n      <td>0</td>\n      <td>0</td>\n      <td>40</td>\n      <td>United-States</td>\n      <td>&gt;50K</td>\n      <td>&lt;end&gt;</td>\n    </tr>\n    <tr>\n      <th>32559</th>\n      <td>&lt;start&gt;</td>\n      <td>58</td>\n      <td>Private</td>\n      <td>151910</td>\n      <td>HS-grad</td>\n      <td>9</td>\n      <td>Widowed</td>\n      <td>Adm-clerical</td>\n      <td>Unmarried</td>\n      <td>White</td>\n      <td>Female</td>\n      <td>0</td>\n      <td>0</td>\n      <td>40</td>\n      <td>United-States</td>\n      <td>&lt;=50K</td>\n      <td>&lt;end&gt;</td>\n    </tr>\n    <tr>\n      <th>32560</th>\n      <td>&lt;start&gt;</td>\n      <td>22</td>\n      <td>Private</td>\n      <td>201490</td>\n      <td>HS-grad</td>\n      <td>9</td>\n      <td>Never-married</td>\n      <td>Adm-clerical</td>\n      <td>Own-child</td>\n      <td>White</td>\n      <td>Male</td>\n      <td>0</td>\n      <td>0</td>\n      <td>20</td>\n      <td>United-States</td>\n      <td>&lt;=50K</td>\n      <td>&lt;end&gt;</td>\n    </tr>\n  </tbody>\n</table>\n<p>32561 rows × 17 columns</p>\n</div>"
     },
     "execution_count": 4,
     "metadata": {},
     "output_type": "execute_result"
    }
   ],
   "source": [
    "df"
   ],
   "metadata": {
    "collapsed": false,
    "ExecuteTime": {
     "end_time": "2024-06-11T16:14:18.510849Z",
     "start_time": "2024-06-11T16:14:18.464356Z"
    }
   },
   "id": "70c00d7e7622059c"
  },
  {
   "cell_type": "code",
   "execution_count": 5,
   "outputs": [],
   "source": [
    "df.rename(columns={\"marital.status\":\"marital_status\",\n",
    "                   \"education.num\" : \"education_num\",\n",
    "                   \"capital.gain\": \"capital_gain\",\n",
    "                   \"capital.loss\":\"capital_loss\",\n",
    "                   \"hours.per.week\":\"hours_per_week\",\n",
    "                   \"native.country\":\"native_country\"},inplace=True)"
   ],
   "metadata": {
    "collapsed": false,
    "ExecuteTime": {
     "end_time": "2024-06-11T16:14:22.207928Z",
     "start_time": "2024-06-11T16:14:22.168843Z"
    }
   },
   "id": "636488257e976b48"
  },
  {
   "cell_type": "code",
   "execution_count": 7,
   "outputs": [
    {
     "name": "stdout",
     "output_type": "stream",
     "text": [
      "Encoded Documents : [0, 25, 14, 1, 26, 35, 21683, 21716, 21707, 21705, 21717, 21724, 21739, 21745, 21750, 21830, 21822, 21812, 21802, 21792, 21782, 21772, 21762, 21752, 21906, 21895, 21889, 21881, 21867, 21855, 21851, 21832, 21930, 21923, 21915, 21932, 21974, 21976] , Length of Doc : 38\n",
      "Decoded Row: ['<start>', '89.69979', '?', '77053', 'HS-grad', '8.93521', 'Widowed', '?', 'Not-in-family', 'White', 'Female', '0.00000', '4355.99989', '39.64639', 'United-States', '<=50K', '<end>']\n"
     ]
    }
   ],
   "source": [
    "# # so the script looks like: \n",
    "import pandas as pd\n",
    "import pickle\n",
    "from utils.column_code import ColumnTokenizer, FloatTokenizer, CategoricalTokenizer\n",
    "from utils.tabular_tokenizer import TabularTokenizer\n",
    "\n",
    "# Constants\n",
    "START = \"<start>\"\n",
    "ENDOFTEXT = '<end>'\n",
    "DELIMITER = '|'\n",
    "VOCABULARY_PATH = 'income_coder.pickle'\n",
    "FLOAT_COLS = ['age', 'education_num', 'capital_gain', 'capital_loss', 'hours_per_week']\n",
    "EXCLUDED_COLS = []\n",
    "\n",
    "# Sample DataFrame (replace with your actual data)\n",
    "# df = pd.read_csv(\"../../datasets/income/adult.csv\")  # Assuming the dataset path is correct\n",
    "\n",
    "# Fill missing values\n",
    "df = df.fillna('?')\n",
    "\n",
    "# Initialize ColumnTokenizer\n",
    "column_codes = ColumnTokenizer()\n",
    "beg = 0\n",
    "cc = None\n",
    "columns = [col for col in df.columns if col not in EXCLUDED_COLS]\n",
    "\n",
    "# Register columns\n",
    "for column in columns:\n",
    "    start_id = beg if cc is None else cc.end_id\n",
    "    if column in FLOAT_COLS:\n",
    "        cc = FloatTokenizer(column, df[[column]], start_id, transform=\"log\")\n",
    "    else:\n",
    "        cc = CategoricalTokenizer(column, df[column], start_id)\n",
    "    column_codes.register(column, cc)\n",
    "\n",
    "# Save the encoder and decoder\n",
    "with open(VOCABULARY_PATH, 'wb') as handle:\n",
    "    pickle.dump(column_codes, handle)\n",
    "\n",
    "# Load the tokenizer\n",
    "tokenizer = TabularTokenizer(VOCABULARY_PATH, special_tokens=['\\n', ENDOFTEXT], delimiter=DELIMITER)\n",
    "\n",
    "# Encode the DataFrame\n",
    "encoded_docs = []\n",
    "for _, row in df.iterrows():\n",
    "    encoded_row = []\n",
    "    for col in columns:\n",
    "        encoded_value = column_codes.encode(col, str(row[col]))\n",
    "        encoded_row.extend(encoded_value)\n",
    "    encoded_docs.append(encoded_row)\n",
    "\n",
    "# Decode a sample encoded row\n",
    "sample_encoded_row = encoded_docs[0]\n",
    "decoded_row = []\n",
    "for col, size in zip(columns, column_codes.sizes):\n",
    "    token_ids = sample_encoded_row[:size]\n",
    "    decoded_value = column_codes.decode(col, token_ids)\n",
    "    decoded_row.append(decoded_value)\n",
    "    sample_encoded_row = sample_encoded_row[size:]\n",
    "\n",
    "# Display the encoded documents and decoded row\n",
    "print(f\"Encoded Documents : {encoded_docs[0]} , Length of Doc : {len(encoded_docs[0])}\")  # Show the first 3 encoded documents\n",
    "print(f\"Decoded Row: {decoded_row}\")  # Show the decoded values of the first encoded row\n"
   ],
   "metadata": {
    "collapsed": false,
    "ExecuteTime": {
     "end_time": "2024-06-11T16:15:15.704950Z",
     "start_time": "2024-06-11T16:15:13.397219Z"
    }
   },
   "id": "212e7ff7bd25fe2d"
  },
  {
   "cell_type": "code",
   "execution_count": 7,
   "outputs": [],
   "source": [],
   "metadata": {
    "collapsed": false,
    "ExecuteTime": {
     "end_time": "2024-06-11T16:15:55.153360Z",
     "start_time": "2024-06-11T16:15:55.132436Z"
    }
   },
   "id": "d3cbdd97f36a23c7"
  },
  {
   "cell_type": "code",
   "execution_count": 12,
   "outputs": [],
   "source": [
    "from torch.utils.data import Dataset, DataLoader\n",
    "from tqdm import tqdm\n",
    "class TokenDataset(Dataset):\n",
    "    def __init__(self, encoded_docs, seq_length):\n",
    "        self.encoded_docs = encoded_docs\n",
    "        self.seq_length = seq_length\n",
    "        self.context_window = len(encoded_docs[0])\n",
    "        self.start_seed = [0] * (self.context_window)\n",
    "\n",
    "        # this is very expensive aviod reinit\n",
    "        def compile_dataset():\n",
    "            X,y  = [],[]\n",
    "            for row in tqdm(encoded_docs):\n",
    "                context = self.start_seed # take account of start token\n",
    "                # predict start \n",
    "                for token in row:\n",
    "                    print(context)\n",
    "                    X.append(context)\n",
    "                    y.append(token)\n",
    "                    context = context[1:] + [token]\n",
    "\n",
    "            X = torch.tensor(X)\n",
    "            y = torch.tensor(y)\n",
    "            return X,y\n",
    "        \n",
    "        self.X , self.y = compile_dataset()\n",
    "                \n",
    "\n",
    "    def __len__(self):\n",
    "        return len(self.encoded_docs)\n",
    "    \n",
    "\n",
    "    def __getitem__(self, idx):\n",
    "        inputs = self.X[idx]\n",
    "        targets = self.y[idx]\n",
    "        return torch.tensor(inputs), torch.tensor(targets)"
   ],
   "metadata": {
    "collapsed": false,
    "ExecuteTime": {
     "end_time": "2024-06-11T16:17:04.929712Z",
     "start_time": "2024-06-11T16:17:04.898590Z"
    }
   },
   "id": "6ffdb6c23e4e3a20"
  },
  {
   "cell_type": "code",
   "execution_count": 13,
   "outputs": [
    {
     "data": {
      "text/plain": "38"
     },
     "execution_count": 13,
     "metadata": {},
     "output_type": "execute_result"
    }
   ],
   "source": [
    "len(encoded_docs[0])"
   ],
   "metadata": {
    "collapsed": false,
    "ExecuteTime": {
     "end_time": "2024-06-11T16:17:05.554893Z",
     "start_time": "2024-06-11T16:17:05.543925Z"
    }
   },
   "id": "f87a7811faf337f"
  },
  {
   "cell_type": "code",
   "execution_count": 14,
   "outputs": [
    {
     "name": "stderr",
     "output_type": "stream",
     "text": [
      "  4%|▍         | 1376/32561 [00:00<00:04, 6888.11it/s]IOPub data rate exceeded.\n",
      "The Jupyter server will temporarily stop sending output\n",
      "to the client in order to avoid crashing it.\n",
      "To change this limit, set the config variable\n",
      "`--ServerApp.iopub_data_rate_limit`.\n",
      "\n",
      "Current values:\n",
      "ServerApp.iopub_data_rate_limit=1000000.0 (bytes/sec)\n",
      "ServerApp.rate_limit_window=3.0 (secs)\n",
      "\n",
      "  8%|▊         | 2705/32561 [00:00<00:04, 6295.94it/s]IOPub data rate exceeded.\n",
      "The Jupyter server will temporarily stop sending output\n",
      "to the client in order to avoid crashing it.\n",
      "To change this limit, set the config variable\n",
      "`--ServerApp.iopub_data_rate_limit`.\n",
      "\n",
      "Current values:\n",
      "ServerApp.iopub_data_rate_limit=1000000.0 (bytes/sec)\n",
      "ServerApp.rate_limit_window=3.0 (secs)\n",
      "\n",
      " 15%|█▌        | 4987/32561 [00:00<00:03, 6983.27it/s]IOPub data rate exceeded.\n",
      "The Jupyter server will temporarily stop sending output\n",
      "to the client in order to avoid crashing it.\n",
      "To change this limit, set the config variable\n",
      "`--ServerApp.iopub_data_rate_limit`.\n",
      "\n",
      "Current values:\n",
      "ServerApp.iopub_data_rate_limit=1000000.0 (bytes/sec)\n",
      "ServerApp.rate_limit_window=3.0 (secs)\n",
      "\n",
      " 20%|█▉        | 6362/32561 [00:00<00:03, 6556.34it/s]IOPub data rate exceeded.\n",
      "The Jupyter server will temporarily stop sending output\n",
      "to the client in order to avoid crashing it.\n",
      "To change this limit, set the config variable\n",
      "`--ServerApp.iopub_data_rate_limit`.\n",
      "\n",
      "Current values:\n",
      "ServerApp.iopub_data_rate_limit=1000000.0 (bytes/sec)\n",
      "ServerApp.rate_limit_window=3.0 (secs)\n",
      "\n",
      " 26%|██▋       | 8613/32561 [00:01<00:03, 6779.41it/s]IOPub data rate exceeded.\n",
      "The Jupyter server will temporarily stop sending output\n",
      "to the client in order to avoid crashing it.\n",
      "To change this limit, set the config variable\n",
      "`--ServerApp.iopub_data_rate_limit`.\n",
      "\n",
      "Current values:\n",
      "ServerApp.iopub_data_rate_limit=1000000.0 (bytes/sec)\n",
      "ServerApp.rate_limit_window=3.0 (secs)\n",
      "\n",
      " 29%|██▊       | 9302/32561 [00:01<00:03, 6397.42it/s]IOPub data rate exceeded.\n",
      "The Jupyter server will temporarily stop sending output\n",
      "to the client in order to avoid crashing it.\n",
      "To change this limit, set the config variable\n",
      "`--ServerApp.iopub_data_rate_limit`.\n",
      "\n",
      "Current values:\n",
      "ServerApp.iopub_data_rate_limit=1000000.0 (bytes/sec)\n",
      "ServerApp.rate_limit_window=3.0 (secs)\n",
      "\n",
      " 33%|███▎      | 10726/32561 [00:01<00:04, 5315.22it/s]IOPub data rate exceeded.\n",
      "The Jupyter server will temporarily stop sending output\n",
      "to the client in order to avoid crashing it.\n",
      "To change this limit, set the config variable\n",
      "`--ServerApp.iopub_data_rate_limit`.\n",
      "\n",
      "Current values:\n",
      "ServerApp.iopub_data_rate_limit=1000000.0 (bytes/sec)\n",
      "ServerApp.rate_limit_window=3.0 (secs)\n",
      "\n",
      " 40%|████      | 13037/32561 [00:02<00:03, 6435.14it/s]IOPub data rate exceeded.\n",
      "The Jupyter server will temporarily stop sending output\n",
      "to the client in order to avoid crashing it.\n",
      "To change this limit, set the config variable\n",
      "`--ServerApp.iopub_data_rate_limit`.\n",
      "\n",
      "Current values:\n",
      "ServerApp.iopub_data_rate_limit=1000000.0 (bytes/sec)\n",
      "ServerApp.rate_limit_window=3.0 (secs)\n",
      "\n",
      " 42%|████▏     | 13723/32561 [00:02<00:03, 6182.90it/s]IOPub data rate exceeded.\n",
      "The Jupyter server will temporarily stop sending output\n",
      "to the client in order to avoid crashing it.\n",
      "To change this limit, set the config variable\n",
      "`--ServerApp.iopub_data_rate_limit`.\n",
      "\n",
      "Current values:\n",
      "ServerApp.iopub_data_rate_limit=1000000.0 (bytes/sec)\n",
      "ServerApp.rate_limit_window=3.0 (secs)\n",
      "\n",
      " 47%|████▋     | 15168/32561 [00:02<00:03, 5378.16it/s]IOPub data rate exceeded.\n",
      "The Jupyter server will temporarily stop sending output\n",
      "to the client in order to avoid crashing it.\n",
      "To change this limit, set the config variable\n",
      "`--ServerApp.iopub_data_rate_limit`.\n",
      "\n",
      "Current values:\n",
      "ServerApp.iopub_data_rate_limit=1000000.0 (bytes/sec)\n",
      "ServerApp.rate_limit_window=3.0 (secs)\n",
      "\n",
      " 53%|█████▎    | 17418/32561 [00:02<00:02, 6341.87it/s]IOPub data rate exceeded.\n",
      "The Jupyter server will temporarily stop sending output\n",
      "to the client in order to avoid crashing it.\n",
      "To change this limit, set the config variable\n",
      "`--ServerApp.iopub_data_rate_limit`.\n",
      "\n",
      "Current values:\n",
      "ServerApp.iopub_data_rate_limit=1000000.0 (bytes/sec)\n",
      "ServerApp.rate_limit_window=3.0 (secs)\n",
      "\n",
      " 60%|██████    | 19674/32561 [00:03<00:01, 6717.68it/s]IOPub data rate exceeded.\n",
      "The Jupyter server will temporarily stop sending output\n",
      "to the client in order to avoid crashing it.\n",
      "To change this limit, set the config variable\n",
      "`--ServerApp.iopub_data_rate_limit`.\n",
      "\n",
      "Current values:\n",
      "ServerApp.iopub_data_rate_limit=1000000.0 (bytes/sec)\n",
      "ServerApp.rate_limit_window=3.0 (secs)\n",
      "\n",
      " 65%|██████▍   | 21150/32561 [00:03<00:02, 5174.21it/s]IOPub data rate exceeded.\n",
      "The Jupyter server will temporarily stop sending output\n",
      "to the client in order to avoid crashing it.\n",
      "To change this limit, set the config variable\n",
      "`--ServerApp.iopub_data_rate_limit`.\n",
      "\n",
      "Current values:\n",
      "ServerApp.iopub_data_rate_limit=1000000.0 (bytes/sec)\n",
      "ServerApp.rate_limit_window=3.0 (secs)\n",
      "\n",
      " 72%|███████▏  | 23433/32561 [00:03<00:01, 6356.89it/s]IOPub data rate exceeded.\n",
      "The Jupyter server will temporarily stop sending output\n",
      "to the client in order to avoid crashing it.\n",
      "To change this limit, set the config variable\n",
      "`--ServerApp.iopub_data_rate_limit`.\n",
      "\n",
      "Current values:\n",
      "ServerApp.iopub_data_rate_limit=1000000.0 (bytes/sec)\n",
      "ServerApp.rate_limit_window=3.0 (secs)\n",
      "\n",
      " 77%|███████▋  | 24915/32561 [00:04<00:01, 6610.89it/s]IOPub data rate exceeded.\n",
      "The Jupyter server will temporarily stop sending output\n",
      "to the client in order to avoid crashing it.\n",
      "To change this limit, set the config variable\n",
      "`--ServerApp.iopub_data_rate_limit`.\n",
      "\n",
      "Current values:\n",
      "ServerApp.iopub_data_rate_limit=1000000.0 (bytes/sec)\n",
      "ServerApp.rate_limit_window=3.0 (secs)\n",
      "\n",
      " 84%|████████▎ | 27234/32561 [00:04<00:00, 6971.36it/s]IOPub data rate exceeded.\n",
      "The Jupyter server will temporarily stop sending output\n",
      "to the client in order to avoid crashing it.\n",
      "To change this limit, set the config variable\n",
      "`--ServerApp.iopub_data_rate_limit`.\n",
      "\n",
      "Current values:\n",
      "ServerApp.iopub_data_rate_limit=1000000.0 (bytes/sec)\n",
      "ServerApp.rate_limit_window=3.0 (secs)\n",
      "\n",
      " 88%|████████▊ | 28723/32561 [00:04<00:00, 4964.66it/s]IOPub data rate exceeded.\n",
      "The Jupyter server will temporarily stop sending output\n",
      "to the client in order to avoid crashing it.\n",
      "To change this limit, set the config variable\n",
      "`--ServerApp.iopub_data_rate_limit`.\n",
      "\n",
      "Current values:\n",
      "ServerApp.iopub_data_rate_limit=1000000.0 (bytes/sec)\n",
      "ServerApp.rate_limit_window=3.0 (secs)\n",
      "\n",
      " 95%|█████████▌| 30965/32561 [00:05<00:00, 6160.76it/s]IOPub data rate exceeded.\n",
      "The Jupyter server will temporarily stop sending output\n",
      "to the client in order to avoid crashing it.\n",
      "To change this limit, set the config variable\n",
      "`--ServerApp.iopub_data_rate_limit`.\n",
      "\n",
      "Current values:\n",
      "ServerApp.iopub_data_rate_limit=1000000.0 (bytes/sec)\n",
      "ServerApp.rate_limit_window=3.0 (secs)\n",
      "\n",
      "100%|██████████| 32561/32561 [00:05<00:00, 5949.33it/s]IOPub data rate exceeded.\n",
      "The Jupyter server will temporarily stop sending output\n",
      "to the client in order to avoid crashing it.\n",
      "To change this limit, set the config variable\n",
      "`--ServerApp.iopub_data_rate_limit`.\n",
      "\n",
      "Current values:\n",
      "ServerApp.iopub_data_rate_limit=1000000.0 (bytes/sec)\n",
      "ServerApp.rate_limit_window=3.0 (secs)\n",
      "\n",
      "\n"
     ]
    }
   ],
   "source": [
    "dataset = TokenDataset(encoded_docs, seq_length = len(encoded_docs[0]))\n",
    "dataloader = DataLoader(dataset, batch_size=32, shuffle=True)"
   ],
   "metadata": {
    "collapsed": false,
    "ExecuteTime": {
     "end_time": "2024-06-11T16:17:17.271730Z",
     "start_time": "2024-06-11T16:17:06.259538Z"
    }
   },
   "id": "8a1bd4da4bdf0144"
  },
  {
   "cell_type": "code",
   "execution_count": 15,
   "outputs": [
    {
     "name": "stdout",
     "output_type": "stream",
     "text": [
      "torch.Size([32, 38]) torch.Size([32])\n"
     ]
    },
    {
     "name": "stderr",
     "output_type": "stream",
     "text": [
      "/var/folders/f0/_f_gy0t91jqchv14f0hcl_gh0000gn/T/ipykernel_68914/3704106183.py:36: UserWarning: To copy construct from a tensor, it is recommended to use sourceTensor.clone().detach() or sourceTensor.clone().detach().requires_grad_(True), rather than torch.tensor(sourceTensor).\n",
      "  return torch.tensor(inputs), torch.tensor(targets)\n"
     ]
    }
   ],
   "source": [
    "for X,y in dataloader:\n",
    "    print(X.shape, y.shape)\n",
    "    break"
   ],
   "metadata": {
    "collapsed": false,
    "ExecuteTime": {
     "end_time": "2024-06-11T16:17:17.272271Z",
     "start_time": "2024-06-11T16:17:17.271196Z"
    }
   },
   "id": "4b8f5d21a976ef35"
  },
  {
   "cell_type": "code",
   "execution_count": 17,
   "outputs": [
    {
     "data": {
      "text/plain": "21979"
     },
     "execution_count": 17,
     "metadata": {},
     "output_type": "execute_result"
    }
   ],
   "source": [
    "vocab_length = tokenizer.__len__()\n",
    "vocab_length"
   ],
   "metadata": {
    "collapsed": false,
    "ExecuteTime": {
     "end_time": "2024-06-11T16:17:25.605460Z",
     "start_time": "2024-06-11T16:17:25.577988Z"
    }
   },
   "id": "14cb6048973129ca"
  },
  {
   "cell_type": "code",
   "execution_count": 18,
   "outputs": [
    {
     "data": {
      "text/plain": "38"
     },
     "execution_count": 18,
     "metadata": {},
     "output_type": "execute_result"
    }
   ],
   "source": [
    "context_window = X.shape[1]\n",
    "context_window"
   ],
   "metadata": {
    "collapsed": false,
    "ExecuteTime": {
     "end_time": "2024-06-11T16:17:30.745432Z",
     "start_time": "2024-06-11T16:17:30.722882Z"
    }
   },
   "id": "2260e10ffb908d3f"
  },
  {
   "cell_type": "code",
   "execution_count": 19,
   "outputs": [
    {
     "name": "stdout",
     "output_type": "stream",
     "text": [
      "1\n",
      "31\n",
      "709\n"
     ]
    }
   ],
   "source": [
    "# candidates for n_heads 😒\n",
    "for i in range(1,int(vocab_length//3)):\n",
    "    if vocab_length % i == 0:\n",
    "        print(i)"
   ],
   "metadata": {
    "collapsed": false,
    "ExecuteTime": {
     "end_time": "2024-06-11T16:17:33.064903Z",
     "start_time": "2024-06-11T16:17:33.050406Z"
    }
   },
   "id": "78edcacf498d8055"
  },
  {
   "cell_type": "code",
   "execution_count": 20,
   "outputs": [],
   "source": [
    "config = {\n",
    "    \"vocab_length\" : vocab_length,\n",
    "    \"n_embed\" : 992, # should be divisible by n_heads\n",
    "    \"n_heads\" : 31, # needs to be divisible by vocab_len\n",
    "    \"context_window\":context_window,\n",
    "    \"transformer_blocks\":2,\n",
    "    \"batch_size\":32,\n",
    "    \"random_seed\":123,\n",
    "}\n",
    "\n",
    "# dump this to json later\n",
    "config = pd.Series(config)"
   ],
   "metadata": {
    "collapsed": false,
    "ExecuteTime": {
     "end_time": "2024-06-11T16:17:38.163026Z",
     "start_time": "2024-06-11T16:17:38.135479Z"
    }
   },
   "id": "7a687a02ef506190"
  },
  {
   "cell_type": "code",
   "execution_count": 21,
   "outputs": [],
   "source": [
    "class SingleHead(nn.Module):\n",
    "    \"\"\"\n",
    "    Implements a single head of attention (unmasked)\n",
    "    \"\"\"\n",
    "\n",
    "    def __init__(self,R,head_size,manual_seed=123):\n",
    "        super().__init__()\n",
    "        # single head\n",
    "        self.head_size = head_size\n",
    "        self.scale = 1/ torch.sqrt(torch.tensor(self.head_size))\n",
    "        self.R = torch.tensor(R)\n",
    "        self.Q = nn.Parameter( torch.randn(self.R,head_size))\n",
    "        self.K = nn.Parameter( torch.randn(self.R,head_size))\n",
    "        self.V = nn.Parameter( torch.randn(self.R,head_size))\n",
    "\n",
    "    def forward(self,x):\n",
    "        q = x @ self.Q # (B,T,R) * (R,h) => (B,T,R) x (B,R,h) => (B,T,h) \n",
    "        k = x @ self.K\n",
    "        v = x @ self.V\n",
    "\n",
    "        comm = q @ einops.rearrange(k,\"B T h -> B h T\") # (B,T,h) @ (B,h,T) => B,T,T @ each tokens interaction with each token would be T,T\n",
    "        att1 = nn.functional.softmax(comm * self.scale,dim=2) # along tokens head\n",
    "        attention = att1 @ v # B,T,T @ B,T,h => B,T,h\n",
    "        return attention\n"
   ],
   "metadata": {
    "collapsed": false,
    "ExecuteTime": {
     "end_time": "2024-06-11T16:17:38.919240Z",
     "start_time": "2024-06-11T16:17:38.909478Z"
    }
   },
   "id": "2011d156acd1a11e"
  },
  {
   "cell_type": "code",
   "execution_count": 22,
   "outputs": [],
   "source": [
    "class Multihead(nn.Module):\n",
    "    def __init__(self,R,n_heads,seed=123):\n",
    "        self.R = R\n",
    "        assert R % n_heads == 0 , \"n_heads is not divisible by R\"\n",
    "        self.head_size = self.R // n_heads\n",
    "        self.n_heads = n_heads\n",
    "\n",
    "        super().__init__()\n",
    "        self.multiheads = nn.ModuleList(\n",
    "            [SingleHead(self.R,self.head_size)  for _ in range(self.n_heads)]\n",
    "        )\n",
    "\n",
    "    def forward(self,x):\n",
    "        return torch.cat([head(x) for head in self.multiheads],dim=2)"
   ],
   "metadata": {
    "collapsed": false,
    "ExecuteTime": {
     "end_time": "2024-06-11T16:17:39.952124Z",
     "start_time": "2024-06-11T16:17:39.932839Z"
    }
   },
   "id": "3b6a4b2e148ec8a8"
  },
  {
   "cell_type": "code",
   "execution_count": 33,
   "outputs": [],
   "source": [
    "class IncomeTransformer(nn.Module):\n",
    "    def __init__(self,config):\n",
    "        super().__init__()\n",
    "        self.context_window = config.context_window\n",
    "        self.n_embed = config.n_embed\n",
    "        self.n_heads = config.n_heads\n",
    "        self.n_vocab = config.vocab_length\n",
    "        self.transformer_blocks = config.transformer_blocks\n",
    "\n",
    "        #==== Token (C) and positional Embedding (pe)\n",
    "        self.C = nn.Embedding(self.n_vocab,self.n_embed) # token embedding\n",
    "        self.pe = nn.Parameter(torch.randn(1,self.n_embed)) # position embedding\n",
    "        \n",
    "        #===== Transformer Blocks\n",
    "        self.multi_heads = Multihead(R=self.n_embed, n_heads=self.n_heads)\n",
    "        self.layer_norm = nn.LayerNorm(self.n_embed) #at the end of the transformer block\n",
    "        \n",
    "        #==== MLP Head\n",
    "        self.mlp_head0 = nn.Linear(self.context_window * self.n_embed , self.n_embed)\n",
    "        self.mlp_head1 = nn.Linear(self.n_embed,self.n_vocab) # logits\n",
    "        \n",
    "        \n",
    "        \n",
    "    def forward(self,x):\n",
    "       emb = self.C(x) # token emb\n",
    "       emb += self.pe # add pos emb\n",
    "       \n",
    "       # write a loop later\n",
    "       attn = self.multi_heads(emb)\n",
    "       normed = self.layer_norm(attn + emb)# layer norm and skip connection\n",
    "       \n",
    "       # flatten\n",
    "       normed = einops.rearrange(normed,\"b t e -> b (t e)\")\n",
    "       x = self.mlp_head0(normed)\n",
    "       logits = self.mlp_head1(x) # logits\n",
    "       \n",
    "       return logits\n",
    "\n",
    "    def calculate_loss(self,x,y):\n",
    "        logits = self(x)\n",
    "        return logits , nn.functional.cross_entropy(logits,y)\n",
    "\n",
    "    def generate(self,seed = [0] * 38,verbose=False):\n",
    "        generation = list()\n",
    "        i = 0\n",
    "        while True:\n",
    "            if i > 50:\n",
    "                # clearly untrained\n",
    "                break\n",
    "            if verbose:\n",
    "                print(seed)\n",
    "            logits = self(torch.tensor(seed).view(1,-1))\n",
    "            probs = nn.functional.softmax(logits,dim=1)\n",
    "            prediction = torch.multinomial(probs,num_samples=1)\n",
    "            generation.append(prediction.item())\n",
    "            if prediction.item() == 21976:\n",
    "                break\n",
    "            seed = seed[1:] + [prediction.item()]\n",
    "            if verbose:\n",
    "                print(prediction.item())\n",
    "            i = i+1\n",
    "        return generation\n",
    "       \n",
    "       \n",
    "        \n",
    "model = IncomeTransformer(config)"
   ],
   "metadata": {
    "collapsed": false,
    "ExecuteTime": {
     "end_time": "2024-06-11T16:26:09.194162Z",
     "start_time": "2024-06-11T16:26:08.490289Z"
    }
   },
   "id": "7307c71808863e39"
  },
  {
   "cell_type": "code",
   "execution_count": 34,
   "outputs": [
    {
     "data": {
      "text/plain": "torch.Size([32, 21979])"
     },
     "execution_count": 34,
     "metadata": {},
     "output_type": "execute_result"
    }
   ],
   "source": [
    "out = model(X)\n",
    "out.shape"
   ],
   "metadata": {
    "collapsed": false,
    "ExecuteTime": {
     "end_time": "2024-06-11T16:26:09.956940Z",
     "start_time": "2024-06-11T16:26:09.805042Z"
    }
   },
   "id": "826f6a065db9e7bf"
  },
  {
   "cell_type": "code",
   "execution_count": 35,
   "outputs": [
    {
     "data": {
      "text/plain": "AdamW (\nParameter Group 0\n    amsgrad: False\n    betas: (0.9, 0.999)\n    capturable: False\n    differentiable: False\n    eps: 1e-08\n    foreach: None\n    fused: None\n    lr: 0.001\n    maximize: False\n    weight_decay: 0.01\n)"
     },
     "execution_count": 35,
     "metadata": {},
     "output_type": "execute_result"
    }
   ],
   "source": [
    "optimizer = torch.optim.AdamW(model.parameters(),lr=1e-3)\n",
    "optimizer"
   ],
   "metadata": {
    "collapsed": false,
    "ExecuteTime": {
     "end_time": "2024-06-11T16:26:11.537936Z",
     "start_time": "2024-06-11T16:26:11.516323Z"
    }
   },
   "id": "76ddadf138c164b3"
  },
  {
   "cell_type": "code",
   "execution_count": 36,
   "outputs": [],
   "source": [
    "track_loss = list()"
   ],
   "metadata": {
    "collapsed": false,
    "ExecuteTime": {
     "end_time": "2024-06-11T16:26:12.186315Z",
     "start_time": "2024-06-11T16:26:12.169968Z"
    }
   },
   "id": "f99321c1c9c6300a"
  },
  {
   "cell_type": "code",
   "execution_count": 45,
   "outputs": [
    {
     "name": "stderr",
     "output_type": "stream",
     "text": [
      "  0%|          | 0/1018 [00:00<?, ?it/s]/var/folders/f0/_f_gy0t91jqchv14f0hcl_gh0000gn/T/ipykernel_68914/3704106183.py:36: UserWarning: To copy construct from a tensor, it is recommended to use sourceTensor.clone().detach() or sourceTensor.clone().detach().requires_grad_(True), rather than torch.tensor(sourceTensor).\n",
      "  return torch.tensor(inputs), torch.tensor(targets)\n",
      "100%|██████████| 1018/1018 [06:45<00:00,  2.51it/s] \n"
     ]
    }
   ],
   "source": [
    "# just 1 epoch..\n",
    "i = 0\n",
    "for Xb,yb in tqdm(dataloader):\n",
    "    # forward pass\n",
    "    _,loss = model.calculate_loss(Xb,yb)\n",
    "\n",
    "    # flush the gradients \n",
    "    optimizer.zero_grad(set_to_none=True)\n",
    "\n",
    "    # backprop\n",
    "    loss.backward()\n",
    "\n",
    "    # learning step\n",
    "    optimizer.step()\n",
    "\n",
    "    # for plotting\n",
    "    track_loss.append(loss.item())\n"
   ],
   "metadata": {
    "collapsed": false,
    "ExecuteTime": {
     "end_time": "2024-06-11T17:17:42.206731Z",
     "start_time": "2024-06-11T17:10:56.853858Z"
    }
   },
   "id": "e80ba520fe4ef32"
  },
  {
   "cell_type": "code",
   "execution_count": 46,
   "outputs": [
    {
     "data": {
      "text/plain": "<Figure size 1500x800 with 1 Axes>",
      "image/png": "[encoded data removed]"
     },
     "metadata": {},
     "output_type": "display_data"
    }
   ],
   "source": [
    "import matplotlib.pyplot as plt\n",
    "plt.figure(figsize=(15,8))\n",
    "plt.plot(track_loss)\n",
    "plt.show()"
   ],
   "metadata": {
    "collapsed": false,
    "ExecuteTime": {
     "end_time": "2024-06-11T17:17:47.005960Z",
     "start_time": "2024-06-11T17:17:46.872576Z"
    }
   },
   "id": "c034168fcc345be3"
  },
  {
   "cell_type": "code",
   "execution_count": 47,
   "outputs": [
    {
     "data": {
      "text/plain": "-9.997842731017274"
     },
     "execution_count": 47,
     "metadata": {},
     "output_type": "execute_result"
    }
   ],
   "source": [
    "#expected loss\n",
    "np.log(1/config.vocab_length)"
   ],
   "metadata": {
    "collapsed": false,
    "ExecuteTime": {
     "end_time": "2024-06-11T17:17:51.041474Z",
     "start_time": "2024-06-11T17:17:51.018335Z"
    }
   },
   "id": "8e425b109b07ede0"
  },
  {
   "cell_type": "code",
   "execution_count": 48,
   "outputs": [
    {
     "data": {
      "text/plain": "tensor(0.5208, grad_fn=<NllLossBackward0>)"
     },
     "execution_count": 48,
     "metadata": {},
     "output_type": "execute_result"
    }
   ],
   "source": [
    "loss"
   ],
   "metadata": {
    "collapsed": false,
    "ExecuteTime": {
     "end_time": "2024-06-11T17:17:52.235671Z",
     "start_time": "2024-06-11T17:17:52.223936Z"
    }
   },
   "id": "9e3fdb526bdf15c1"
  },
  {
   "cell_type": "code",
   "execution_count": 67,
   "outputs": [
    {
     "data": {
      "text/plain": "38"
     },
     "execution_count": 67,
     "metadata": {},
     "output_type": "execute_result"
    }
   ],
   "source": [
    "sample_row = model.generate()\n",
    "len(sample_row)"
   ],
   "metadata": {
    "collapsed": false,
    "ExecuteTime": {
     "end_time": "2024-06-11T17:24:49.293169Z",
     "start_time": "2024-06-11T17:24:48.680521Z"
    }
   },
   "id": "41811a19f44933d4"
  },
  {
   "cell_type": "code",
   "execution_count": 69,
   "outputs": [
    {
     "name": "stdout",
     "output_type": "stream",
     "text": [
      "Encoded Documents: [0, 24, 12, 4, 27, 243, 21689, 21716, 21710, 21702, 21721, 21727, 21744, 21745, 21750, 21830, 21822, 21812, 21802, 21792, 21782, 21772, 21762, 21752, 21905, 21897, 21886, 21875, 21864, 21859, 21845, 21835, 21930, 21922, 21912, 21932, 21975, 21976]\n",
      "Decoded Row: ['<start>', '38.87398', 'Private', '155603', 'Bachelors', '12.93582', 'Married-civ-spouse', 'Prof-specialty', 'Wife', 'White', 'Female', '0.00000', '1886.99991', '34.81332', 'United-States', '>50K', '<end>']\n"
     ]
    }
   ],
   "source": [
    "# Decoding the generation\n",
    "sample_encoded_row = sample_row\n",
    "print(f\"Encoded Documents: {sample_encoded_row}\")\n",
    "decoded_row = []\n",
    "for col, size in zip(columns, column_codes.sizes):\n",
    "    token_ids = sample_encoded_row[:size]\n",
    "    decoded_value = column_codes.decode(col, token_ids)\n",
    "    decoded_row.append(decoded_value)\n",
    "    sample_encoded_row = sample_encoded_row[size:]\n",
    "\n",
    "# Display the encoded documents and decoded row\n",
    "print(f\"Decoded Row: {decoded_row}\")  # Show the decoded values of the first encoded row\n"
   ],
   "metadata": {
    "collapsed": false,
    "ExecuteTime": {
     "end_time": "2024-06-11T17:30:55.985692Z",
     "start_time": "2024-06-11T17:30:55.940332Z"
    }
   },
   "id": "35aa36079b264769"
  },
  {
   "cell_type": "code",
   "execution_count": 70,
   "outputs": [],
   "source": [
    "# make more generations \n",
    "n_generations = 2\n",
    "gens = []\n",
    "for i in range(n_generations):\n",
    "    while True:\n",
    "        sample = model.generate()\n",
    "        if len(sample) == context_window:\n",
    "            break\n",
    "    gens.append(sample)"
   ],
   "metadata": {
    "collapsed": false,
    "ExecuteTime": {
     "end_time": "2024-06-11T17:35:01.619580Z",
     "start_time": "2024-06-11T17:34:58.311033Z"
    }
   },
   "id": "8148e648030f619c"
  },
  {
   "cell_type": "code",
   "execution_count": 74,
   "outputs": [],
   "source": [
    "def decode_generartion(gen):\n",
    "    # Decoding the generation\n",
    "    sample_encoded_row = gen\n",
    "    print(f\"Encoded Documents: {sample_encoded_row}\")\n",
    "    decoded_row = []\n",
    "    for col, size in zip(columns, column_codes.sizes):\n",
    "        token_ids = sample_encoded_row[:size]\n",
    "        decoded_value = column_codes.decode(col, token_ids)\n",
    "        decoded_row.append(decoded_value)\n",
    "        sample_encoded_row = sample_encoded_row[size:]\n",
    "\n",
    "    # Display the encoded documents and decoded row\n",
    "    print(f\"Decoded Row: {decoded_row}\")  # Show the decoded values of the first encoded row\n",
    "        "
   ],
   "metadata": {
    "collapsed": false,
    "ExecuteTime": {
     "end_time": "2024-06-11T17:36:41.405373Z",
     "start_time": "2024-06-11T17:36:41.389429Z"
    }
   },
   "id": "113d7ad79d2a141f"
  },
  {
   "cell_type": "code",
   "execution_count": 75,
   "outputs": [
    {
     "name": "stdout",
     "output_type": "stream",
     "text": [
      "Encoded Documents: [0, 24, 13, 10, 27, 749, 21685, 21715, 21708, 21704, 21721, 21726, 21743, 21746, 21751, 21830, 21822, 21812, 21802, 21792, 21782, 21772, 21762, 21752, 21905, 21897, 21886, 21875, 21864, 21859, 21845, 21835, 21930, 21923, 21915, 21933, 21975, 21976]\n",
      "Decoded Row: ['<start>', '42.84286', 'Private', '266324', '7th-8th', '3.97490', 'Married-civ-spouse', 'Machine-op-inspct', 'Husband', 'Black', 'Male', '0.00000', '1886.99991', '39.64639', '?', '>50K', '<end>']\n"
     ]
    }
   ],
   "source": [
    "decode_generartion(gens[0])"
   ],
   "metadata": {
    "collapsed": false,
    "ExecuteTime": {
     "end_time": "2024-06-11T17:36:52.886449Z",
     "start_time": "2024-06-11T17:36:52.856764Z"
    }
   },
   "id": "affe364ba6b51d25"
  },
  {
   "cell_type": "code",
   "execution_count": 76,
   "outputs": [
    {
     "name": "stdout",
     "output_type": "stream",
     "text": [
      "Encoded Documents: [0, 24, 12, 4, 27, 243, 21689, 21716, 21710, 21702, 21721, 21727, 21744, 21747, 21750, 21830, 21822, 21812, 21802, 21792, 21782, 21772, 21762, 21752, 21905, 21897, 21890, 21881, 21870, 21856, 21843, 21837, 21930, 21923, 21915, 21932, 21975, 21976]\n",
      "Decoded Row: ['<start>', '38.87398', 'Private', '155603', 'Bachelors', '12.93582', 'Married-civ-spouse', 'Prof-specialty', 'Wife', 'Asian-Pac-Islander', 'Female', '0.00000', '1976.99998', '39.64639', 'United-States', '>50K', '<end>']\n"
     ]
    }
   ],
   "source": [
    "decode_generartion(gens[1])"
   ],
   "metadata": {
    "collapsed": false,
    "ExecuteTime": {
     "end_time": "2024-06-11T17:37:13.186032Z",
     "start_time": "2024-06-11T17:37:13.131793Z"
    }
   },
   "id": "bb2c16cd4896903e"
  },
  {
   "cell_type": "code",
   "execution_count": null,
   "outputs": [],
   "source": [],
   "metadata": {
    "collapsed": false
   },
   "id": "b3c72ea0b01b08ae"
  }
 ],
 "metadata": {
  "kernelspec": {
   "display_name": "Python 3",
   "language": "python",
   "name": "python3"
  },
  "language_info": {
   "codemirror_mode": {
    "name": "ipython",
    "version": 2
   },
   "file_extension": ".py",
   "mimetype": "text/x-python",
   "name": "python",
   "nbconvert_exporter": "python",
   "pygments_lexer": "ipython2",
   "version": "2.7.6"
  }
 },
 "nbformat": 4,
 "nbformat_minor": 5
}
