{
 "cells": [
  {
   "cell_type": "code",
   "execution_count": 1,
   "outputs": [
    {
     "data": {
      "text/plain": "       age workclass  fnlwgt     education  education.num      marital.status  \\\n0       90         ?   77053       HS-grad              9             Widowed   \n1       82   Private  132870       HS-grad              9             Widowed   \n2       66         ?  186061  Some-college             10             Widowed   \n3       54   Private  140359       7th-8th              4            Divorced   \n4       41   Private  264663  Some-college             10           Separated   \n...    ...       ...     ...           ...            ...                 ...   \n32556   22   Private  310152  Some-college             10       Never-married   \n32557   27   Private  257302    Assoc-acdm             12  Married-civ-spouse   \n32558   40   Private  154374       HS-grad              9  Married-civ-spouse   \n32559   58   Private  151910       HS-grad              9             Widowed   \n32560   22   Private  201490       HS-grad              9       Never-married   \n\n              occupation   relationship   race     sex  capital.gain  \\\n0                      ?  Not-in-family  White  Female             0   \n1        Exec-managerial  Not-in-family  White  Female             0   \n2                      ?      Unmarried  Black  Female             0   \n3      Machine-op-inspct      Unmarried  White  Female             0   \n4         Prof-specialty      Own-child  White  Female             0   \n...                  ...            ...    ...     ...           ...   \n32556    Protective-serv  Not-in-family  White    Male             0   \n32557       Tech-support           Wife  White  Female             0   \n32558  Machine-op-inspct        Husband  White    Male             0   \n32559       Adm-clerical      Unmarried  White  Female             0   \n32560       Adm-clerical      Own-child  White    Male             0   \n\n       capital.loss  hours.per.week native.country income  \n0              4356              40  United-States  <=50K  \n1              4356              18  United-States  <=50K  \n2              4356              40  United-States  <=50K  \n3              3900              40  United-States  <=50K  \n4              3900              40  United-States  <=50K  \n...             ...             ...            ...    ...  \n32556             0              40  United-States  <=50K  \n32557             0              38  United-States  <=50K  \n32558             0              40  United-States   >50K  \n32559             0              40  United-States  <=50K  \n32560             0              20  United-States  <=50K  \n\n[32561 rows x 15 columns]",
      "text/html": "<div>\n<style scoped>\n    .dataframe tbody tr th:only-of-type {\n        vertical-align: middle;\n    }\n\n    .dataframe tbody tr th {\n        vertical-align: top;\n    }\n\n    .dataframe thead th {\n        text-align: right;\n    }\n</style>\n<table border=\"1\" class=\"dataframe\">\n  <thead>\n    <tr style=\"text-align: right;\">\n      <th></th>\n      <th>age</th>\n      <th>workclass</th>\n      <th>fnlwgt</th>\n      <th>education</th>\n      <th>education.num</th>\n      <th>marital.status</th>\n      <th>occupation</th>\n      <th>relationship</th>\n      <th>race</th>\n      <th>sex</th>\n      <th>capital.gain</th>\n      <th>capital.loss</th>\n      <th>hours.per.week</th>\n      <th>native.country</th>\n      <th>income</th>\n    </tr>\n  </thead>\n  <tbody>\n    <tr>\n      <th>0</th>\n      <td>90</td>\n      <td>?</td>\n      <td>77053</td>\n      <td>HS-grad</td>\n      <td>9</td>\n      <td>Widowed</td>\n      <td>?</td>\n      <td>Not-in-family</td>\n      <td>White</td>\n      <td>Female</td>\n      <td>0</td>\n      <td>4356</td>\n      <td>40</td>\n      <td>United-States</td>\n      <td>&lt;=50K</td>\n    </tr>\n    <tr>\n      <th>1</th>\n      <td>82</td>\n      <td>Private</td>\n      <td>132870</td>\n      <td>HS-grad</td>\n      <td>9</td>\n      <td>Widowed</td>\n      <td>Exec-managerial</td>\n      <td>Not-in-family</td>\n      <td>White</td>\n      <td>Female</td>\n      <td>0</td>\n      <td>4356</td>\n      <td>18</td>\n      <td>United-States</td>\n      <td>&lt;=50K</td>\n    </tr>\n    <tr>\n      <th>2</th>\n      <td>66</td>\n      <td>?</td>\n      <td>186061</td>\n      <td>Some-college</td>\n      <td>10</td>\n      <td>Widowed</td>\n      <td>?</td>\n      <td>Unmarried</td>\n      <td>Black</td>\n      <td>Female</td>\n      <td>0</td>\n      <td>4356</td>\n      <td>40</td>\n      <td>United-States</td>\n      <td>&lt;=50K</td>\n    </tr>\n    <tr>\n      <th>3</th>\n      <td>54</td>\n      <td>Private</td>\n      <td>140359</td>\n      <td>7th-8th</td>\n      <td>4</td>\n      <td>Divorced</td>\n      <td>Machine-op-inspct</td>\n      <td>Unmarried</td>\n      <td>White</td>\n      <td>Female</td>\n      <td>0</td>\n      <td>3900</td>\n      <td>40</td>\n      <td>United-States</td>\n      <td>&lt;=50K</td>\n    </tr>\n    <tr>\n      <th>4</th>\n      <td>41</td>\n      <td>Private</td>\n      <td>264663</td>\n      <td>Some-college</td>\n      <td>10</td>\n      <td>Separated</td>\n      <td>Prof-specialty</td>\n      <td>Own-child</td>\n      <td>White</td>\n      <td>Female</td>\n      <td>0</td>\n      <td>3900</td>\n      <td>40</td>\n      <td>United-States</td>\n      <td>&lt;=50K</td>\n    </tr>\n    <tr>\n      <th>...</th>\n      <td>...</td>\n      <td>...</td>\n      <td>...</td>\n      <td>...</td>\n      <td>...</td>\n      <td>...</td>\n      <td>...</td>\n      <td>...</td>\n      <td>...</td>\n      <td>...</td>\n      <td>...</td>\n      <td>...</td>\n      <td>...</td>\n      <td>...</td>\n      <td>...</td>\n    </tr>\n    <tr>\n      <th>32556</th>\n      <td>22</td>\n      <td>Private</td>\n      <td>310152</td>\n      <td>Some-college</td>\n      <td>10</td>\n      <td>Never-married</td>\n      <td>Protective-serv</td>\n      <td>Not-in-family</td>\n      <td>White</td>\n      <td>Male</td>\n      <td>0</td>\n      <td>0</td>\n      <td>40</td>\n      <td>United-States</td>\n      <td>&lt;=50K</td>\n    </tr>\n    <tr>\n      <th>32557</th>\n      <td>27</td>\n      <td>Private</td>\n      <td>257302</td>\n      <td>Assoc-acdm</td>\n      <td>12</td>\n      <td>Married-civ-spouse</td>\n      <td>Tech-support</td>\n      <td>Wife</td>\n      <td>White</td>\n      <td>Female</td>\n      <td>0</td>\n      <td>0</td>\n      <td>38</td>\n      <td>United-States</td>\n      <td>&lt;=50K</td>\n    </tr>\n    <tr>\n      <th>32558</th>\n      <td>40</td>\n      <td>Private</td>\n      <td>154374</td>\n      <td>HS-grad</td>\n      <td>9</td>\n      <td>Married-civ-spouse</td>\n      <td>Machine-op-inspct</td>\n      <td>Husband</td>\n      <td>White</td>\n      <td>Male</td>\n      <td>0</td>\n      <td>0</td>\n      <td>40</td>\n      <td>United-States</td>\n      <td>&gt;50K</td>\n    </tr>\n    <tr>\n      <th>32559</th>\n      <td>58</td>\n      <td>Private</td>\n      <td>151910</td>\n      <td>HS-grad</td>\n      <td>9</td>\n      <td>Widowed</td>\n      <td>Adm-clerical</td>\n      <td>Unmarried</td>\n      <td>White</td>\n      <td>Female</td>\n      <td>0</td>\n      <td>0</td>\n      <td>40</td>\n      <td>United-States</td>\n      <td>&lt;=50K</td>\n    </tr>\n    <tr>\n      <th>32560</th>\n      <td>22</td>\n      <td>Private</td>\n      <td>201490</td>\n      <td>HS-grad</td>\n      <td>9</td>\n      <td>Never-married</td>\n      <td>Adm-clerical</td>\n      <td>Own-child</td>\n      <td>White</td>\n      <td>Male</td>\n      <td>0</td>\n      <td>0</td>\n      <td>20</td>\n      <td>United-States</td>\n      <td>&lt;=50K</td>\n    </tr>\n  </tbody>\n</table>\n<p>32561 rows × 15 columns</p>\n</div>"
     },
     "execution_count": 1,
     "metadata": {},
     "output_type": "execute_result"
    }
   ],
   "source": [
    "import numpy as np, pandas as pd\n",
    "\n",
    "df = pd.read_csv(\"../../datasets/income/adult.csv\")\n",
    "df"
   ],
   "metadata": {
    "collapsed": false,
    "ExecuteTime": {
     "end_time": "2024-06-10T22:55:30.713687Z",
     "start_time": "2024-06-10T22:55:30.669850Z"
    }
   },
   "id": "7e7804fbcfcd58ee"
  },
  {
   "cell_type": "code",
   "execution_count": 2,
   "outputs": [],
   "source": [
    "df.rename(columns={\"marital.status\":\"marital_status\",\n",
    "           \"education.num\" : \"education_num\",\n",
    "           \"capital.gain\": \"capital_gain\",\n",
    "           \"capital.loss\":\"capital_loss\",\n",
    "           \"hours.per.week\":\"hours_per_week\",\n",
    "           \"native.country\":\"native_country\"},inplace=True)"
   ],
   "metadata": {
    "collapsed": false,
    "ExecuteTime": {
     "end_time": "2024-06-10T22:55:30.715033Z",
     "start_time": "2024-06-10T22:55:30.713059Z"
    }
   },
   "id": "d4298962018410e1"
  },
  {
   "cell_type": "code",
   "execution_count": 3,
   "outputs": [
    {
     "data": {
      "text/plain": "       age workclass  fnlwgt     education  education_num      marital_status  \\\n0       90         ?   77053       HS-grad              9             Widowed   \n1       82   Private  132870       HS-grad              9             Widowed   \n2       66         ?  186061  Some-college             10             Widowed   \n3       54   Private  140359       7th-8th              4            Divorced   \n4       41   Private  264663  Some-college             10           Separated   \n...    ...       ...     ...           ...            ...                 ...   \n32556   22   Private  310152  Some-college             10       Never-married   \n32557   27   Private  257302    Assoc-acdm             12  Married-civ-spouse   \n32558   40   Private  154374       HS-grad              9  Married-civ-spouse   \n32559   58   Private  151910       HS-grad              9             Widowed   \n32560   22   Private  201490       HS-grad              9       Never-married   \n\n              occupation   relationship   race     sex  capital_gain  \\\n0                      ?  Not-in-family  White  Female             0   \n1        Exec-managerial  Not-in-family  White  Female             0   \n2                      ?      Unmarried  Black  Female             0   \n3      Machine-op-inspct      Unmarried  White  Female             0   \n4         Prof-specialty      Own-child  White  Female             0   \n...                  ...            ...    ...     ...           ...   \n32556    Protective-serv  Not-in-family  White    Male             0   \n32557       Tech-support           Wife  White  Female             0   \n32558  Machine-op-inspct        Husband  White    Male             0   \n32559       Adm-clerical      Unmarried  White  Female             0   \n32560       Adm-clerical      Own-child  White    Male             0   \n\n       capital_loss  hours_per_week native_country income  \n0              4356              40  United-States  <=50K  \n1              4356              18  United-States  <=50K  \n2              4356              40  United-States  <=50K  \n3              3900              40  United-States  <=50K  \n4              3900              40  United-States  <=50K  \n...             ...             ...            ...    ...  \n32556             0              40  United-States  <=50K  \n32557             0              38  United-States  <=50K  \n32558             0              40  United-States   >50K  \n32559             0              40  United-States  <=50K  \n32560             0              20  United-States  <=50K  \n\n[32561 rows x 15 columns]",
      "text/html": "<div>\n<style scoped>\n    .dataframe tbody tr th:only-of-type {\n        vertical-align: middle;\n    }\n\n    .dataframe tbody tr th {\n        vertical-align: top;\n    }\n\n    .dataframe thead th {\n        text-align: right;\n    }\n</style>\n<table border=\"1\" class=\"dataframe\">\n  <thead>\n    <tr style=\"text-align: right;\">\n      <th></th>\n      <th>age</th>\n      <th>workclass</th>\n      <th>fnlwgt</th>\n      <th>education</th>\n      <th>education_num</th>\n      <th>marital_status</th>\n      <th>occupation</th>\n      <th>relationship</th>\n      <th>race</th>\n      <th>sex</th>\n      <th>capital_gain</th>\n      <th>capital_loss</th>\n      <th>hours_per_week</th>\n      <th>native_country</th>\n      <th>income</th>\n    </tr>\n  </thead>\n  <tbody>\n    <tr>\n      <th>0</th>\n      <td>90</td>\n      <td>?</td>\n      <td>77053</td>\n      <td>HS-grad</td>\n      <td>9</td>\n      <td>Widowed</td>\n      <td>?</td>\n      <td>Not-in-family</td>\n      <td>White</td>\n      <td>Female</td>\n      <td>0</td>\n      <td>4356</td>\n      <td>40</td>\n      <td>United-States</td>\n      <td>&lt;=50K</td>\n    </tr>\n    <tr>\n      <th>1</th>\n      <td>82</td>\n      <td>Private</td>\n      <td>132870</td>\n      <td>HS-grad</td>\n      <td>9</td>\n      <td>Widowed</td>\n      <td>Exec-managerial</td>\n      <td>Not-in-family</td>\n      <td>White</td>\n      <td>Female</td>\n      <td>0</td>\n      <td>4356</td>\n      <td>18</td>\n      <td>United-States</td>\n      <td>&lt;=50K</td>\n    </tr>\n    <tr>\n      <th>2</th>\n      <td>66</td>\n      <td>?</td>\n      <td>186061</td>\n      <td>Some-college</td>\n      <td>10</td>\n      <td>Widowed</td>\n      <td>?</td>\n      <td>Unmarried</td>\n      <td>Black</td>\n      <td>Female</td>\n      <td>0</td>\n      <td>4356</td>\n      <td>40</td>\n      <td>United-States</td>\n      <td>&lt;=50K</td>\n    </tr>\n    <tr>\n      <th>3</th>\n      <td>54</td>\n      <td>Private</td>\n      <td>140359</td>\n      <td>7th-8th</td>\n      <td>4</td>\n      <td>Divorced</td>\n      <td>Machine-op-inspct</td>\n      <td>Unmarried</td>\n      <td>White</td>\n      <td>Female</td>\n      <td>0</td>\n      <td>3900</td>\n      <td>40</td>\n      <td>United-States</td>\n      <td>&lt;=50K</td>\n    </tr>\n    <tr>\n      <th>4</th>\n      <td>41</td>\n      <td>Private</td>\n      <td>264663</td>\n      <td>Some-college</td>\n      <td>10</td>\n      <td>Separated</td>\n      <td>Prof-specialty</td>\n      <td>Own-child</td>\n      <td>White</td>\n      <td>Female</td>\n      <td>0</td>\n      <td>3900</td>\n      <td>40</td>\n      <td>United-States</td>\n      <td>&lt;=50K</td>\n    </tr>\n    <tr>\n      <th>...</th>\n      <td>...</td>\n      <td>...</td>\n      <td>...</td>\n      <td>...</td>\n      <td>...</td>\n      <td>...</td>\n      <td>...</td>\n      <td>...</td>\n      <td>...</td>\n      <td>...</td>\n      <td>...</td>\n      <td>...</td>\n      <td>...</td>\n      <td>...</td>\n      <td>...</td>\n    </tr>\n    <tr>\n      <th>32556</th>\n      <td>22</td>\n      <td>Private</td>\n      <td>310152</td>\n      <td>Some-college</td>\n      <td>10</td>\n      <td>Never-married</td>\n      <td>Protective-serv</td>\n      <td>Not-in-family</td>\n      <td>White</td>\n      <td>Male</td>\n      <td>0</td>\n      <td>0</td>\n      <td>40</td>\n      <td>United-States</td>\n      <td>&lt;=50K</td>\n    </tr>\n    <tr>\n      <th>32557</th>\n      <td>27</td>\n      <td>Private</td>\n      <td>257302</td>\n      <td>Assoc-acdm</td>\n      <td>12</td>\n      <td>Married-civ-spouse</td>\n      <td>Tech-support</td>\n      <td>Wife</td>\n      <td>White</td>\n      <td>Female</td>\n      <td>0</td>\n      <td>0</td>\n      <td>38</td>\n      <td>United-States</td>\n      <td>&lt;=50K</td>\n    </tr>\n    <tr>\n      <th>32558</th>\n      <td>40</td>\n      <td>Private</td>\n      <td>154374</td>\n      <td>HS-grad</td>\n      <td>9</td>\n      <td>Married-civ-spouse</td>\n      <td>Machine-op-inspct</td>\n      <td>Husband</td>\n      <td>White</td>\n      <td>Male</td>\n      <td>0</td>\n      <td>0</td>\n      <td>40</td>\n      <td>United-States</td>\n      <td>&gt;50K</td>\n    </tr>\n    <tr>\n      <th>32559</th>\n      <td>58</td>\n      <td>Private</td>\n      <td>151910</td>\n      <td>HS-grad</td>\n      <td>9</td>\n      <td>Widowed</td>\n      <td>Adm-clerical</td>\n      <td>Unmarried</td>\n      <td>White</td>\n      <td>Female</td>\n      <td>0</td>\n      <td>0</td>\n      <td>40</td>\n      <td>United-States</td>\n      <td>&lt;=50K</td>\n    </tr>\n    <tr>\n      <th>32560</th>\n      <td>22</td>\n      <td>Private</td>\n      <td>201490</td>\n      <td>HS-grad</td>\n      <td>9</td>\n      <td>Never-married</td>\n      <td>Adm-clerical</td>\n      <td>Own-child</td>\n      <td>White</td>\n      <td>Male</td>\n      <td>0</td>\n      <td>0</td>\n      <td>20</td>\n      <td>United-States</td>\n      <td>&lt;=50K</td>\n    </tr>\n  </tbody>\n</table>\n<p>32561 rows × 15 columns</p>\n</div>"
     },
     "execution_count": 3,
     "metadata": {},
     "output_type": "execute_result"
    }
   ],
   "source": [
    "df"
   ],
   "metadata": {
    "collapsed": false,
    "ExecuteTime": {
     "end_time": "2024-06-10T22:55:30.723688Z",
     "start_time": "2024-06-10T22:55:30.715730Z"
    }
   },
   "id": "e07cea598f3fdcd5"
  },
  {
   "cell_type": "code",
   "execution_count": 4,
   "outputs": [
    {
     "data": {
      "text/plain": "age               float64\nworkclass          object\nfnlwgt              int64\neducation          object\neducation_num     float64\nmarital_status     object\noccupation         object\nrelationship       object\nrace               object\nsex                object\ncapital_gain      float64\ncapital_loss      float64\nhours_per_week    float64\nnative_country     object\nincome             object\ndtype: object"
     },
     "execution_count": 4,
     "metadata": {},
     "output_type": "execute_result"
    }
   ],
   "source": [
    "FLOAT_COLS = ['age','education_num', 'capital_gain','capital_loss','hours_per_week']\n",
    "for col in FLOAT_COLS:\n",
    "    df[col] = df[col].astype(\"float\")\n",
    "df.dtypes"
   ],
   "metadata": {
    "collapsed": false,
    "ExecuteTime": {
     "end_time": "2024-06-10T22:55:30.727701Z",
     "start_time": "2024-06-10T22:55:30.722099Z"
    }
   },
   "id": "19f6284cdffb5e58"
  },
  {
   "cell_type": "code",
   "execution_count": 5,
   "outputs": [],
   "source": [
    "# Each row is a document for iid sample in this dataset"
   ],
   "metadata": {
    "collapsed": false,
    "ExecuteTime": {
     "end_time": "2024-06-10T22:55:30.729311Z",
     "start_time": "2024-06-10T22:55:30.727071Z"
    }
   },
   "id": "b2e2413ed7ee4c0f"
  },
  {
   "cell_type": "code",
   "execution_count": 6,
   "outputs": [
    {
     "name": "stdout",
     "output_type": "stream",
     "text": [
      "age 0\n",
      "workclass 25\n",
      "fnlwgt 34\n",
      "education 21682\n",
      "education_num 21698\n",
      "marital_status 21716\n",
      "occupation 21723\n",
      "relationship 21738\n",
      "race 21744\n",
      "sex 21749\n",
      "capital_gain 21751\n",
      "capital_loss 21831\n",
      "hours_per_week 21906\n",
      "native_country 21931\n",
      "income 21973\n",
      "Each row uses 37 tokens\n"
     ]
    }
   ],
   "source": [
    "# Both IBM and Nvidia piclke their tokens .. easiear at inference time ?\n",
    "vocabulary_path = 'income_coder.pickle'\n",
    "\n",
    "import pickle\n",
    "from utils.column_code import ColumnTokenizer, FloatTokenizer, CategoricalTokenizer\n",
    "\n",
    "# filling missing rows with None\n",
    "df = df.fillna('None')\n",
    "\n",
    "column_codes = ColumnTokenizer()\n",
    "\n",
    "beg = 0\n",
    "cc = None\n",
    "\n",
    "#ACTION MAKE SURE THE COLUMNS ARE CORRECT HERE.\n",
    "EXCLUDED_COLS = []\n",
    "columns = [col for col in df.columns if col not in EXCLUDED_COLS]\n",
    "\n",
    "\n",
    "for column in columns:\n",
    "    start_id = beg if cc is None else cc.end_id\n",
    "    print(column, start_id)\n",
    "    if column in FLOAT_COLS:\n",
    "        # robust works best for income dataset ()\n",
    "        cc = FloatTokenizer(column, df[[column]], start_id, transform=\"log\")\n",
    "\n",
    "    else:\n",
    "        cc = CategoricalTokenizer(column, df[column], start_id)\n",
    "\n",
    "    column_codes.register(column, cc)\n",
    "\n",
    "# add 1 for newline char to separate each row\n",
    "print('Each row uses', sum(column_codes.sizes) + 1, 'tokens')\n",
    "\n",
    "# save the encoder and decoder\n",
    "with open(vocabulary_path, 'wb') as handle:\n",
    "    pickle.dump(column_codes, handle)"
   ],
   "metadata": {
    "collapsed": false,
    "ExecuteTime": {
     "end_time": "2024-06-10T22:55:30.851985Z",
     "start_time": "2024-06-10T22:55:30.730959Z"
    }
   },
   "id": "308238fede56eed6"
  },
  {
   "cell_type": "code",
   "execution_count": 7,
   "outputs": [
    {
     "name": "stdout",
     "output_type": "stream",
     "text": [
      "age:\t 3\n",
      "workclass:\t 1\n",
      "fnlwgt:\t 1\n",
      "education:\t 1\n",
      "education_num:\t 3\n",
      "marital_status:\t 1\n",
      "occupation:\t 1\n",
      "relationship:\t 1\n",
      "race:\t 1\n",
      "sex:\t 1\n",
      "capital_gain:\t 9\n",
      "capital_loss:\t 8\n",
      "hours_per_week:\t 3\n",
      "native_country:\t 1\n",
      "income:\t 1\n"
     ]
    }
   ],
   "source": [
    "for col, size in zip(column_codes.columns, column_codes.sizes):\n",
    "    print(f'{col}:\\t {size}')"
   ],
   "metadata": {
    "collapsed": false,
    "ExecuteTime": {
     "end_time": "2024-06-10T22:55:30.855941Z",
     "start_time": "2024-06-10T22:55:30.852514Z"
    }
   },
   "id": "81b9d7e4d92046d"
  },
  {
   "cell_type": "code",
   "execution_count": 8,
   "outputs": [
    {
     "data": {
      "text/plain": "<Axes: ylabel='Frequency'>"
     },
     "execution_count": 8,
     "metadata": {},
     "output_type": "execute_result"
    },
    {
     "data": {
      "text/plain": "<Figure size 640x480 with 1 Axes>",
      "image/png": "[encoded data removed]"
     },
     "metadata": {},
     "output_type": "display_data"
    }
   ],
   "source": [
    "df.capital_gain.plot(kind=\"hist\")"
   ],
   "metadata": {
    "collapsed": false,
    "ExecuteTime": {
     "end_time": "2024-06-10T22:55:31.100990Z",
     "start_time": "2024-06-10T22:55:30.855527Z"
    }
   },
   "id": "c80bbe8c9ae3ae7"
  },
  {
   "cell_type": "code",
   "execution_count": 9,
   "outputs": [
    {
     "data": {
      "text/plain": "<Axes: ylabel='Frequency'>"
     },
     "execution_count": 9,
     "metadata": {},
     "output_type": "execute_result"
    },
    {
     "data": {
      "text/plain": "<Figure size 640x480 with 1 Axes>",
      "image/png": "[encoded data removed]"
     },
     "metadata": {},
     "output_type": "display_data"
    }
   ],
   "source": [
    "df.hours_per_week.plot(kind=\"hist\")"
   ],
   "metadata": {
    "collapsed": false,
    "ExecuteTime": {
     "end_time": "2024-06-10T22:55:31.282132Z",
     "start_time": "2024-06-10T22:55:31.103154Z"
    }
   },
   "id": "763f26082fa5199a"
  },
  {
   "cell_type": "code",
   "execution_count": 10,
   "outputs": [],
   "source": [
    "column_codes = ColumnTokenizer()\n",
    "with open(vocabulary_path, 'rb') as handle:\n",
    "    column_codes = pickle.load(handle)"
   ],
   "metadata": {
    "collapsed": false,
    "ExecuteTime": {
     "end_time": "2024-06-10T22:55:31.296590Z",
     "start_time": "2024-06-10T22:55:31.286137Z"
    }
   },
   "id": "dc508ef889abdbda"
  },
  {
   "cell_type": "code",
   "execution_count": 11,
   "outputs": [],
   "source": [
    "import json\n",
    "from utils.tabular_tokenizer import TabularTokenizer\n",
    "ENDOFTEXT = '<end>'\n",
    "DELIMITER = '|'\n",
    "tokenizer = TabularTokenizer(vocabulary_path,\n",
    "                             special_tokens=['\\n', ENDOFTEXT],\n",
    "                             delimiter=DELIMITER)"
   ],
   "metadata": {
    "collapsed": false,
    "ExecuteTime": {
     "end_time": "2024-06-10T22:55:31.325909Z",
     "start_time": "2024-06-10T22:55:31.296950Z"
    }
   },
   "id": "49bc34c85989c19c"
  },
  {
   "cell_type": "code",
   "execution_count": 12,
   "outputs": [
    {
     "data": {
      "text/plain": "21975"
     },
     "execution_count": 12,
     "metadata": {},
     "output_type": "execute_result"
    }
   ],
   "source": [
    "tokenizer.eor"
   ],
   "metadata": {
    "collapsed": false,
    "ExecuteTime": {
     "end_time": "2024-06-10T22:55:31.326156Z",
     "start_time": "2024-06-10T22:55:31.313242Z"
    }
   },
   "id": "de8daddf0ca9aa49"
  },
  {
   "cell_type": "code",
   "execution_count": 13,
   "outputs": [
    {
     "name": "stdout",
     "output_type": "stream",
     "text": [
      "Token ids for 2450.46 is: [21904, 21899, 21881, 21875, 21865, 21854, 21850, 21831]\n",
      "Recovered Amount for 2450.46 is: 2450.45989\n"
     ]
    }
   ],
   "source": [
    "float_str = '2450.46' # assume\n",
    "token_ids = column_codes.encode('capital_loss', float_str)\n",
    "print('Token ids for {} is: {}'.format(float_str, token_ids))\n",
    "amt_str = column_codes.decode('capital_loss', token_ids)\n",
    "print('Recovered Amount for {} is: {}\\n'.format(float_str, amt_str))"
   ],
   "metadata": {
    "collapsed": false,
    "ExecuteTime": {
     "end_time": "2024-06-10T22:55:31.326333Z",
     "start_time": "2024-06-10T22:55:31.320812Z"
    }
   },
   "id": "533acc722e9b977c"
  },
  {
   "cell_type": "code",
   "execution_count": 14,
   "outputs": [
    {
     "name": "stdout",
     "output_type": "stream",
     "text": [
      "Token ids for Private is: [26]\n",
      "Recovered Merchant City for Private is: Private\n"
     ]
    }
   ],
   "source": [
    "work_class = 'Private'\n",
    "token_ids = column_codes.encode('workclass', work_class)\n",
    "print('Token ids for {} is: {}'.format(work_class, token_ids))\n",
    "amt_str = column_codes.decode('workclass', token_ids)\n",
    "print('Recovered Merchant City for {} is: {}'.format(work_class, amt_str))"
   ],
   "metadata": {
    "collapsed": false,
    "ExecuteTime": {
     "end_time": "2024-06-10T22:55:31.339349Z",
     "start_time": "2024-06-10T22:55:31.328058Z"
    }
   },
   "id": "286de2552b618453"
  },
  {
   "cell_type": "code",
   "execution_count": 15,
   "outputs": [
    {
     "name": "stdout",
     "output_type": "stream",
     "text": [
      "Encoded Documents (first 3): [[24, 13, 0, 25, 34, 21682, 21715, 21706, 21704, 21716, 21723, 21738, 21744, 21749, 21829, 21821, 21811, 21801, 21791, 21781, 21771, 21761, 21751, 21905, 21894, 21888, 21880, 21866, 21854, 21850, 21831, 21929, 21922, 21914, 21931, 21973], [24, 11, 8, 26, 35, 21682, 21715, 21706, 21704, 21716, 21724, 21738, 21744, 21749, 21829, 21821, 21811, 21801, 21791, 21781, 21771, 21761, 21751, 21905, 21894, 21888, 21880, 21866, 21854, 21850, 21831, 21928, 21924, 21915, 21931, 21973], [23, 19, 1, 25, 36, 21683, 21715, 21707, 21698, 21716, 21723, 21739, 21745, 21749, 21829, 21821, 21811, 21801, 21791, 21781, 21771, 21761, 21751, 21905, 21894, 21888, 21880, 21866, 21854, 21850, 21831, 21929, 21922, 21914, 21931, 21973]]\n",
      "Decoded Row: ['89.69979', '?', '77053', 'HS-grad', '8.93521', 'Widowed', '?', 'Not-in-family', 'White', 'Female', '0.00000', '4355.99989', '39.64639', 'United-States', '<=50K']\n"
     ]
    }
   ],
   "source": [
    "# so the script looks like: \n",
    "import pandas as pd\n",
    "import pickle\n",
    "from utils.column_code import ColumnTokenizer, FloatTokenizer, CategoricalTokenizer\n",
    "from utils.tabular_tokenizer import TabularTokenizer\n",
    "\n",
    "# Constants\n",
    "START = \"<start>\"\n",
    "ENDOFTEXT = '<end>'\n",
    "DELIMITER = '|'\n",
    "VOCABULARY_PATH = 'income_coder.pickle'\n",
    "FLOAT_COLS = ['age', 'education_num', 'capital_gain', 'capital_loss', 'hours_per_week']\n",
    "EXCLUDED_COLS = []\n",
    "\n",
    "# Sample DataFrame (replace with your actual data)\n",
    "# df = pd.read_csv(\"../../datasets/income/adult.csv\")  # Assuming the dataset path is correct\n",
    "\n",
    "# Fill missing values\n",
    "df = df.fillna('?')\n",
    "\n",
    "# Initialize ColumnTokenizer\n",
    "column_codes = ColumnTokenizer()\n",
    "beg = 0\n",
    "cc = None\n",
    "columns = [col for col in df.columns if col not in EXCLUDED_COLS]\n",
    "\n",
    "# Register columns\n",
    "for column in columns:\n",
    "    start_id = beg if cc is None else cc.end_id\n",
    "    if column in FLOAT_COLS:\n",
    "        cc = FloatTokenizer(column, df[[column]], start_id, transform=\"log\")\n",
    "    else:\n",
    "        cc = CategoricalTokenizer(column, df[column], start_id)\n",
    "    column_codes.register(column, cc)\n",
    "\n",
    "# Save the encoder and decoder\n",
    "with open(VOCABULARY_PATH, 'wb') as handle:\n",
    "    pickle.dump(column_codes, handle)\n",
    "\n",
    "# Load the tokenizer\n",
    "tokenizer = TabularTokenizer(VOCABULARY_PATH, special_tokens=['\\n', ENDOFTEXT], delimiter=DELIMITER)\n",
    "\n",
    "# Encode the DataFrame\n",
    "encoded_docs = []\n",
    "for _, row in df.iterrows():\n",
    "    encoded_row = []\n",
    "    for col in columns:\n",
    "        encoded_value = column_codes.encode(col, str(row[col]))\n",
    "        encoded_row.extend(encoded_value)\n",
    "    encoded_docs.append(encoded_row)\n",
    "\n",
    "# Decode a sample encoded row\n",
    "sample_encoded_row = encoded_docs[0]\n",
    "decoded_row = []\n",
    "for col, size in zip(columns, column_codes.sizes):\n",
    "    token_ids = sample_encoded_row[:size]\n",
    "    decoded_value = column_codes.decode(col, token_ids)\n",
    "    decoded_row.append(decoded_value)\n",
    "    sample_encoded_row = sample_encoded_row[size:]\n",
    "\n",
    "# Display the encoded documents and decoded row\n",
    "print(f\"Encoded Documents (first 3): {encoded_docs[:3]}\")  # Show the first 3 encoded documents\n",
    "print(f\"Decoded Row: {decoded_row}\")  # Show the decoded values of the first encoded row\n"
   ],
   "metadata": {
    "collapsed": false,
    "ExecuteTime": {
     "end_time": "2024-06-10T22:55:33.317483Z",
     "start_time": "2024-06-10T22:55:31.336657Z"
    }
   },
   "id": "986bfce2b42cc38d"
  },
  {
   "cell_type": "code",
   "execution_count": 16,
   "outputs": [
    {
     "name": "stdout",
     "output_type": "stream",
     "text": [
      "age                        90.0\n",
      "workclass                     ?\n",
      "fnlwgt                    77053\n",
      "education               HS-grad\n",
      "education_num               9.0\n",
      "marital_status          Widowed\n",
      "occupation                    ?\n",
      "relationship      Not-in-family\n",
      "race                      White\n",
      "sex                      Female\n",
      "capital_gain                0.0\n",
      "capital_loss             4356.0\n",
      "hours_per_week             40.0\n",
      "native_country    United-States\n",
      "income                    <=50K\n",
      "Name: 0, dtype: object\n"
     ]
    }
   ],
   "source": [
    "print(df.iloc[0])"
   ],
   "metadata": {
    "collapsed": false,
    "ExecuteTime": {
     "end_time": "2024-06-10T22:55:33.320400Z",
     "start_time": "2024-06-10T22:55:33.317413Z"
    }
   },
   "id": "c5f80a4edd5d5b7f"
  },
  {
   "cell_type": "code",
   "execution_count": 17,
   "outputs": [
    {
     "data": {
      "text/plain": "36"
     },
     "execution_count": 17,
     "metadata": {},
     "output_type": "execute_result"
    }
   ],
   "source": [
    "len(encoded_docs[0])"
   ],
   "metadata": {
    "collapsed": false,
    "ExecuteTime": {
     "end_time": "2024-06-10T22:55:33.323480Z",
     "start_time": "2024-06-10T22:55:33.320277Z"
    }
   },
   "id": "985b6b063e264415"
  }
 ],
 "metadata": {
  "kernelspec": {
   "display_name": "Python 3",
   "language": "python",
   "name": "python3"
  },
  "language_info": {
   "codemirror_mode": {
    "name": "ipython",
    "version": 2
   },
   "file_extension": ".py",
   "mimetype": "text/x-python",
   "name": "python",
   "nbconvert_exporter": "python",
   "pygments_lexer": "ipython2",
   "version": "2.7.6"
  }
 },
 "nbformat": 4,
 "nbformat_minor": 5
}
