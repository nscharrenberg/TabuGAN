{
 "cells": [
  {
   "cell_type": "markdown",
   "source": [
    "# Tabular GAN from Scratch using Pytorch"
   ],
   "metadata": {
    "collapsed": false
   },
   "id": "78888a8d2eb45b6"
  },
  {
   "cell_type": "markdown",
   "source": [
    "The below code is a modifications of the [Pytorch DCGAN tutorial](https://pytorch.org/tutorials/beginner/dcgan_faces_tutorial.html)."
   ],
   "metadata": {
    "collapsed": false
   },
   "id": "8359edc5086ef1c"
  },
  {
   "cell_type": "code",
   "execution_count": 40,
   "id": "initial_id",
   "metadata": {
    "collapsed": true,
    "ExecuteTime": {
     "end_time": "2024-04-09T08:53:45.644740200Z",
     "start_time": "2024-04-09T08:53:45.637257100Z"
    }
   },
   "outputs": [],
   "source": [
    "import pandas as pd\n",
    "from sklearn.preprocessing import StandardScaler, OneHotEncoder\n",
    "from sklearn.compose import ColumnTransformer\n",
    "import torch\n",
    "import torch.nn as nn\n",
    "import torch.optim as optim\n",
    "from torch.utils.data import DataLoader, TensorDataset"
   ]
  },
  {
   "cell_type": "code",
   "execution_count": 41,
   "outputs": [],
   "source": [
    "df = pd.read_csv('../datasets/income/adult.csv')"
   ],
   "metadata": {
    "collapsed": false,
    "ExecuteTime": {
     "end_time": "2024-04-09T08:53:45.975327800Z",
     "start_time": "2024-04-09T08:53:45.913286200Z"
    }
   },
   "id": "7215817614e19dcb"
  },
  {
   "cell_type": "code",
   "execution_count": 42,
   "outputs": [],
   "source": [
    "df_dropped = df.drop('income', axis=1)"
   ],
   "metadata": {
    "collapsed": false,
    "ExecuteTime": {
     "end_time": "2024-04-09T08:53:46.526989600Z",
     "start_time": "2024-04-09T08:53:46.494281900Z"
    }
   },
   "id": "c452b272599bb83d"
  },
  {
   "cell_type": "code",
   "execution_count": 43,
   "outputs": [],
   "source": [
    "categorical_columns = [col for col in df_dropped.columns if df_dropped[col].dtype == 'object']\n",
    "numerical_columns = [col for col in df_dropped.columns if df_dropped[col].dtype in ['int64', 'float64']]"
   ],
   "metadata": {
    "collapsed": false,
    "ExecuteTime": {
     "end_time": "2024-04-09T08:53:47.024152300Z",
     "start_time": "2024-04-09T08:53:47.008344400Z"
    }
   },
   "id": "baca430a109df3b9"
  },
  {
   "cell_type": "code",
   "execution_count": 46,
   "outputs": [],
   "source": [
    "preprocessor = ColumnTransformer(\n",
    "    transformers=[\n",
    "        ('num', StandardScaler(), numerical_columns),\n",
    "        ('cat', OneHotEncoder(sparse_output=False), categorical_columns),\n",
    "    ])"
   ],
   "metadata": {
    "collapsed": false,
    "ExecuteTime": {
     "end_time": "2024-04-09T08:53:55.976481200Z",
     "start_time": "2024-04-09T08:53:55.960582Z"
    }
   },
   "id": "b1e71308797768f8"
  },
  {
   "cell_type": "code",
   "execution_count": 47,
   "outputs": [],
   "source": [
    "X = preprocessor.fit_transform(df_dropped)\n",
    "y = df['income'].apply(lambda x: 1 if x == '>50K' else 0).values"
   ],
   "metadata": {
    "collapsed": false,
    "ExecuteTime": {
     "end_time": "2024-04-09T08:53:56.884963400Z",
     "start_time": "2024-04-09T08:53:56.736527400Z"
    }
   },
   "id": "279a71df79cd1cd"
  },
  {
   "cell_type": "code",
   "execution_count": 48,
   "outputs": [],
   "source": [
    "X_torch = torch.tensor(X, dtype=torch.float32)\n",
    "y_torch = torch.tensor(y, dtype=torch.float32)"
   ],
   "metadata": {
    "collapsed": false,
    "ExecuteTime": {
     "end_time": "2024-04-09T08:54:16.446685Z",
     "start_time": "2024-04-09T08:54:16.411768700Z"
    }
   },
   "id": "4fc4589e8280906d"
  },
  {
   "cell_type": "code",
   "execution_count": 49,
   "outputs": [],
   "source": [
    "dataset = TensorDataset(X_torch, y_torch)"
   ],
   "metadata": {
    "collapsed": false,
    "ExecuteTime": {
     "end_time": "2024-04-09T08:54:23.452411400Z",
     "start_time": "2024-04-09T08:54:23.444522600Z"
    }
   },
   "id": "3bd4aabf26efb478"
  },
  {
   "cell_type": "code",
   "execution_count": 50,
   "outputs": [],
   "source": [
    "dataloader = DataLoader(dataset, batch_size=32, shuffle=True)"
   ],
   "metadata": {
    "collapsed": false,
    "ExecuteTime": {
     "end_time": "2024-04-09T08:54:28.040341500Z",
     "start_time": "2024-04-09T08:54:28.008318700Z"
    }
   },
   "id": "4a5ff03ed254f18b"
  },
  {
   "cell_type": "code",
   "execution_count": 51,
   "outputs": [],
   "source": [
    "class Generator(nn.Module):\n",
    "    def __init__(self, input_dim, output_dim):\n",
    "        super(Generator, self).__init__()\n",
    "        self.net = nn.Sequential(\n",
    "            nn.Linear(input_dim, 128),\n",
    "            nn.LeakyReLU(0.2),\n",
    "            nn.Linear(128, 256),\n",
    "            nn.LeakyReLU(0.2),\n",
    "            nn.Linear(256, 512),\n",
    "            nn.LeakyReLU(0.2),\n",
    "            nn.Linear(512, output_dim),\n",
    "            nn.Tanh()\n",
    "        )\n",
    "    \n",
    "    def forward(self, x):\n",
    "        return self.net(x)"
   ],
   "metadata": {
    "collapsed": false,
    "ExecuteTime": {
     "end_time": "2024-04-09T08:56:41.332136700Z",
     "start_time": "2024-04-09T08:56:41.306686400Z"
    }
   },
   "id": "b78794e4a19c36b5"
  },
  {
   "cell_type": "code",
   "execution_count": 52,
   "outputs": [],
   "source": [
    "class Discriminator(nn.Module):\n",
    "    def __init__(self, input_dim):\n",
    "        super(Discriminator, self).__init__()\n",
    "        self.net = nn.Sequential(\n",
    "            nn.Linear(input_dim, 512),\n",
    "            nn.LeakyReLU(0.2),\n",
    "            nn.Linear(512, 256),\n",
    "            nn.LeakyReLU(0.2),\n",
    "            nn.Linear(256, 128),\n",
    "            nn.LeakyReLU(0.2),\n",
    "            nn.Linear(128, 1),\n",
    "            nn.Sigmoid()\n",
    "        )\n",
    "        \n",
    "    def forward(self, x):\n",
    "        return self.net(x)"
   ],
   "metadata": {
    "collapsed": false,
    "ExecuteTime": {
     "end_time": "2024-04-09T08:58:39.579766500Z",
     "start_time": "2024-04-09T08:58:39.557755900Z"
    }
   },
   "id": "47aa30973c0b0166"
  },
  {
   "cell_type": "code",
   "execution_count": 53,
   "outputs": [],
   "source": [
    "noise_dim = 100\n",
    "generator = Generator(input_dim=noise_dim, output_dim=X.shape[1])\n",
    "discriminator = Discriminator(input_dim=X.shape[1])"
   ],
   "metadata": {
    "collapsed": false,
    "ExecuteTime": {
     "end_time": "2024-04-09T08:59:20.396548800Z",
     "start_time": "2024-04-09T08:59:20.326039700Z"
    }
   },
   "id": "8b99837ac206af9a"
  },
  {
   "cell_type": "code",
   "execution_count": 54,
   "outputs": [],
   "source": [
    "criterion = nn.BCELoss()\n",
    "optimizer_generator = optim.Adam(generator.parameters(), lr=0.0002, betas=(0.5, 0.999))\n",
    "optimizer_discriminator = optim.Adam(discriminator.parameters(), lr=0.0002, betas=(0.5, 0.999))"
   ],
   "metadata": {
    "collapsed": false,
    "ExecuteTime": {
     "end_time": "2024-04-09T09:00:33.386717900Z",
     "start_time": "2024-04-09T09:00:31.993142Z"
    }
   },
   "id": "d47ab4a4c43c8272"
  },
  {
   "cell_type": "code",
   "execution_count": null,
   "outputs": [
    {
     "name": "stdout",
     "output_type": "stream",
     "text": [
      "Epoch 1/50, Loss D: 0.6269813179969788, Loss G: 3.223327159881592\n",
      "Epoch 2/50, Loss D: 0.7031475305557251, Loss G: 2.470341205596924\n",
      "Epoch 3/50, Loss D: 0.23074853420257568, Loss G: 2.584080934524536\n",
      "Epoch 4/50, Loss D: 0.0680033266544342, Loss G: 3.892197608947754\n",
      "Epoch 5/50, Loss D: 0.4087280333042145, Loss G: 3.454986095428467\n",
      "Epoch 6/50, Loss D: 0.08409431576728821, Loss G: 4.47928524017334\n",
      "Epoch 7/50, Loss D: 0.03339972347021103, Loss G: 5.356021881103516\n",
      "Epoch 8/50, Loss D: 0.028823552653193474, Loss G: 4.5678606033325195\n",
      "Epoch 9/50, Loss D: 0.2053365260362625, Loss G: 4.6336283683776855\n",
      "Epoch 10/50, Loss D: 0.07074583321809769, Loss G: 5.367283821105957\n",
      "Epoch 11/50, Loss D: 0.04980750009417534, Loss G: 5.808785438537598\n",
      "Epoch 12/50, Loss D: 0.21247978508472443, Loss G: 4.100690841674805\n",
      "Epoch 13/50, Loss D: 0.15667684376239777, Loss G: 3.2365245819091797\n",
      "Epoch 14/50, Loss D: 0.011997371912002563, Loss G: 4.736529350280762\n",
      "Epoch 15/50, Loss D: 0.06772873550653458, Loss G: 4.726318836212158\n",
      "Epoch 16/50, Loss D: 0.024321554228663445, Loss G: 5.344759464263916\n",
      "Epoch 17/50, Loss D: 0.04313366487622261, Loss G: 4.808135032653809\n",
      "Epoch 18/50, Loss D: 0.03742149472236633, Loss G: 4.279284477233887\n",
      "Epoch 19/50, Loss D: 0.2680227756500244, Loss G: 4.448385715484619\n",
      "Epoch 20/50, Loss D: 0.011808554641902447, Loss G: 5.060031890869141\n",
      "Epoch 21/50, Loss D: 0.005741202272474766, Loss G: 5.285982608795166\n",
      "Epoch 22/50, Loss D: 0.04806927219033241, Loss G: 5.191109657287598\n",
      "Epoch 23/50, Loss D: 0.0067460983991622925, Loss G: 4.888514518737793\n",
      "Epoch 24/50, Loss D: 0.27509239315986633, Loss G: 5.036803245544434\n",
      "Epoch 25/50, Loss D: 0.009835964068770409, Loss G: 4.831470489501953\n",
      "Epoch 26/50, Loss D: 0.2335045337677002, Loss G: 3.8483495712280273\n"
     ]
    }
   ],
   "source": [
    "epochs = 50\n",
    "\n",
    "for epoch in range(epochs):\n",
    "    for batch in dataloader:\n",
    "        # Update Discriminator with Real Data\n",
    "        discriminator.zero_grad()\n",
    "        real_data, _ = batch\n",
    "        real_labels = torch.ones(real_data.size(0), 1)\n",
    "        output_real = discriminator(real_data)\n",
    "        loss_real = criterion(output_real, real_labels)\n",
    "        \n",
    "        # Update Discriminator with Fake Data\n",
    "        noise = torch.randn(real_data.size(0), noise_dim)\n",
    "        fake_data = generator(noise)\n",
    "        fake_labels = torch.zeros(real_data.size(0), 1)\n",
    "        output_fake = discriminator(fake_data.detach())\n",
    "        loss_fake = criterion(output_fake, fake_labels)\n",
    "        \n",
    "        # Combine Losses for discriminator and Update\n",
    "        loss_disc = loss_real + loss_fake\n",
    "        loss_disc.backward()\n",
    "        optimizer_discriminator.step()\n",
    "        \n",
    "        # Update Generator\n",
    "        generator.zero_grad()\n",
    "        output = discriminator(fake_data)\n",
    "        loss_gen = criterion(output, real_labels)\n",
    "        loss_gen.backward()\n",
    "        optimizer_generator.step()\n",
    "\n",
    "    print(f'Epoch {epoch+1}/{epochs}, Loss D: {loss_disc.item()}, Loss G: {loss_gen.item()}')\n",
    "        "
   ],
   "metadata": {
    "collapsed": false,
    "is_executing": true,
    "ExecuteTime": {
     "start_time": "2024-04-09T09:05:56.812593400Z"
    }
   },
   "id": "2d4f9667e674efa6"
  },
  {
   "cell_type": "code",
   "execution_count": null,
   "outputs": [],
   "source": [],
   "metadata": {
    "collapsed": false
   },
   "id": "3202a4468fa819ba"
  }
 ],
 "metadata": {
  "kernelspec": {
   "display_name": "Python 3",
   "language": "python",
   "name": "python3"
  },
  "language_info": {
   "codemirror_mode": {
    "name": "ipython",
    "version": 2
   },
   "file_extension": ".py",
   "mimetype": "text/x-python",
   "name": "python",
   "nbconvert_exporter": "python",
   "pygments_lexer": "ipython2",
   "version": "2.7.6"
  }
 },
 "nbformat": 4,
 "nbformat_minor": 5
}
