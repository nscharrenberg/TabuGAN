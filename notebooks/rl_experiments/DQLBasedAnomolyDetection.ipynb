{
  "nbformat": 4,
  "nbformat_minor": 0,
  "metadata": {
    "colab": {
      "provenance": []
    },
    "kernelspec": {
      "name": "python3",
      "display_name": "Python 3"
    },
    "language_info": {
      "name": "python"
    }
  },
  "cells": [
    {
      "cell_type": "code",
      "execution_count": 7,
      "metadata": {
        "colab": {
          "base_uri": "https://localhost:8080/"
        },
        "id": "8ds4kYCpsZfy",
        "outputId": "d914a592-0d1b-4d67-efd5-013bb4ec46f3"
      },
      "outputs": [
        {
          "output_type": "stream",
          "name": "stdout",
          "text": [
            "Cloning into 'DPLAN_pytorch'...\n",
            "remote: Enumerating objects: 30, done.\u001b[K\n",
            "remote: Counting objects: 100% (30/30), done.\u001b[K\n",
            "remote: Compressing objects: 100% (27/27), done.\u001b[K\n",
            "remote: Total 30 (delta 9), reused 18 (delta 2), pack-reused 0\u001b[K\n",
            "Receiving objects: 100% (30/30), 399.36 KiB | 4.75 MiB/s, done.\n",
            "Resolving deltas: 100% (9/9), done.\n",
            "Note: switching to '4d1b12580963e8862ee81c0424ba2c861269fe2a'.\n",
            "\n",
            "You are in 'detached HEAD' state. You can look around, make experimental\n",
            "changes and commit them, and you can discard any commits you make in this\n",
            "state without impacting any branches by switching back to a branch.\n",
            "\n",
            "If you want to create a new branch to retain commits you create, you may\n",
            "do so (now or later) by using -c with the switch command. Example:\n",
            "\n",
            "  git switch -c <new-branch-name>\n",
            "\n",
            "Or undo this operation with:\n",
            "\n",
            "  git switch -\n",
            "\n",
            "Turn off this advice by setting config variable advice.detachedHead to false\n",
            "\n",
            "HEAD is now at 4d1b125 Update DPLAN.py\n"
          ]
        }
      ],
      "source": [
        "!git clone https://github.com/teo-sl/DPLAN_pytorch.git && cd DPLAN_pytorch && git checkout 4d1b12580963e8862ee81c0424ba2c861269fe2a && git apply ../updates.patch"
      ]
    },
    {
      "cell_type": "code",
      "source": [
        "!pip install torchsummary"
      ],
      "metadata": {
        "colab": {
          "base_uri": "https://localhost:8080/"
        },
        "id": "2QM2VvbVtZKQ",
        "outputId": "330e0e68-030c-4063-ce1f-0c40ad1d67b2"
      },
      "execution_count": 8,
      "outputs": [
        {
          "output_type": "stream",
          "name": "stdout",
          "text": [
            "Requirement already satisfied: torchsummary in /usr/local/lib/python3.10/dist-packages (1.5.1)\n"
          ]
        }
      ]
    },
    {
      "cell_type": "code",
      "source": [
        "!unzip train.csv.zip"
      ],
      "metadata": {
        "colab": {
          "base_uri": "https://localhost:8080/"
        },
        "id": "eKx645a_tl-J",
        "outputId": "5dce2981-9bbe-45e6-831d-115ebb5eadb6"
      },
      "execution_count": 9,
      "outputs": [
        {
          "output_type": "stream",
          "name": "stdout",
          "text": [
            "Archive:  train.csv.zip\n",
            "  inflating: train.csv               \n"
          ]
        }
      ]
    },
    {
      "cell_type": "code",
      "source": [
        "!mkdir income && mv train.csv income/ && mv train.csv income/"
      ],
      "metadata": {
        "colab": {
          "base_uri": "https://localhost:8080/"
        },
        "id": "mB5mpkE5woeH",
        "outputId": "699132b6-dde1-444d-f6bc-6f3c4dd3dc76"
      },
      "execution_count": 11,
      "outputs": [
        {
          "output_type": "stream",
          "name": "stdout",
          "text": [
            "mv: cannot stat 'train.csv': No such file or directory\n"
          ]
        }
      ]
    },
    {
      "cell_type": "code",
      "source": [
        "import pandas as pd\n",
        "import numpy as np\n",
        "from sklearn.preprocessing import StandardScaler, OneHotEncoder\n",
        "from sklearn.compose import ColumnTransformer\n",
        "df = pd.read_csv('/content/income/train.csv')\n",
        "df1= pd.read_csv('/content/income/train.csv')\n",
        "df_dropped = df\n",
        "#print(df_dropped)\n",
        "categorical_columns = df.select_dtypes(include=['object']).columns.tolist()\n",
        "combined_data = pd.concat([df, df1], axis=0)\n",
        "\n",
        "encoder = OneHotEncoder(sparse=False, handle_unknown='ignore')\n",
        "encoder.fit(combined_data[categorical_columns])\n",
        "\n",
        "# Transform train data\n",
        "train_encoded = pd.DataFrame(encoder.transform(df[categorical_columns]))\n",
        "train_encoded.columns = encoder.get_feature_names_out(categorical_columns)\n",
        "\n",
        "# Transform test data (assuming test data doesn't contain labels)\n",
        "test_encoded = pd.DataFrame(encoder.transform(df1[categorical_columns]))\n",
        "test_encoded.columns = encoder.get_feature_names_out(categorical_columns)\n",
        "\n",
        "train_data = pd.concat([train_encoded, df.drop(columns=categorical_columns)], axis=1)\n",
        "test_data = pd.concat([test_encoded,df1.drop(columns=categorical_columns)], axis=1)\n",
        "\n",
        "\n",
        "#print(X.shape)\n",
        "train_data.to_csv(\"/content/income/train_mod.csv\")#\n",
        "test_data.to_csv(\"/content/income/test_mod.csv\")#"
      ],
      "metadata": {
        "colab": {
          "base_uri": "https://localhost:8080/"
        },
        "id": "0M_xl0Tztt82",
        "outputId": "a8da20ca-f4b4-42a7-d2c9-f2d275966d17"
      },
      "execution_count": 12,
      "outputs": [
        {
          "output_type": "stream",
          "name": "stderr",
          "text": [
            "/usr/local/lib/python3.10/dist-packages/sklearn/preprocessing/_encoders.py:868: FutureWarning: `sparse` was renamed to `sparse_output` in version 1.2 and will be removed in 1.4. `sparse_output` is ignored unless you leave `sparse` to its default value.\n",
            "  warnings.warn(\n"
          ]
        }
      ]
    },
    {
      "cell_type": "code",
      "source": [
        "!cd DPLAN_pytorch && python main.py"
      ],
      "metadata": {
        "colab": {
          "base_uri": "https://localhost:8080/"
        },
        "id": "cQp1yYtbv8K6",
        "outputId": "0fd34f7b-0660-49cd-8aae-bc147d6181b4"
      },
      "execution_count": 13,
      "outputs": [
        {
          "output_type": "stream",
          "name": "stdout",
          "text": [
            "Running income train_mod 0...\n",
            "Episode: 0 \t Steps: 2000 \t Average episode Reward: 0.6485321866973038\n",
            "Episode: 1 \t Steps: 2000 \t Average episode Reward: 0.6664209609856003\n",
            "Episode: 2 \t Steps: 2000 \t Average episode Reward: 0.6470431499736633\n",
            "Episode: 3 \t Steps: 2000 \t Average episode Reward: 0.6030143365979115\n",
            "Episode: 4 \t Steps: 2000 \t Average episode Reward: 0.6283255427188291\n",
            "Episode: 5 \t Steps: 2000 \t Average episode Reward: 0.6224502927144642\n",
            "Complete\n",
            "/usr/local/lib/python3.10/dist-packages/jupyter_client/connect.py:28: DeprecationWarning: Jupyter is migrating its paths to use standard platformdirs\n",
            "given by the platformdirs library.  To remove this warning and\n",
            "see the appropriate new directories, set the environment variable\n",
            "`JUPYTER_PLATFORM_DIRS=1` and then run `jupyter --paths`.\n",
            "The use of platformdirs will be the default in `jupyter_core` v6\n",
            "  from jupyter_core.paths import jupyter_data_dir, jupyter_runtime_dir, secure_write\n",
            "Figure(1000x1000)\n",
            "Finished run 0 with pr: 0.21628723550131718 and auc-roc: 0.4498871662966445...\n",
            "\n",
            "--------------------------------------------------\n",
            "\n",
            "Finished income train_mod...\n",
            "--------------------------------------------------\n",
            "\n"
          ]
        }
      ]
    },
    {
      "cell_type": "code",
      "source": [],
      "metadata": {
        "id": "5S5hKRt2wx0R"
      },
      "execution_count": null,
      "outputs": []
    }
  ]
}