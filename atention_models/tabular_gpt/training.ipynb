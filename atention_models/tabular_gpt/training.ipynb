{
 "cells": [
  {
   "cell_type": "code",
   "execution_count": 1,
   "id": "initial_id",
   "metadata": {
    "collapsed": true,
    "ExecuteTime": {
     "end_time": "2024-06-12T11:27:17.367779Z",
     "start_time": "2024-06-12T11:27:16.090021Z"
    }
   },
   "outputs": [],
   "source": [
    "import numpy as np , pandas as pd\n",
    "import torch\n",
    "import torch.nn as nn\n",
    "\n",
    "import torch\n",
    "from torch.utils.data import Dataset, DataLoader\n",
    "\n",
    "import einops\n",
    "import pickle\n",
    "from tqdm import tqdm\n",
    "\n",
    "import configparser\n"
   ]
  },
  {
   "cell_type": "code",
   "execution_count": 2,
   "outputs": [
    {
     "name": "stdout",
     "output_type": "stream",
     "text": [
      "Loaded variable : dict_keys(['col_code', 'df', 'tokenizer'])\n"
     ]
    }
   ],
   "source": [
    "# load the encoded variables\n",
    "file_path = 'encoded_vars/token_vars_income.pkl'\n",
    "\n",
    "with open(file_path, 'rb') as file:\n",
    "    loaded_variable = pickle.load(file)\n",
    "    \n",
    "print(\"Loaded variable :\",loaded_variable.keys())\n",
    "df = loaded_variable[\"df\"]\n",
    "col_code = loaded_variable[\"col_code\"]\n",
    "tokenizer = loaded_variable[\"tokenizer\"]"
   ],
   "metadata": {
    "collapsed": false,
    "ExecuteTime": {
     "end_time": "2024-06-12T11:27:19.504739Z",
     "start_time": "2024-06-12T11:27:18.842378Z"
    }
   },
   "id": "d20240dbd9f4bbe9"
  },
  {
   "cell_type": "code",
   "execution_count": 3,
   "outputs": [],
   "source": [
    "df # make sure that its in the same order as encoding"
   ],
   "metadata": {
    "collapsed": false,
    "ExecuteTime": {
     "end_time": "2024-06-12T11:27:21.027727Z",
     "start_time": "2024-06-12T11:27:21.008133Z"
    }
   },
   "id": "31e698b205544416"
  },
  {
   "cell_type": "code",
   "execution_count": 4,
   "outputs": [
    {
     "data": {
      "text/plain": "{'vocab_length': 21979,\n 'val_split': 20,\n 'test_split': 10,\n 'epochs': 2,\n 'n_embed': 992,\n 'n_heads': 31,\n 'context_window': 38,\n 'transformer_blocks': 2,\n 'batch_size': 32,\n 'random_seed': 123}"
     },
     "execution_count": 4,
     "metadata": {},
     "output_type": "execute_result"
    }
   ],
   "source": [
    "train_set = torch.load(\"encoded_vars/train_set.pt\")\n",
    "valid_set = torch.load(\"encoded_vars/valid_set.pt\")"
   ],
   "metadata": {
    "collapsed": false,
    "ExecuteTime": {
     "end_time": "2024-06-12T11:27:21.976979Z",
     "start_time": "2024-06-12T11:27:21.966397Z"
    }
   },
   "id": "bd04e365ff31fbd"
  },
  {
   "cell_type": "code",
   "execution_count": 5,
   "outputs": [],
   "source": [
    "len(train_set),len(valid_set)"
   ],
   "metadata": {
    "collapsed": false,
    "ExecuteTime": {
     "end_time": "2024-06-12T11:27:28.165701Z",
     "start_time": "2024-06-12T11:27:28.155525Z"
    }
   },
   "id": "71cc208193968155"
  },
  {
   "cell_type": "code",
   "execution_count": null,
   "outputs": [],
   "source": [
    "config = configparser.ConfigParser()\n",
    "config.read('settings.ini')\n",
    "\n",
    "config= {key: int(value) for key, value in config['INCOME_DATASET'].items()}\n",
    "config"
   ],
   "metadata": {
    "collapsed": false
   },
   "id": "329889afd0dd53cc"
  },
  {
   "cell_type": "markdown",
   "source": [],
   "metadata": {
    "collapsed": false
   },
   "id": "5f859d21551ee11"
  },
  {
   "cell_type": "code",
   "execution_count": 7,
   "outputs": [
    {
     "name": "stderr",
     "output_type": "stream",
     "text": [
      "100%|██████████| 8792/8792 [00:00<00:00, 11757.75it/s]\n"
     ]
    }
   ],
   "source": [
    "class TokenDataset(Dataset):\n",
    "    def __init__(self, data_set, context_window):\n",
    "        self.dataset = data_set\n",
    "        self.context_window = context_window\n",
    "        self.X, self.y = self.compile_dataset()\n",
    "\n",
    "    def compile_dataset(self):\n",
    "        X = []\n",
    "        y = []\n",
    "        for row in tqdm(self.dataset):\n",
    "            row_tensor = torch.tensor(row[1:], dtype=torch.long)\n",
    "            context = torch.zeros(self.context_window, dtype=torch.long)\n",
    "\n",
    "            for value in row_tensor:\n",
    "                X.append(context.clone().unsqueeze(0))\n",
    "                y.append(torch.tensor([value]))\n",
    "                context = torch.cat((context[1:], torch.tensor([value])))\n",
    "\n",
    "        X = torch.cat(X, dim=0)\n",
    "        y = torch.cat(y, dim=0)\n",
    "        return X, y\n",
    "\n",
    "    def __len__(self):\n",
    "        return len(self.X)\n",
    "\n",
    "    def __getitem__(self, idx):\n",
    "        return self.X[idx], self.y[idx]\n"
   ],
   "metadata": {
    "collapsed": false,
    "ExecuteTime": {
     "end_time": "2024-06-12T11:27:43.064987Z",
     "start_time": "2024-06-12T11:27:39.759034Z"
    }
   },
   "id": "b6a2c71955671cae"
  },
  {
   "cell_type": "code",
   "execution_count": 8,
   "outputs": [],
   "source": [
    "train_set[:1]"
   ],
   "metadata": {
    "collapsed": false,
    "ExecuteTime": {
     "end_time": "2024-06-12T11:27:43.917940Z",
     "start_time": "2024-06-12T11:27:43.907800Z"
    }
   },
   "id": "73dd21af9040a58d"
  },
  {
   "cell_type": "code",
   "execution_count": 9,
   "outputs": [],
   "source": [
    "trainDataset = TokenDataset(train_set,config[\"context_window\"])\n",
    "train_loader = DataLoader(trainDataset, batch_size=32, shuffle=True)"
   ],
   "metadata": {
    "collapsed": false,
    "ExecuteTime": {
     "end_time": "2024-06-12T11:27:44.857383Z",
     "start_time": "2024-06-12T11:27:44.853256Z"
    }
   },
   "id": "7ad6b6672ac4d2a8"
  },
  {
   "cell_type": "code",
   "execution_count": 10,
   "outputs": [],
   "source": [
    "validDataset = TokenDataset(valid_set,config[\"context_window\"])\n",
    "valid_loader = DataLoader(validDataset, batch_size=32, shuffle=True)"
   ],
   "metadata": {
    "collapsed": false,
    "ExecuteTime": {
     "end_time": "2024-06-12T11:27:46.055566Z",
     "start_time": "2024-06-12T11:27:45.495655Z"
    }
   },
   "id": "ab09927dbef3d403"
  },
  {
   "cell_type": "code",
   "execution_count": 10,
   "outputs": [],
   "source": [
    "for Xb ,yb in train_loader:\n",
    "    print(Xb.shape ,yb.shape)\n",
    "    break"
   ],
   "metadata": {
    "collapsed": false,
    "ExecuteTime": {
     "end_time": "2024-06-12T11:27:46.645060Z",
     "start_time": "2024-06-12T11:27:46.633019Z"
    }
   },
   "id": "8cf80f665d3d3216"
  },
  {
   "cell_type": "code",
   "execution_count": 11,
   "outputs": [],
   "source": [
    "Xb"
   ],
   "metadata": {
    "collapsed": false,
    "ExecuteTime": {
     "end_time": "2024-06-12T11:27:47.249165Z",
     "start_time": "2024-06-12T11:27:47.242541Z"
    }
   },
   "id": "4f4e4f90e956b9a1"
  },
  {
   "cell_type": "code",
   "execution_count": 12,
   "outputs": [
    {
     "data": {
      "text/plain": "AdamW (\nParameter Group 0\n    amsgrad: False\n    betas: (0.9, 0.999)\n    capturable: False\n    differentiable: False\n    eps: 1e-08\n    foreach: None\n    fused: None\n    lr: 0.001\n    maximize: False\n    weight_decay: 0.01\n)"
     },
     "execution_count": 12,
     "metadata": {},
     "output_type": "execute_result"
    }
   ],
   "source": [
    "class SingleHead(nn.Module):\n",
    "    \"\"\"\n",
    "    Implements a single head of attention (unmasked)\n",
    "    \"\"\"\n",
    "\n",
    "    def __init__(self,R,head_size,manual_seed=123):\n",
    "        super().__init__()\n",
    "        # single head\n",
    "        self.head_size = head_size\n",
    "        self.scale = 1/ torch.sqrt(torch.tensor(self.head_size))\n",
    "        self.R = torch.tensor(R)\n",
    "        self.Q = nn.Parameter( torch.randn(self.R,head_size))\n",
    "        self.K = nn.Parameter( torch.randn(self.R,head_size))\n",
    "        self.V = nn.Parameter( torch.randn(self.R,head_size))\n",
    "\n",
    "    def forward(self,x):\n",
    "        q = x @ self.Q # (B,T,R) * (R,h) => (B,T,R) x (B,R,h) => (B,T,h) \n",
    "        k = x @ self.K\n",
    "        v = x @ self.V\n",
    "\n",
    "        comm = q @ einops.rearrange(k,\"B T h -> B h T\") # (B,T,h) @ (B,h,T) => B,T,T @ each tokens interaction with each token would be T,T\n",
    "        att1 = nn.functional.softmax(comm * self.scale,dim=2) # along tokens head\n",
    "        attention = att1 @ v # B,T,T @ B,T,h => B,T,h\n",
    "        return attention"
   ],
   "metadata": {
    "collapsed": false,
    "ExecuteTime": {
     "end_time": "2024-06-12T11:27:48.708504Z",
     "start_time": "2024-06-12T11:27:47.840802Z"
    }
   },
   "id": "35d1415d2f76b332"
  },
  {
   "cell_type": "code",
   "execution_count": 14,
   "outputs": [
    {
     "name": "stderr",
     "output_type": "stream",
     "text": [
      "  0%|          | 0/713 [00:00<?, ?it/s]/var/folders/f0/_f_gy0t91jqchv14f0hcl_gh0000gn/T/ipykernel_91199/468654311.py:33: UserWarning: To copy construct from a tensor, it is recommended to use sourceTensor.clone().detach() or sourceTensor.clone().detach().requires_grad_(True), rather than torch.tensor(sourceTensor).\n",
      "  return torch.tensor(inputs), torch.tensor(targets)\n",
      "100%|██████████| 713/713 [06:02<00:00,  1.96it/s]\n",
      "100%|██████████| 713/713 [05:24<00:00,  2.20it/s]\n"
     ]
    }
   ],
   "source": [
    "class Multihead(nn.Module):\n",
    "    def __init__(self,R,n_heads,seed=123):\n",
    "        self.R = R\n",
    "        assert R % n_heads == 0 , \"n_heads is not divisible by R\"\n",
    "        self.head_size = self.R // n_heads\n",
    "        self.n_heads = n_heads\n",
    "\n",
    "        super().__init__()\n",
    "        self.multiheads = nn.ModuleList(\n",
    "            [SingleHead(self.R,self.head_size)  for _ in range(self.n_heads)]\n",
    "        )\n",
    "\n",
    "    def forward(self,x):\n",
    "        return torch.cat([head(x) for head in self.multiheads],dim=2)"
   ],
   "metadata": {
    "collapsed": false,
    "ExecuteTime": {
     "end_time": "2024-06-12T11:39:34.958874Z",
     "start_time": "2024-06-12T11:28:07.860486Z"
    }
   },
   "id": "69b1617f60799d8"
  },
  {
   "cell_type": "code",
   "execution_count": 17,
   "outputs": [
    {
     "data": {
      "text/plain": "<Figure size 1500x800 with 1 Axes>",
      "image/png": "[encoded data removed]"
     },
     "metadata": {},
     "output_type": "display_data"
    }
   ],
   "source": [
    "class IncomeTransformer(nn.Module):\n",
    "    def __init__(self,config):\n",
    "        super().__init__()\n",
    "        self.context_window = config[\"context_window\"]\n",
    "        self.n_embed = config[\"n_embed\"]\n",
    "        self.n_heads = config[\"n_heads\"]\n",
    "        self.n_vocab = config[\"vocab_length\"]\n",
    "        self.transformer_blocks = config[\"transformer_blocks\"]\n",
    "\n",
    "        #==== Token (C) and positional Embedding (pe)\n",
    "        self.C = nn.Embedding(self.n_vocab,self.n_embed) # token embedding\n",
    "        self.pe = nn.Parameter(torch.randn(1,self.n_embed)) # position embedding\n",
    "\n",
    "        #===== Transformer Blocks\n",
    "        self.multi_heads , self.layer_norm = [],[]\n",
    "        for i in range(self.transformer_blocks):\n",
    "            self.multi_heads.append( Multihead(R=self.n_embed, n_heads=self.n_heads))\n",
    "            self.layer_norm.append(nn.LayerNorm(self.n_embed)) #at the end of the transformer block\n",
    "\n",
    "        #==== MLP Head\n",
    "        self.mlp_head0 = nn.Linear(self.context_window * self.n_embed , self.n_embed)\n",
    "        self.mlp_head1 = nn.Linear(self.n_embed,self.n_vocab + 1) # logits\n",
    "\n",
    "\n",
    "\n",
    "    def forward(self,x):\n",
    "        emb = self.C(x) # token emb\n",
    "        emb += self.pe # add pos emb\n",
    "\n",
    "        # write a loop later : 2 blocks\n",
    "        attn0 = self.multi_heads[0](emb)\n",
    "        # skip connection\n",
    "        skip0 = torch.nn.functional.leaky_relu(attn0) + emb\n",
    "        normed0 = self.layer_norm[0](skip0)# layer norm and skip connection\n",
    "        \n",
    "        attn1 = self.multi_heads[1](normed0)\n",
    "        skip1 = torch.nn.functional.leaky_relu(attn1) + normed0\n",
    "        normed1 = self.layer_norm[1](skip1)\n",
    "\n",
    "        # flatten\n",
    "        normed = einops.rearrange(normed1,\"b t e -> b (t e)\")\n",
    "        x = self.mlp_head0(normed)\n",
    "        logits = self.mlp_head1(x) # logits\n",
    "\n",
    "        return logits\n",
    "\n",
    "    def calculate_loss(self,x,y):\n",
    "        logits = self(x)\n",
    "        return logits , nn.functional.cross_entropy(logits,y)\n",
    "\n",
    "    def generate(self,seed = None,verbose=False):\n",
    "        seed = [0] * self.context_window if seed is None else seed\n",
    "        generation = list()\n",
    "        i = 0\n",
    "        while True:\n",
    "            if verbose:\n",
    "                print(seed)\n",
    "            logits = self(torch.tensor(seed).view(1,-1))\n",
    "            probs = nn.functional.softmax(logits,dim=1)\n",
    "            prediction = torch.multinomial(probs,num_samples=1)\n",
    "            generation.append(prediction.item())\n",
    "            seed = seed[1:] + [prediction.item()]\n",
    "            if verbose:\n",
    "                print(prediction.item())\n",
    "            i = i+1\n",
    "        return generation\n",
    "\n",
    "\n",
    "\n",
    "model = IncomeTransformer(config)"
   ],
   "metadata": {
    "collapsed": false,
    "ExecuteTime": {
     "end_time": "2024-06-12T11:42:06.164664Z",
     "start_time": "2024-06-12T11:42:06.054914Z"
    }
   },
   "id": "3ea1c49d034243fd"
  },
  {
   "cell_type": "code",
   "execution_count": 18,
   "outputs": [
    {
     "data": {
      "text/plain": "9.997842731017274"
     },
     "execution_count": 18,
     "metadata": {},
     "output_type": "execute_result"
    }
   ],
   "source": [
    "track_loss = list()\n",
    "valid_loss = list()\n"
   ],
   "metadata": {
    "collapsed": false,
    "ExecuteTime": {
     "end_time": "2024-06-12T11:43:34.530869Z",
     "start_time": "2024-06-12T11:43:34.513302Z"
    }
   },
   "id": "b01f3736358a641f"
  },
  {
   "cell_type": "code",
   "execution_count": 23,
   "outputs": [
    {
     "data": {
      "text/plain": "(1.082310438156128, tensor(0.5323))"
     },
     "execution_count": 23,
     "metadata": {},
     "output_type": "execute_result"
    }
   ],
   "source": [
    "optimizer = torch.optim.AdamW(model.parameters(),lr=1e-3)\n",
    "optimizer"
   ],
   "metadata": {
    "collapsed": false,
    "ExecuteTime": {
     "end_time": "2024-06-12T11:45:32.019288Z",
     "start_time": "2024-06-12T11:45:32.001342Z"
    }
   },
   "id": "8cc49f1480b191dc"
  },
  {
   "cell_type": "code",
   "execution_count": 21,
   "outputs": [],
   "source": [
    "for epoch in range(config[\"epochs\"]):\n",
    "    i = 0\n",
    "    for Xb,yb in tqdm(train_loader):\n",
    "\n",
    "        # forward pass\n",
    "        _,loss = model.calculate_loss(Xb,yb)\n",
    "        i+=1\n",
    "\n",
    "        # flush the gradients \n",
    "        optimizer.zero_grad(set_to_none=True)\n",
    "\n",
    "        # backprop\n",
    "        loss.backward()\n",
    "\n",
    "        # learning step\n",
    "        optimizer.step()\n",
    "\n",
    "        # for plotting\n",
    "        track_loss.append(loss.item())\n",
    "        \n",
    "        if i % 200 == 0:\n",
    "            # or set model.eval()\n",
    "            with torch.no_grad(): # this is more explicit though:\n",
    "                for X_eval , y_eval in valid_loader:\n",
    "                    # forward pass\n",
    "                    _,val_loss = model.calculate_loss(Xb,yb)\n",
    "                    valid_loss.append(val_loss)\n",
    "                    "
   ],
   "metadata": {
    "collapsed": false,
    "ExecuteTime": {
     "end_time": "2024-06-12T11:44:48.560897Z",
     "start_time": "2024-06-12T11:44:47.257283Z"
    }
   },
   "id": "61db4584d5089570"
  },
  {
   "cell_type": "code",
   "execution_count": null,
   "outputs": [],
   "source": [],
   "metadata": {
    "collapsed": false
   },
   "id": "fd1ab64c8f8bdeae"
  },
  {
   "cell_type": "code",
   "execution_count": null,
   "outputs": [],
   "source": [
    "import matplotlib.pyplot as plt\n",
    "plt.figure(figsize=(15,8))\n",
    "plt.plot(track_loss,label=\"training loss\")\n",
    "plt.plot(valid_loss,label=\"valid loss\")\n",
    "plt.show()"
   ],
   "metadata": {
    "collapsed": false
   },
   "id": "37057f67d972263c"
  },
  {
   "cell_type": "code",
   "execution_count": null,
   "outputs": [],
   "source": [
    "# expected_loss\n",
    "-1 * np.log(1/config[\"vocab_length\"])"
   ],
   "metadata": {
    "collapsed": false
   },
   "id": "d2a047c5c0d54596"
  },
  {
   "cell_type": "code",
   "execution_count": null,
   "outputs": [],
   "source": [
    "# our loss\n",
    "track_loss[-1],valid_loss[-1]"
   ],
   "metadata": {
    "collapsed": false
   },
   "id": "855b143ad1f5e667"
  },
  {
   "cell_type": "code",
   "execution_count": null,
   "outputs": [],
   "source": [
    "# Save the model weights and structure\n",
    "torch.save(model.state_dict(), 'model_weights.pth')\n",
    "torch.save(model, 'model_complete.pth')"
   ],
   "metadata": {
    "collapsed": false
   },
   "id": "879962c335a5e01c"
  },
  {
   "cell_type": "code",
   "execution_count": null,
   "outputs": [],
   "source": [],
   "metadata": {
    "collapsed": false
   },
   "id": "c540094d12561be4"
  }
 ],
 "metadata": {
  "kernelspec": {
   "display_name": "Python 3",
   "language": "python",
   "name": "python3"
  },
  "language_info": {
   "codemirror_mode": {
    "name": "ipython",
    "version": 2
   },
   "file_extension": ".py",
   "mimetype": "text/x-python",
   "name": "python",
   "nbconvert_exporter": "python",
   "pygments_lexer": "ipython2",
   "version": "2.7.6"
  }
 },
 "nbformat": 4,
 "nbformat_minor": 5
}
