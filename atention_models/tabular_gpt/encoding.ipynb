{
 "cells": [
  {
   "cell_type": "code",
   "execution_count": 1,
   "id": "initial_id",
   "metadata": {
    "collapsed": true,
    "ExecuteTime": {
     "end_time": "2024-06-22T14:36:33.998500Z",
     "start_time": "2024-06-22T14:36:33.291567Z"
    }
   },
   "outputs": [],
   "source": [
    "import torch\n",
    "import torch.nn as nn\n",
    "\n",
    "import numpy as np , pandas as pd\n",
    "import matplotlib.pyplot as plt\n",
    "import configparser\n",
    "\n",
    "import pickle\n"
   ]
  },
  {
   "cell_type": "code",
   "execution_count": 2,
   "outputs": [
    {
     "data": {
      "text/plain": "{'vocab_length': 21979,\n 'val_split': 20,\n 'test_split': 10,\n 'epochs': 2,\n 'n_embed': 992,\n 'n_heads': 31,\n 'context_window': 38,\n 'transformer_blocks': 2,\n 'batch_size': 32,\n 'random_seed': 123}"
     },
     "execution_count": 2,
     "metadata": {},
     "output_type": "execute_result"
    }
   ],
   "source": [
    "config = configparser.ConfigParser()\n",
    "config.read('settings.ini')\n",
    "\n",
    "config= {key: int(value) for key, value in config['INCOME_DATASET'].items()}\n",
    "config"
   ],
   "metadata": {
    "collapsed": false,
    "ExecuteTime": {
     "end_time": "2024-06-22T14:36:34.010963Z",
     "start_time": "2024-06-22T14:36:34.000288Z"
    }
   },
   "id": "b160d82ef832db7"
  },
  {
   "cell_type": "code",
   "execution_count": 3,
   "outputs": [],
   "source": [
    "from local_utils import tokenize_dataset , read_dataset , decoder"
   ],
   "metadata": {
    "collapsed": false,
    "ExecuteTime": {
     "end_time": "2024-06-22T14:36:34.085223Z",
     "start_time": "2024-06-22T14:36:34.012716Z"
    }
   },
   "id": "a35e8c88d9ec6620"
  },
  {
   "cell_type": "code",
   "execution_count": 4,
   "outputs": [],
   "source": [
    "df = pd.read_csv(\"../../datasets/adult.csv\")"
   ],
   "metadata": {
    "collapsed": false,
    "ExecuteTime": {
     "end_time": "2024-06-22T14:36:34.474370Z",
     "start_time": "2024-06-22T14:36:34.421023Z"
    }
   },
   "id": "e5fdbcfc4dcc1558"
  },
  {
   "cell_type": "code",
   "execution_count": 5,
   "outputs": [
    {
     "data": {
      "text/plain": "<Figure size 640x480 with 2 Axes>",
      "image/png": "[encoded data removed]"
     },
     "metadata": {},
     "output_type": "display_data"
    }
   ],
   "source": [
    "# reorder columns\n",
    "import seaborn as sns\n",
    "float_cols =  df.select_dtypes(exclude=object).columns\n",
    "corr_matrix = df[float_cols].corr().abs()\n",
    "sns.heatmap(corr_matrix,cmap=\"Blues\")\n",
    "plt.show()"
   ],
   "metadata": {
    "collapsed": false,
    "ExecuteTime": {
     "end_time": "2024-06-22T14:36:35.008160Z",
     "start_time": "2024-06-22T14:36:34.785562Z"
    }
   },
   "id": "97978a90c444dfb1"
  },
  {
   "cell_type": "code",
   "execution_count": 6,
   "outputs": [
    {
     "data": {
      "text/plain": "fnlwgt            0.191549\ncapital.loss      0.205637\ncapital.gain      0.218460\nage               0.219563\nhours.per.week    0.228052\neducation.num     0.238400\ndtype: float64"
     },
     "execution_count": 6,
     "metadata": {},
     "output_type": "execute_result"
    }
   ],
   "source": [
    "reorder_cols = corr_matrix.mean().sort_values()\n",
    "reorder_cols"
   ],
   "metadata": {
    "collapsed": false,
    "ExecuteTime": {
     "end_time": "2024-06-22T14:36:36.475290Z",
     "start_time": "2024-06-22T14:36:36.471092Z"
    }
   },
   "id": "1ad8afdfae23a86c"
  },
  {
   "cell_type": "code",
   "execution_count": 7,
   "outputs": [
    {
     "data": {
      "text/plain": "['workclass',\n 'education',\n 'marital.status',\n 'occupation',\n 'relationship',\n 'race',\n 'sex',\n 'native.country',\n 'income']"
     },
     "execution_count": 7,
     "metadata": {},
     "output_type": "execute_result"
    }
   ],
   "source": [
    "cat_cols = df.select_dtypes(include=object).columns.tolist()\n",
    "cat_cols"
   ],
   "metadata": {
    "collapsed": false,
    "ExecuteTime": {
     "end_time": "2024-06-22T14:36:37.343419Z",
     "start_time": "2024-06-22T14:36:37.328068Z"
    }
   },
   "id": "da1517c5b722beb5"
  },
  {
   "cell_type": "code",
   "execution_count": 8,
   "outputs": [],
   "source": [
    "df = df[cat_cols + reorder_cols.index.tolist()]"
   ],
   "metadata": {
    "collapsed": false,
    "ExecuteTime": {
     "end_time": "2024-06-22T14:36:38.050359Z",
     "start_time": "2024-06-22T14:36:38.033353Z"
    }
   },
   "id": "3a7a50273ff3697d"
  },
  {
   "cell_type": "markdown",
   "source": [
    "# encoding"
   ],
   "metadata": {
    "collapsed": false
   },
   "id": "8bf0de2231a9beda"
  },
  {
   "cell_type": "code",
   "execution_count": 9,
   "outputs": [
    {
     "data": {
      "text/plain": "         blank    start workclass     education      marital_status  \\\n0      <blank>  <start>         ?       HS-grad             Widowed   \n1      <blank>  <start>   Private       HS-grad             Widowed   \n2      <blank>  <start>         ?  Some-college             Widowed   \n3      <blank>  <start>   Private       7th-8th            Divorced   \n4      <blank>  <start>   Private  Some-college           Separated   \n...        ...      ...       ...           ...                 ...   \n32556  <blank>  <start>   Private  Some-college       Never-married   \n32557  <blank>  <start>   Private    Assoc-acdm  Married-civ-spouse   \n32558  <blank>  <start>   Private       HS-grad  Married-civ-spouse   \n32559  <blank>  <start>   Private       HS-grad             Widowed   \n32560  <blank>  <start>   Private       HS-grad       Never-married   \n\n              occupation   relationship   race     sex native_country income  \\\n0                      ?  Not-in-family  White  Female  United-States  <=50K   \n1        Exec-managerial  Not-in-family  White  Female  United-States  <=50K   \n2                      ?      Unmarried  Black  Female  United-States  <=50K   \n3      Machine-op-inspct      Unmarried  White  Female  United-States  <=50K   \n4         Prof-specialty      Own-child  White  Female  United-States  <=50K   \n...                  ...            ...    ...     ...            ...    ...   \n32556    Protective-serv  Not-in-family  White    Male  United-States  <=50K   \n32557       Tech-support           Wife  White  Female  United-States  <=50K   \n32558  Machine-op-inspct        Husband  White    Male  United-States   >50K   \n32559       Adm-clerical      Unmarried  White  Female  United-States  <=50K   \n32560       Adm-clerical      Own-child  White    Male  United-States  <=50K   \n\n       fnlwgt  capital_loss  capital_gain  age  hours_per_week  education_num  \\\n0       77053          4356             0   90              40              9   \n1      132870          4356             0   82              18              9   \n2      186061          4356             0   66              40             10   \n3      140359          3900             0   54              40              4   \n4      264663          3900             0   41              40             10   \n...       ...           ...           ...  ...             ...            ...   \n32556  310152             0             0   22              40             10   \n32557  257302             0             0   27              38             12   \n32558  154374             0             0   40              40              9   \n32559  151910             0             0   58              40              9   \n32560  201490             0             0   22              20              9   \n\n         end  \n0      <end>  \n1      <end>  \n2      <end>  \n3      <end>  \n4      <end>  \n...      ...  \n32556  <end>  \n32557  <end>  \n32558  <end>  \n32559  <end>  \n32560  <end>  \n\n[32561 rows x 18 columns]",
      "text/html": "<div>\n<style scoped>\n    .dataframe tbody tr th:only-of-type {\n        vertical-align: middle;\n    }\n\n    .dataframe tbody tr th {\n        vertical-align: top;\n    }\n\n    .dataframe thead th {\n        text-align: right;\n    }\n</style>\n<table border=\"1\" class=\"dataframe\">\n  <thead>\n    <tr style=\"text-align: right;\">\n      <th></th>\n      <th>blank</th>\n      <th>start</th>\n      <th>workclass</th>\n      <th>education</th>\n      <th>marital_status</th>\n      <th>occupation</th>\n      <th>relationship</th>\n      <th>race</th>\n      <th>sex</th>\n      <th>native_country</th>\n      <th>income</th>\n      <th>fnlwgt</th>\n      <th>capital_loss</th>\n      <th>capital_gain</th>\n      <th>age</th>\n      <th>hours_per_week</th>\n      <th>education_num</th>\n      <th>end</th>\n    </tr>\n  </thead>\n  <tbody>\n    <tr>\n      <th>0</th>\n      <td>&lt;blank&gt;</td>\n      <td>&lt;start&gt;</td>\n      <td>?</td>\n      <td>HS-grad</td>\n      <td>Widowed</td>\n      <td>?</td>\n      <td>Not-in-family</td>\n      <td>White</td>\n      <td>Female</td>\n      <td>United-States</td>\n      <td>&lt;=50K</td>\n      <td>77053</td>\n      <td>4356</td>\n      <td>0</td>\n      <td>90</td>\n      <td>40</td>\n      <td>9</td>\n      <td>&lt;end&gt;</td>\n    </tr>\n    <tr>\n      <th>1</th>\n      <td>&lt;blank&gt;</td>\n      <td>&lt;start&gt;</td>\n      <td>Private</td>\n      <td>HS-grad</td>\n      <td>Widowed</td>\n      <td>Exec-managerial</td>\n      <td>Not-in-family</td>\n      <td>White</td>\n      <td>Female</td>\n      <td>United-States</td>\n      <td>&lt;=50K</td>\n      <td>132870</td>\n      <td>4356</td>\n      <td>0</td>\n      <td>82</td>\n      <td>18</td>\n      <td>9</td>\n      <td>&lt;end&gt;</td>\n    </tr>\n    <tr>\n      <th>2</th>\n      <td>&lt;blank&gt;</td>\n      <td>&lt;start&gt;</td>\n      <td>?</td>\n      <td>Some-college</td>\n      <td>Widowed</td>\n      <td>?</td>\n      <td>Unmarried</td>\n      <td>Black</td>\n      <td>Female</td>\n      <td>United-States</td>\n      <td>&lt;=50K</td>\n      <td>186061</td>\n      <td>4356</td>\n      <td>0</td>\n      <td>66</td>\n      <td>40</td>\n      <td>10</td>\n      <td>&lt;end&gt;</td>\n    </tr>\n    <tr>\n      <th>3</th>\n      <td>&lt;blank&gt;</td>\n      <td>&lt;start&gt;</td>\n      <td>Private</td>\n      <td>7th-8th</td>\n      <td>Divorced</td>\n      <td>Machine-op-inspct</td>\n      <td>Unmarried</td>\n      <td>White</td>\n      <td>Female</td>\n      <td>United-States</td>\n      <td>&lt;=50K</td>\n      <td>140359</td>\n      <td>3900</td>\n      <td>0</td>\n      <td>54</td>\n      <td>40</td>\n      <td>4</td>\n      <td>&lt;end&gt;</td>\n    </tr>\n    <tr>\n      <th>4</th>\n      <td>&lt;blank&gt;</td>\n      <td>&lt;start&gt;</td>\n      <td>Private</td>\n      <td>Some-college</td>\n      <td>Separated</td>\n      <td>Prof-specialty</td>\n      <td>Own-child</td>\n      <td>White</td>\n      <td>Female</td>\n      <td>United-States</td>\n      <td>&lt;=50K</td>\n      <td>264663</td>\n      <td>3900</td>\n      <td>0</td>\n      <td>41</td>\n      <td>40</td>\n      <td>10</td>\n      <td>&lt;end&gt;</td>\n    </tr>\n    <tr>\n      <th>...</th>\n      <td>...</td>\n      <td>...</td>\n      <td>...</td>\n      <td>...</td>\n      <td>...</td>\n      <td>...</td>\n      <td>...</td>\n      <td>...</td>\n      <td>...</td>\n      <td>...</td>\n      <td>...</td>\n      <td>...</td>\n      <td>...</td>\n      <td>...</td>\n      <td>...</td>\n      <td>...</td>\n      <td>...</td>\n      <td>...</td>\n    </tr>\n    <tr>\n      <th>32556</th>\n      <td>&lt;blank&gt;</td>\n      <td>&lt;start&gt;</td>\n      <td>Private</td>\n      <td>Some-college</td>\n      <td>Never-married</td>\n      <td>Protective-serv</td>\n      <td>Not-in-family</td>\n      <td>White</td>\n      <td>Male</td>\n      <td>United-States</td>\n      <td>&lt;=50K</td>\n      <td>310152</td>\n      <td>0</td>\n      <td>0</td>\n      <td>22</td>\n      <td>40</td>\n      <td>10</td>\n      <td>&lt;end&gt;</td>\n    </tr>\n    <tr>\n      <th>32557</th>\n      <td>&lt;blank&gt;</td>\n      <td>&lt;start&gt;</td>\n      <td>Private</td>\n      <td>Assoc-acdm</td>\n      <td>Married-civ-spouse</td>\n      <td>Tech-support</td>\n      <td>Wife</td>\n      <td>White</td>\n      <td>Female</td>\n      <td>United-States</td>\n      <td>&lt;=50K</td>\n      <td>257302</td>\n      <td>0</td>\n      <td>0</td>\n      <td>27</td>\n      <td>38</td>\n      <td>12</td>\n      <td>&lt;end&gt;</td>\n    </tr>\n    <tr>\n      <th>32558</th>\n      <td>&lt;blank&gt;</td>\n      <td>&lt;start&gt;</td>\n      <td>Private</td>\n      <td>HS-grad</td>\n      <td>Married-civ-spouse</td>\n      <td>Machine-op-inspct</td>\n      <td>Husband</td>\n      <td>White</td>\n      <td>Male</td>\n      <td>United-States</td>\n      <td>&gt;50K</td>\n      <td>154374</td>\n      <td>0</td>\n      <td>0</td>\n      <td>40</td>\n      <td>40</td>\n      <td>9</td>\n      <td>&lt;end&gt;</td>\n    </tr>\n    <tr>\n      <th>32559</th>\n      <td>&lt;blank&gt;</td>\n      <td>&lt;start&gt;</td>\n      <td>Private</td>\n      <td>HS-grad</td>\n      <td>Widowed</td>\n      <td>Adm-clerical</td>\n      <td>Unmarried</td>\n      <td>White</td>\n      <td>Female</td>\n      <td>United-States</td>\n      <td>&lt;=50K</td>\n      <td>151910</td>\n      <td>0</td>\n      <td>0</td>\n      <td>58</td>\n      <td>40</td>\n      <td>9</td>\n      <td>&lt;end&gt;</td>\n    </tr>\n    <tr>\n      <th>32560</th>\n      <td>&lt;blank&gt;</td>\n      <td>&lt;start&gt;</td>\n      <td>Private</td>\n      <td>HS-grad</td>\n      <td>Never-married</td>\n      <td>Adm-clerical</td>\n      <td>Own-child</td>\n      <td>White</td>\n      <td>Male</td>\n      <td>United-States</td>\n      <td>&lt;=50K</td>\n      <td>201490</td>\n      <td>0</td>\n      <td>0</td>\n      <td>22</td>\n      <td>20</td>\n      <td>9</td>\n      <td>&lt;end&gt;</td>\n    </tr>\n  </tbody>\n</table>\n<p>32561 rows × 18 columns</p>\n</div>"
     },
     "execution_count": 9,
     "metadata": {},
     "output_type": "execute_result"
    }
   ],
   "source": [
    "try:\n",
    "    df = read_dataset(df)\n",
    "except pd.errors.SettingWithCopyWarning:\n",
    "    pass\n",
    "df"
   ],
   "metadata": {
    "collapsed": false,
    "ExecuteTime": {
     "end_time": "2024-06-22T14:36:39.222466Z",
     "start_time": "2024-06-22T14:36:39.220168Z"
    }
   },
   "id": "bae2093586fab6db"
  },
  {
   "cell_type": "code",
   "execution_count": 10,
   "outputs": [
    {
     "name": "stdout",
     "output_type": "stream",
     "text": [
      "\n",
      "    Available Float Quantization method (multi-token) : yeo-johnson , quantile , log , robust\n",
      "    _______________________________ \n",
      "    / Tokenizing your dataset       \\\n",
      "    \\     > This might take a while /\n",
      "    ------------------------------- \n",
      "           \\   ^__^\n",
      "            \\  (oo)\\_______\n",
      "               (__)\\       )\\/\\\n",
      "                   ||----w |\n",
      "                   ||     ||\n",
      "    \n"
     ]
    }
   ],
   "source": [
    "tokenizer , col_code , encoded_docs = tokenize_dataset(df,float_transform=\"yeo-johnson\")"
   ],
   "metadata": {
    "collapsed": false,
    "ExecuteTime": {
     "end_time": "2024-06-22T14:36:55.572102Z",
     "start_time": "2024-06-22T14:36:40.548169Z"
    }
   },
   "id": "62a581ef9118de1a"
  },
  {
   "cell_type": "code",
   "execution_count": 11,
   "outputs": [
    {
     "name": "stdout",
     "output_type": "stream",
     "text": [
      "encoded docs example : [0, 1, 2, 11, 27, 34, 49, 55, 60, 62, 104, 106, 21755, 21760, 21771, 21778, 21786, 21788, 21801, 21808, 21819, 21822, 21837, 21841, 21851, 21860, 21862, 21872, 21885, 21897, 21902, 21904, 21918, 21930, 21938, 21944]\n",
      "Decoded : ['<blank>', '<start>', '?', 'HS-grad', 'Widowed', '?', 'Not-in-family', 'White', 'Female', 'United-States', '<=50K', '77053', '22.213064221683393', '0.00028949718149151593', '89.98933063603158', '40.00703882959338', '9.000964096125402', '<end>']\n"
     ]
    }
   ],
   "source": [
    "# heres how to decode ...\n",
    "print(f\"encoded docs example : {encoded_docs[0]}\")\n",
    "decoded_eg = decoder(encoded_docs[0],df,col_code)\n",
    "print(f\"Decoded : {decoded_eg}\")"
   ],
   "metadata": {
    "collapsed": false,
    "ExecuteTime": {
     "end_time": "2024-06-22T14:36:57.524835Z",
     "start_time": "2024-06-22T14:36:57.518913Z"
    }
   },
   "id": "334749e37b426078"
  },
  {
   "cell_type": "code",
   "execution_count": 13,
   "outputs": [
    {
     "name": "stdout",
     "output_type": "stream",
     "text": [
      "[4] State-gov\n"
     ]
    }
   ],
   "source": [
    "# sample decoding and encoding\n",
    "# object\n",
    "wrk_class = \"State-gov\"\n",
    "encoded_wrk_class = col_code.encode(\"workclass\",wrk_class)\n",
    "decoded_wrk_class = col_code.decode(\"workclass\",encoded_wrk_class)\n",
    "print(encoded_wrk_class,decoded_wrk_class)"
   ],
   "metadata": {
    "collapsed": false,
    "ExecuteTime": {
     "end_time": "2024-06-22T14:41:29.521957Z",
     "start_time": "2024-06-22T14:41:29.517001Z"
    }
   },
   "id": "6e47510a46ee4306"
  },
  {
   "cell_type": "code",
   "execution_count": 15,
   "outputs": [
    {
     "name": "stderr",
     "output_type": "stream",
     "text": [
      "/Users/adi/opt/anaconda3/lib/python3.10/site-packages/seaborn/_oldcore.py:1119: FutureWarning: use_inf_as_na option is deprecated and will be removed in a future version. Convert inf values to NaN before operating instead.\n",
      "  with pd.option_context('mode.use_inf_as_na', True):\n"
     ]
    },
    {
     "data": {
      "text/plain": "<Figure size 500x500 with 1 Axes>",
      "image/png": "[encoded data removed]"
     },
     "metadata": {},
     "output_type": "display_data"
    }
   ],
   "source": [
    "# you can check out the precision error here for the float tokenizer\n",
    "sns.displot(df[\"age\"])\n",
    "plt.show()"
   ],
   "metadata": {
    "collapsed": false,
    "ExecuteTime": {
     "end_time": "2024-06-22T14:42:41.107072Z",
     "start_time": "2024-06-22T14:42:40.926626Z"
    }
   },
   "id": "2522f79551fb5162"
  },
  {
   "cell_type": "code",
   "execution_count": 23,
   "outputs": [
    {
     "name": "stdout",
     "output_type": "stream",
     "text": [
      "[21818, 21821, 21835, 21849, 21858] 20.001860322372632\n",
      "[21818, 21822, 21836, 21842, 21857] 13.00121164439984\n"
     ]
    }
   ],
   "source": [
    "# precision error if likely in the distribution\n",
    "age = 20\n",
    "encoded_age = col_code.encode(\"age\",age)\n",
    "decoded_age = col_code.decode(\"age\",encoded_age)\n",
    "print(encoded_age,decoded_age)\n",
    "\n",
    "# if not in the distribution\n",
    "age = 13\n",
    "encoded_age = col_code.encode(\"age\",age)\n",
    "decoded_age = col_code.decode(\"age\",encoded_age)\n",
    "print(encoded_age,decoded_age)\n"
   ],
   "metadata": {
    "collapsed": false,
    "ExecuteTime": {
     "end_time": "2024-06-22T14:45:37.447162Z",
     "start_time": "2024-06-22T14:45:37.440075Z"
    }
   },
   "id": "601c5f8a0e1374c3"
  },
  {
   "cell_type": "code",
   "execution_count": 27,
   "outputs": [
    {
     "name": "stdout",
     "output_type": "stream",
     "text": [
      "blank           -> 1 tokens\n",
      "start           -> 1 tokens\n",
      "workclass       -> 1 tokens\n",
      "education       -> 1 tokens\n",
      "marital_status  -> 1 tokens\n",
      "occupation      -> 1 tokens\n",
      "relationship    -> 1 tokens\n",
      "race            -> 1 tokens\n",
      "sex             -> 1 tokens\n",
      "native_country  -> 1 tokens\n",
      "income          -> 1 tokens\n",
      "fnlwgt          -> 1 tokens\n",
      "capital_loss    -> 4 tokens\n",
      "capital_gain    -> 4 tokens\n",
      "age             -> 5 tokens\n",
      "hours_per_week  -> 5 tokens\n",
      "education_num   -> 5 tokens\n",
      "end             -> 1 tokens\n"
     ]
    }
   ],
   "source": [
    "# token sizes\n",
    "for col_name , size in zip( col_code.columns , col_code.sizes):\n",
    "    print(f\"{col_name:15} -> {size} tokens\")"
   ],
   "metadata": {
    "collapsed": false,
    "ExecuteTime": {
     "end_time": "2024-06-22T14:47:16.384682Z",
     "start_time": "2024-06-22T14:47:16.370587Z"
    }
   },
   "id": "7e4d90678fcb84c8"
  },
  {
   "cell_type": "code",
   "execution_count": 12,
   "outputs": [
    {
     "data": {
      "text/plain": "torch.Size([32561, 36])"
     },
     "execution_count": 12,
     "metadata": {},
     "output_type": "execute_result"
    }
   ],
   "source": [
    "encoded_docs = torch.tensor(encoded_docs)\n",
    "encoded_docs.shape"
   ],
   "metadata": {
    "collapsed": false,
    "ExecuteTime": {
     "end_time": "2024-06-22T14:37:02.398574Z",
     "start_time": "2024-06-22T14:37:02.388792Z"
    }
   },
   "id": "4903277ce924ce69"
  },
  {
   "cell_type": "code",
   "execution_count": 28,
   "outputs": [
    {
     "data": {
      "text/plain": "tensor([[    0,     1,     2,  ..., 21930, 21938, 21944],\n        [    0,     1,     3,  ..., 21930, 21938, 21944],\n        [    0,     1,     2,  ..., 21931, 21939, 21944],\n        ...,\n        [    0,     1,     3,  ..., 21930, 21938, 21944],\n        [    0,     1,     3,  ..., 21930, 21938, 21944],\n        [    0,     1,     3,  ..., 21930, 21938, 21944]])"
     },
     "execution_count": 28,
     "metadata": {},
     "output_type": "execute_result"
    }
   ],
   "source": [
    "encoded_docs"
   ],
   "metadata": {
    "collapsed": false,
    "ExecuteTime": {
     "end_time": "2024-06-22T14:49:15.874624Z",
     "start_time": "2024-06-22T14:49:15.867513Z"
    }
   },
   "id": "24b6f07dae6df2d9"
  },
  {
   "cell_type": "code",
   "execution_count": 29,
   "outputs": [],
   "source": [
    "torch.save(encoded_docs,\"encoded_vars/encoded_docs_income.pt\")"
   ],
   "metadata": {
    "collapsed": false,
    "ExecuteTime": {
     "end_time": "2024-06-22T14:50:04.937257Z",
     "start_time": "2024-06-22T14:50:04.931590Z"
    }
   },
   "id": "a200d22c542dce80"
  },
  {
   "cell_type": "code",
   "execution_count": 30,
   "outputs": [],
   "source": [
    "token_vars = {'col_code': col_code, 'df': df, 'tokenizer': tokenizer}\n",
    "\n",
    "with open('encoded_vars/token_vars_income.pkl', 'wb') as file:\n",
    "    pickle.dump(token_vars, file)"
   ],
   "metadata": {
    "collapsed": false,
    "ExecuteTime": {
     "end_time": "2024-06-22T14:50:11.324932Z",
     "start_time": "2024-06-22T14:50:11.296204Z"
    }
   },
   "id": "fb5e0f920962135"
  }
 ],
 "metadata": {
  "kernelspec": {
   "display_name": "Python 3",
   "language": "python",
   "name": "python3"
  },
  "language_info": {
   "codemirror_mode": {
    "name": "ipython",
    "version": 2
   },
   "file_extension": ".py",
   "mimetype": "text/x-python",
   "name": "python",
   "nbconvert_exporter": "python",
   "pygments_lexer": "ipython2",
   "version": "2.7.6"
  }
 },
 "nbformat": 4,
 "nbformat_minor": 5
}
