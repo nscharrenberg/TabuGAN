{
 "cells": [
  {
   "cell_type": "code",
   "execution_count": 1,
   "id": "initial_id",
   "metadata": {
    "collapsed": true,
    "ExecuteTime": {
     "end_time": "2024-06-12T10:41:21.621388Z",
     "start_time": "2024-06-12T10:41:20.084866Z"
    }
   },
   "outputs": [],
   "source": [
    "import torch\n",
    "import torch.nn as nn\n",
    "\n",
    "import numpy as np , pandas as pd\n",
    "import matplotlib.pyplot as plt\n",
    "import configparser\n",
    "\n",
    "import pickle\n"
   ]
  },
  {
   "cell_type": "code",
   "execution_count": 2,
   "outputs": [
    {
     "data": {
      "text/plain": "{'vocab_length': 21979,\n 'n_embed': 992,\n 'n_heads': 31,\n 'context_window': 38,\n 'transformer_blocks': 2,\n 'batch_size': 32,\n 'random_seed': 123,\n 'val_split': 20,\n 'test_split': 10}"
     },
     "execution_count": 2,
     "metadata": {},
     "output_type": "execute_result"
    }
   ],
   "source": [
    "config = configparser.ConfigParser()\n",
    "config.read('settings.ini')\n",
    "\n",
    "config= {key: int(value) for key, value in config['INCOME_DATASET'].items()}\n",
    "config"
   ],
   "metadata": {
    "collapsed": false,
    "ExecuteTime": {
     "end_time": "2024-06-12T10:41:21.630111Z",
     "start_time": "2024-06-12T10:41:21.622321Z"
    }
   },
   "id": "b160d82ef832db7"
  },
  {
   "cell_type": "code",
   "execution_count": 3,
   "outputs": [],
   "source": [
    "from local_utils import tokenize_dataset , read_dataset , decoder"
   ],
   "metadata": {
    "collapsed": false,
    "ExecuteTime": {
     "end_time": "2024-06-12T10:41:22.148375Z",
     "start_time": "2024-06-12T10:41:21.627140Z"
    }
   },
   "id": "a35e8c88d9ec6620"
  },
  {
   "cell_type": "code",
   "execution_count": 4,
   "outputs": [],
   "source": [
    "df = pd.read_csv(\"../../datasets/income/adult.csv\")"
   ],
   "metadata": {
    "collapsed": false,
    "ExecuteTime": {
     "end_time": "2024-06-12T10:41:22.186893Z",
     "start_time": "2024-06-12T10:41:22.149124Z"
    }
   },
   "id": "e5fdbcfc4dcc1558"
  },
  {
   "cell_type": "code",
   "execution_count": 5,
   "outputs": [
    {
     "data": {
      "text/plain": "         start  age workclass  fnlwgt     education  education_num  \\\n0      <start>   90         ?   77053       HS-grad              9   \n1      <start>   82   Private  132870       HS-grad              9   \n2      <start>   66         ?  186061  Some-college             10   \n3      <start>   54   Private  140359       7th-8th              4   \n4      <start>   41   Private  264663  Some-college             10   \n...        ...  ...       ...     ...           ...            ...   \n32556  <start>   22   Private  310152  Some-college             10   \n32557  <start>   27   Private  257302    Assoc-acdm             12   \n32558  <start>   40   Private  154374       HS-grad              9   \n32559  <start>   58   Private  151910       HS-grad              9   \n32560  <start>   22   Private  201490       HS-grad              9   \n\n           marital_status         occupation   relationship   race     sex  \\\n0                 Widowed                  ?  Not-in-family  White  Female   \n1                 Widowed    Exec-managerial  Not-in-family  White  Female   \n2                 Widowed                  ?      Unmarried  Black  Female   \n3                Divorced  Machine-op-inspct      Unmarried  White  Female   \n4               Separated     Prof-specialty      Own-child  White  Female   \n...                   ...                ...            ...    ...     ...   \n32556       Never-married    Protective-serv  Not-in-family  White    Male   \n32557  Married-civ-spouse       Tech-support           Wife  White  Female   \n32558  Married-civ-spouse  Machine-op-inspct        Husband  White    Male   \n32559             Widowed       Adm-clerical      Unmarried  White  Female   \n32560       Never-married       Adm-clerical      Own-child  White    Male   \n\n       capital_gain  capital_loss  hours_per_week native_country income    end  \n0                 0          4356              40  United-States  <=50K  <end>  \n1                 0          4356              18  United-States  <=50K  <end>  \n2                 0          4356              40  United-States  <=50K  <end>  \n3                 0          3900              40  United-States  <=50K  <end>  \n4                 0          3900              40  United-States  <=50K  <end>  \n...             ...           ...             ...            ...    ...    ...  \n32556             0             0              40  United-States  <=50K  <end>  \n32557             0             0              38  United-States  <=50K  <end>  \n32558             0             0              40  United-States   >50K  <end>  \n32559             0             0              40  United-States  <=50K  <end>  \n32560             0             0              20  United-States  <=50K  <end>  \n\n[32561 rows x 17 columns]",
      "text/html": "<div>\n<style scoped>\n    .dataframe tbody tr th:only-of-type {\n        vertical-align: middle;\n    }\n\n    .dataframe tbody tr th {\n        vertical-align: top;\n    }\n\n    .dataframe thead th {\n        text-align: right;\n    }\n</style>\n<table border=\"1\" class=\"dataframe\">\n  <thead>\n    <tr style=\"text-align: right;\">\n      <th></th>\n      <th>start</th>\n      <th>age</th>\n      <th>workclass</th>\n      <th>fnlwgt</th>\n      <th>education</th>\n      <th>education_num</th>\n      <th>marital_status</th>\n      <th>occupation</th>\n      <th>relationship</th>\n      <th>race</th>\n      <th>sex</th>\n      <th>capital_gain</th>\n      <th>capital_loss</th>\n      <th>hours_per_week</th>\n      <th>native_country</th>\n      <th>income</th>\n      <th>end</th>\n    </tr>\n  </thead>\n  <tbody>\n    <tr>\n      <th>0</th>\n      <td>&lt;start&gt;</td>\n      <td>90</td>\n      <td>?</td>\n      <td>77053</td>\n      <td>HS-grad</td>\n      <td>9</td>\n      <td>Widowed</td>\n      <td>?</td>\n      <td>Not-in-family</td>\n      <td>White</td>\n      <td>Female</td>\n      <td>0</td>\n      <td>4356</td>\n      <td>40</td>\n      <td>United-States</td>\n      <td>&lt;=50K</td>\n      <td>&lt;end&gt;</td>\n    </tr>\n    <tr>\n      <th>1</th>\n      <td>&lt;start&gt;</td>\n      <td>82</td>\n      <td>Private</td>\n      <td>132870</td>\n      <td>HS-grad</td>\n      <td>9</td>\n      <td>Widowed</td>\n      <td>Exec-managerial</td>\n      <td>Not-in-family</td>\n      <td>White</td>\n      <td>Female</td>\n      <td>0</td>\n      <td>4356</td>\n      <td>18</td>\n      <td>United-States</td>\n      <td>&lt;=50K</td>\n      <td>&lt;end&gt;</td>\n    </tr>\n    <tr>\n      <th>2</th>\n      <td>&lt;start&gt;</td>\n      <td>66</td>\n      <td>?</td>\n      <td>186061</td>\n      <td>Some-college</td>\n      <td>10</td>\n      <td>Widowed</td>\n      <td>?</td>\n      <td>Unmarried</td>\n      <td>Black</td>\n      <td>Female</td>\n      <td>0</td>\n      <td>4356</td>\n      <td>40</td>\n      <td>United-States</td>\n      <td>&lt;=50K</td>\n      <td>&lt;end&gt;</td>\n    </tr>\n    <tr>\n      <th>3</th>\n      <td>&lt;start&gt;</td>\n      <td>54</td>\n      <td>Private</td>\n      <td>140359</td>\n      <td>7th-8th</td>\n      <td>4</td>\n      <td>Divorced</td>\n      <td>Machine-op-inspct</td>\n      <td>Unmarried</td>\n      <td>White</td>\n      <td>Female</td>\n      <td>0</td>\n      <td>3900</td>\n      <td>40</td>\n      <td>United-States</td>\n      <td>&lt;=50K</td>\n      <td>&lt;end&gt;</td>\n    </tr>\n    <tr>\n      <th>4</th>\n      <td>&lt;start&gt;</td>\n      <td>41</td>\n      <td>Private</td>\n      <td>264663</td>\n      <td>Some-college</td>\n      <td>10</td>\n      <td>Separated</td>\n      <td>Prof-specialty</td>\n      <td>Own-child</td>\n      <td>White</td>\n      <td>Female</td>\n      <td>0</td>\n      <td>3900</td>\n      <td>40</td>\n      <td>United-States</td>\n      <td>&lt;=50K</td>\n      <td>&lt;end&gt;</td>\n    </tr>\n    <tr>\n      <th>...</th>\n      <td>...</td>\n      <td>...</td>\n      <td>...</td>\n      <td>...</td>\n      <td>...</td>\n      <td>...</td>\n      <td>...</td>\n      <td>...</td>\n      <td>...</td>\n      <td>...</td>\n      <td>...</td>\n      <td>...</td>\n      <td>...</td>\n      <td>...</td>\n      <td>...</td>\n      <td>...</td>\n      <td>...</td>\n    </tr>\n    <tr>\n      <th>32556</th>\n      <td>&lt;start&gt;</td>\n      <td>22</td>\n      <td>Private</td>\n      <td>310152</td>\n      <td>Some-college</td>\n      <td>10</td>\n      <td>Never-married</td>\n      <td>Protective-serv</td>\n      <td>Not-in-family</td>\n      <td>White</td>\n      <td>Male</td>\n      <td>0</td>\n      <td>0</td>\n      <td>40</td>\n      <td>United-States</td>\n      <td>&lt;=50K</td>\n      <td>&lt;end&gt;</td>\n    </tr>\n    <tr>\n      <th>32557</th>\n      <td>&lt;start&gt;</td>\n      <td>27</td>\n      <td>Private</td>\n      <td>257302</td>\n      <td>Assoc-acdm</td>\n      <td>12</td>\n      <td>Married-civ-spouse</td>\n      <td>Tech-support</td>\n      <td>Wife</td>\n      <td>White</td>\n      <td>Female</td>\n      <td>0</td>\n      <td>0</td>\n      <td>38</td>\n      <td>United-States</td>\n      <td>&lt;=50K</td>\n      <td>&lt;end&gt;</td>\n    </tr>\n    <tr>\n      <th>32558</th>\n      <td>&lt;start&gt;</td>\n      <td>40</td>\n      <td>Private</td>\n      <td>154374</td>\n      <td>HS-grad</td>\n      <td>9</td>\n      <td>Married-civ-spouse</td>\n      <td>Machine-op-inspct</td>\n      <td>Husband</td>\n      <td>White</td>\n      <td>Male</td>\n      <td>0</td>\n      <td>0</td>\n      <td>40</td>\n      <td>United-States</td>\n      <td>&gt;50K</td>\n      <td>&lt;end&gt;</td>\n    </tr>\n    <tr>\n      <th>32559</th>\n      <td>&lt;start&gt;</td>\n      <td>58</td>\n      <td>Private</td>\n      <td>151910</td>\n      <td>HS-grad</td>\n      <td>9</td>\n      <td>Widowed</td>\n      <td>Adm-clerical</td>\n      <td>Unmarried</td>\n      <td>White</td>\n      <td>Female</td>\n      <td>0</td>\n      <td>0</td>\n      <td>40</td>\n      <td>United-States</td>\n      <td>&lt;=50K</td>\n      <td>&lt;end&gt;</td>\n    </tr>\n    <tr>\n      <th>32560</th>\n      <td>&lt;start&gt;</td>\n      <td>22</td>\n      <td>Private</td>\n      <td>201490</td>\n      <td>HS-grad</td>\n      <td>9</td>\n      <td>Never-married</td>\n      <td>Adm-clerical</td>\n      <td>Own-child</td>\n      <td>White</td>\n      <td>Male</td>\n      <td>0</td>\n      <td>0</td>\n      <td>20</td>\n      <td>United-States</td>\n      <td>&lt;=50K</td>\n      <td>&lt;end&gt;</td>\n    </tr>\n  </tbody>\n</table>\n<p>32561 rows × 17 columns</p>\n</div>"
     },
     "execution_count": 5,
     "metadata": {},
     "output_type": "execute_result"
    }
   ],
   "source": [
    "df = read_dataset(df)\n",
    "df"
   ],
   "metadata": {
    "collapsed": false,
    "ExecuteTime": {
     "end_time": "2024-06-12T10:41:22.202333Z",
     "start_time": "2024-06-12T10:41:22.188952Z"
    }
   },
   "id": "bae2093586fab6db"
  },
  {
   "cell_type": "code",
   "execution_count": 6,
   "outputs": [
    {
     "name": "stdout",
     "output_type": "stream",
     "text": [
      "\n",
      "    _______________________________ \n",
      "    / Tokenizing your dataset       \\\n",
      "    \\     > This might take a while /\n",
      "    ------------------------------- \n",
      "           \\   ^__^\n",
      "            \\  (oo)\\_______\n",
      "               (__)\\       )\\/\\\n",
      "                   ||----w |\n",
      "                   ||     ||\n",
      "    \n"
     ]
    }
   ],
   "source": [
    "tokenizer , col_code , encoded_docs = tokenize_dataset(df)"
   ],
   "metadata": {
    "collapsed": false,
    "ExecuteTime": {
     "end_time": "2024-06-12T10:41:24.112590Z",
     "start_time": "2024-06-12T10:41:22.200198Z"
    }
   },
   "id": "62a581ef9118de1a"
  },
  {
   "cell_type": "code",
   "execution_count": 7,
   "outputs": [
    {
     "name": "stdout",
     "output_type": "stream",
     "text": [
      "encoded docs example : [0, 25, 14, 1, 26, 35, 21683, 21716, 21707, 21705, 21717, 21724, 21739, 21745, 21750, 21830, 21822, 21812, 21802, 21792, 21782, 21772, 21762, 21752, 21906, 21895, 21889, 21881, 21867, 21855, 21851, 21832, 21930, 21923, 21915, 21932, 21974, 21976]\n",
      "Decoded : ['<start>', '89.69979', '?', '77053', 'HS-grad', '8.93521', 'Widowed', '?', 'Not-in-family', 'White', 'Female', '0.00000', '4355.99989', '39.64639', 'United-States', '<=50K', '<end>']\n"
     ]
    }
   ],
   "source": [
    "# heres how to decode ...\n",
    "print(f\"encoded docs example : {encoded_docs[0]}\")\n",
    "decoded_eg = decoder(encoded_docs[0],df,col_code)\n",
    "print(f\"Decoded : {decoded_eg}\")"
   ],
   "metadata": {
    "collapsed": false,
    "ExecuteTime": {
     "end_time": "2024-06-12T10:41:24.117867Z",
     "start_time": "2024-06-12T10:41:24.113137Z"
    }
   },
   "id": "334749e37b426078"
  },
  {
   "cell_type": "code",
   "execution_count": 8,
   "outputs": [
    {
     "data": {
      "text/plain": "torch.Size([32561, 38])"
     },
     "execution_count": 8,
     "metadata": {},
     "output_type": "execute_result"
    }
   ],
   "source": [
    "encoded_docs = torch.tensor(encoded_docs)\n",
    "encoded_docs.shape"
   ],
   "metadata": {
    "collapsed": false,
    "ExecuteTime": {
     "end_time": "2024-06-12T10:41:24.250759Z",
     "start_time": "2024-06-12T10:41:24.115196Z"
    }
   },
   "id": "4903277ce924ce69"
  },
  {
   "cell_type": "code",
   "execution_count": 9,
   "outputs": [],
   "source": [
    "torch.save(encoded_docs,\"encoded_vars/encoded_docs_income.pt\")"
   ],
   "metadata": {
    "collapsed": false,
    "ExecuteTime": {
     "end_time": "2024-06-12T10:41:24.282849Z",
     "start_time": "2024-06-12T10:41:24.267152Z"
    }
   },
   "id": "a200d22c542dce80"
  },
  {
   "cell_type": "code",
   "execution_count": 10,
   "outputs": [],
   "source": [
    "token_vars = {'col_code': col_code, 'df': df, 'tokenizer': tokenizer}\n",
    "\n",
    "with open('encoded_vars/token_vars_income.pkl', 'wb') as file:\n",
    "    pickle.dump(token_vars, file)"
   ],
   "metadata": {
    "collapsed": false,
    "ExecuteTime": {
     "end_time": "2024-06-12T10:41:24.289846Z",
     "start_time": "2024-06-12T10:41:24.269803Z"
    }
   },
   "id": "fb5e0f920962135"
  },
  {
   "cell_type": "code",
   "execution_count": 11,
   "outputs": [],
   "source": [
    "# make train - test split here\n",
    "gen =torch.Generator()\n",
    "gen.manual_seed(config[\"random_seed\"])\n",
    "# Shuffle the rows of the tensor\n",
    "shuffled_indices = torch.randperm(encoded_docs.size(0),generator=gen)\n",
    "shuffled_tensor = encoded_docs[shuffled_indices]"
   ],
   "metadata": {
    "collapsed": false,
    "ExecuteTime": {
     "end_time": "2024-06-12T10:41:24.297298Z",
     "start_time": "2024-06-12T10:41:24.288770Z"
    }
   },
   "id": "b6ec905ce37264b"
  },
  {
   "cell_type": "code",
   "execution_count": 12,
   "outputs": [
    {
     "data": {
      "text/plain": "tensor(False)"
     },
     "execution_count": 12,
     "metadata": {},
     "output_type": "execute_result"
    }
   ],
   "source": [
    "torch.all(shuffled_tensor == encoded_docs)"
   ],
   "metadata": {
    "collapsed": false,
    "ExecuteTime": {
     "end_time": "2024-06-12T10:41:24.303968Z",
     "start_time": "2024-06-12T10:41:24.296900Z"
    }
   },
   "id": "9339f12e8820da1d"
  },
  {
   "cell_type": "code",
   "execution_count": 13,
   "outputs": [
    {
     "name": "stdout",
     "output_type": "stream",
     "text": [
      "Train size 22792 22792\n",
      "Remaining : 9769\n",
      "Valid size : 8792\n",
      "Test size : 977\n"
     ]
    }
   ],
   "source": [
    "# just use sklearn train_test_split smh\n",
    "train_size = int((100 - config[\"val_split\"] - config[\"test_split\"]) * 0.01 * shuffled_tensor.shape[0])\n",
    "splits= shuffled_tensor.split(train_size,0)\n",
    "train_set = splits[0]\n",
    "print(\"Train size\",len(train_set), train_size)\n",
    "\n",
    "print(f\"Remaining : {len(splits[1])}\")\n",
    "valid_size = int(len(splits[1]) * (1-config[\"test_split\"]/100))\n",
    "valid_set, test_set =  splits[1].split(valid_size,0)\n",
    "print(f\"Valid size : {len(valid_set)}\")\n",
    "print(f\"Test size : {len(test_set)}\")\n",
    "\n"
   ],
   "metadata": {
    "collapsed": false,
    "ExecuteTime": {
     "end_time": "2024-06-12T10:41:24.327714Z",
     "start_time": "2024-06-12T10:41:24.304287Z"
    }
   },
   "id": "6238d0fabb3f6aab"
  },
  {
   "cell_type": "code",
   "execution_count": 14,
   "outputs": [],
   "source": [
    "torch.save(train_set,\"encoded_vars/train_set.pt\")"
   ],
   "metadata": {
    "collapsed": false,
    "ExecuteTime": {
     "end_time": "2024-06-12T10:41:24.334909Z",
     "start_time": "2024-06-12T10:41:24.326426Z"
    }
   },
   "id": "efa2c74f431fcd59"
  },
  {
   "cell_type": "code",
   "execution_count": 15,
   "outputs": [],
   "source": [
    "torch.save(valid_set,\"encoded_vars/valid_set.pt\")"
   ],
   "metadata": {
    "collapsed": false,
    "ExecuteTime": {
     "end_time": "2024-06-12T10:41:24.346383Z",
     "start_time": "2024-06-12T10:41:24.344579Z"
    }
   },
   "id": "dea0f7d0ad3ba608"
  },
  {
   "cell_type": "code",
   "execution_count": 16,
   "outputs": [],
   "source": [
    "torch.save(test_set,\"encoded_vars/test_split.pt\")"
   ],
   "metadata": {
    "collapsed": false,
    "ExecuteTime": {
     "end_time": "2024-06-12T10:41:24.369659Z",
     "start_time": "2024-06-12T10:41:24.368062Z"
    }
   },
   "id": "1e33f96b4dd3902b"
  },
  {
   "cell_type": "code",
   "execution_count": 16,
   "outputs": [],
   "source": [],
   "metadata": {
    "collapsed": false,
    "ExecuteTime": {
     "end_time": "2024-06-12T10:41:24.375348Z",
     "start_time": "2024-06-12T10:41:24.370178Z"
    }
   },
   "id": "eba9098f922ee670"
  }
 ],
 "metadata": {
  "kernelspec": {
   "display_name": "Python 3",
   "language": "python",
   "name": "python3"
  },
  "language_info": {
   "codemirror_mode": {
    "name": "ipython",
    "version": 2
   },
   "file_extension": ".py",
   "mimetype": "text/x-python",
   "name": "python",
   "nbconvert_exporter": "python",
   "pygments_lexer": "ipython2",
   "version": "2.7.6"
  }
 },
 "nbformat": 4,
 "nbformat_minor": 5
}
